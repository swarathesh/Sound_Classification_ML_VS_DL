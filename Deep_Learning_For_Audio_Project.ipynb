{
  "nbformat": 4,
  "nbformat_minor": 0,
  "metadata": {
    "accelerator": "GPU",
    "colab": {
      "name": " Deep_Learning_For_Audio_Project.ipynb",
      "provenance": [],
      "collapsed_sections": [],
      "include_colab_link": true
    },
    "kernelspec": {
      "display_name": "Python 3",
      "language": "python",
      "name": "python3"
    },
    "language_info": {
      "codemirror_mode": {
        "name": "ipython",
        "version": 3
      },
      "file_extension": ".py",
      "mimetype": "text/x-python",
      "name": "python",
      "nbconvert_exporter": "python",
      "pygments_lexer": "ipython3",
      "version": "3.6.8"
    }
  },
  "cells": [
    {
      "cell_type": "markdown",
      "metadata": {
        "id": "view-in-github",
        "colab_type": "text"
      },
      "source": [
        "<a href=\"https://colab.research.google.com/github/swarathesh/Sound_Classification_ML_VS_DL/blob/master/Deep_Learning_For_Audio_Project.ipynb\" target=\"_parent\"><img src=\"https://colab.research.google.com/assets/colab-badge.svg\" alt=\"Open In Colab\"/></a>"
      ]
    },
    {
      "cell_type": "code",
      "metadata": {
        "id": "mAU2aCL_YNZR",
        "colab_type": "code",
        "colab": {
          "base_uri": "https://localhost:8080/",
          "height": 819
        },
        "outputId": "bae8e1e8-5d54-4965-c068-b885cc18974b"
      },
      "source": [
        "!pip install tensorflow-gpu==1.15"
      ],
      "execution_count": null,
      "outputs": [
        {
          "output_type": "stream",
          "text": [
            "Collecting tensorflow-gpu==1.15\n",
            "\u001b[?25l  Downloading https://files.pythonhosted.org/packages/a5/ad/933140e74973fb917a194ab814785e7c23680ca5dee6d663a509fe9579b6/tensorflow_gpu-1.15.0-cp36-cp36m-manylinux2010_x86_64.whl (411.5MB)\n",
            "\u001b[K     |████████████████████████████████| 411.5MB 41kB/s \n",
            "\u001b[?25hRequirement already satisfied: six>=1.10.0 in /usr/local/lib/python3.6/dist-packages (from tensorflow-gpu==1.15) (1.12.0)\n",
            "Requirement already satisfied: keras-preprocessing>=1.0.5 in /usr/local/lib/python3.6/dist-packages (from tensorflow-gpu==1.15) (1.1.0)\n",
            "Requirement already satisfied: absl-py>=0.7.0 in /usr/local/lib/python3.6/dist-packages (from tensorflow-gpu==1.15) (0.9.0)\n",
            "Requirement already satisfied: keras-applications>=1.0.8 in /usr/local/lib/python3.6/dist-packages (from tensorflow-gpu==1.15) (1.0.8)\n",
            "Collecting tensorflow-estimator==1.15.1\n",
            "\u001b[?25l  Downloading https://files.pythonhosted.org/packages/de/62/2ee9cd74c9fa2fa450877847ba560b260f5d0fb70ee0595203082dafcc9d/tensorflow_estimator-1.15.1-py2.py3-none-any.whl (503kB)\n",
            "\u001b[K     |████████████████████████████████| 512kB 28.5MB/s \n",
            "\u001b[?25hRequirement already satisfied: opt-einsum>=2.3.2 in /usr/local/lib/python3.6/dist-packages (from tensorflow-gpu==1.15) (3.2.0)\n",
            "Requirement already satisfied: numpy<2.0,>=1.16.0 in /usr/local/lib/python3.6/dist-packages (from tensorflow-gpu==1.15) (1.18.2)\n",
            "Requirement already satisfied: protobuf>=3.6.1 in /usr/local/lib/python3.6/dist-packages (from tensorflow-gpu==1.15) (3.10.0)\n",
            "Requirement already satisfied: gast==0.2.2 in /usr/local/lib/python3.6/dist-packages (from tensorflow-gpu==1.15) (0.2.2)\n",
            "Collecting tensorboard<1.16.0,>=1.15.0\n",
            "\u001b[?25l  Downloading https://files.pythonhosted.org/packages/1e/e9/d3d747a97f7188f48aa5eda486907f3b345cd409f0a0850468ba867db246/tensorboard-1.15.0-py3-none-any.whl (3.8MB)\n",
            "\u001b[K     |████████████████████████████████| 3.8MB 34.4MB/s \n",
            "\u001b[?25hRequirement already satisfied: astor>=0.6.0 in /usr/local/lib/python3.6/dist-packages (from tensorflow-gpu==1.15) (0.8.1)\n",
            "Requirement already satisfied: wrapt>=1.11.1 in /usr/local/lib/python3.6/dist-packages (from tensorflow-gpu==1.15) (1.12.1)\n",
            "Requirement already satisfied: wheel>=0.26 in /usr/local/lib/python3.6/dist-packages (from tensorflow-gpu==1.15) (0.34.2)\n",
            "Requirement already satisfied: termcolor>=1.1.0 in /usr/local/lib/python3.6/dist-packages (from tensorflow-gpu==1.15) (1.1.0)\n",
            "Requirement already satisfied: grpcio>=1.8.6 in /usr/local/lib/python3.6/dist-packages (from tensorflow-gpu==1.15) (1.27.2)\n",
            "Requirement already satisfied: google-pasta>=0.1.6 in /usr/local/lib/python3.6/dist-packages (from tensorflow-gpu==1.15) (0.2.0)\n",
            "Requirement already satisfied: h5py in /usr/local/lib/python3.6/dist-packages (from keras-applications>=1.0.8->tensorflow-gpu==1.15) (2.10.0)\n",
            "Requirement already satisfied: setuptools in /usr/local/lib/python3.6/dist-packages (from protobuf>=3.6.1->tensorflow-gpu==1.15) (46.0.0)\n",
            "Requirement already satisfied: werkzeug>=0.11.15 in /usr/local/lib/python3.6/dist-packages (from tensorboard<1.16.0,>=1.15.0->tensorflow-gpu==1.15) (1.0.0)\n",
            "Requirement already satisfied: markdown>=2.6.8 in /usr/local/lib/python3.6/dist-packages (from tensorboard<1.16.0,>=1.15.0->tensorflow-gpu==1.15) (3.2.1)\n",
            "\u001b[31mERROR: tensorflow 2.2.0rc2 has requirement gast==0.3.3, but you'll have gast 0.2.2 which is incompatible.\u001b[0m\n",
            "\u001b[31mERROR: tensorflow 2.2.0rc2 has requirement tensorboard<2.3.0,>=2.2.0, but you'll have tensorboard 1.15.0 which is incompatible.\u001b[0m\n",
            "\u001b[31mERROR: tensorflow 2.2.0rc2 has requirement tensorflow-estimator<2.3.0,>=2.2.0rc0, but you'll have tensorflow-estimator 1.15.1 which is incompatible.\u001b[0m\n",
            "Installing collected packages: tensorflow-estimator, tensorboard, tensorflow-gpu\n",
            "  Found existing installation: tensorflow-estimator 2.1.0\n",
            "    Uninstalling tensorflow-estimator-2.1.0:\n",
            "      Successfully uninstalled tensorflow-estimator-2.1.0\n",
            "  Found existing installation: tensorboard 2.1.1\n",
            "    Uninstalling tensorboard-2.1.1:\n",
            "      Successfully uninstalled tensorboard-2.1.1\n",
            "  Found existing installation: tensorflow-gpu 2.1.0\n",
            "    Uninstalling tensorflow-gpu-2.1.0:\n",
            "      Successfully uninstalled tensorflow-gpu-2.1.0\n",
            "Successfully installed tensorboard-1.15.0 tensorflow-estimator-1.15.1 tensorflow-gpu-1.15.0\n"
          ],
          "name": "stdout"
        },
        {
          "output_type": "display_data",
          "data": {
            "application/vnd.colab-display-data+json": {
              "pip_warning": {
                "packages": [
                  "tensorboard",
                  "tensorflow",
                  "tensorflow_core",
                  "tensorflow_estimator"
                ]
              }
            }
          },
          "metadata": {
            "tags": []
          }
        }
      ]
    },
    {
      "cell_type": "code",
      "metadata": {
        "colab_type": "code",
        "id": "_TZXrWYiNqCj",
        "colab": {}
      },
      "source": [
        "import pandas as pd\n",
        "import csv\n",
        "from sklearn import preprocessing\n",
        "\n",
        "def preProcessData(csvFileName):\n",
        "    print(csvFileName+ \" will be preprocessed\")\n",
        "    data = pd.read_csv(csvFileName)\n",
        " \n",
        "    filenameArray = data['filename'] \n",
        "    speakerArray = []\n",
        "    #print(filenameArray)\n",
        "    for i in range(len(filenameArray)):\n",
        "        speaker = filenameArray[i][2]\n",
        "        #print(speaker)\n",
        "        if speaker == \"j\":\n",
        "            speaker = \"0\"\n",
        "        elif speaker == \"n\":\n",
        "            speaker = \"1\"\n",
        "        elif speaker == \"t\":\n",
        "            speaker = \"2\"\n",
        "        elif speaker == \"a\":\n",
        "            speaker = \"3\"\n",
        "        elif speaker == \"c\":\n",
        "            speaker = \"4\"\n",
        "        elif speaker == \"r\":\n",
        "            speaker = \"5\"\n",
        "        else: \n",
        "            speaker = \"6\"\n",
        "        #print(speaker)\n",
        "        speakerArray.append(speaker)\n",
        "    data['number'] = speakerArray\n",
        "    #Dropping unnecessary columns\n",
        "    data = data.drop(['filename'],axis=1)\n",
        "    data = data.drop(['label'],axis=1)\n",
        "    data = data.drop(['chroma_stft'],axis=1)\n",
        "    data.shape\n",
        "\n",
        "    print(\"Preprocessing is finished\")\n",
        "    print(data.head())\n",
        "    return data\n",
        "\n",
        "\n",
        "\n"
      ],
      "execution_count": null,
      "outputs": []
    },
    {
      "cell_type": "code",
      "metadata": {
        "id": "xgoGInoPbu8X",
        "colab_type": "code",
        "colab": {
          "base_uri": "https://localhost:8080/",
          "height": 187
        },
        "outputId": "30e19d8f-5e4b-4bc2-a36a-fc3fc6ea9d54"
      },
      "source": [
        "trainData = preProcessData('./train.csv')\n"
      ],
      "execution_count": null,
      "outputs": [
        {
          "output_type": "stream",
          "text": [
            "./train.csv will be preprocessed\n",
            "Preprocessing is finished\n",
            "   Unnamed: 0      rmse  spectral_centroid  ...    mfcc19     mfcc20  number\n",
            "0           0  0.112672         741.829081  ...  2.881349 -15.627436       0\n",
            "1           1  0.090344         635.610880  ... -0.096359  -6.751650       0\n",
            "2           2  0.091456         667.786694  ...  6.857377  -9.067446       0\n",
            "3           3  0.087751         712.304185  ...  4.136240  -9.614882       0\n",
            "4           4  0.096603         844.363886  ...  5.026890  -5.346444       0\n",
            "\n",
            "[5 rows x 27 columns]\n"
          ],
          "name": "stdout"
        }
      ]
    },
    {
      "cell_type": "code",
      "metadata": {
        "id": "Yq_LgAyOcVU1",
        "colab_type": "code",
        "colab": {}
      },
      "source": [
        "import numpy as np"
      ],
      "execution_count": null,
      "outputs": []
    },
    {
      "cell_type": "markdown",
      "metadata": {
        "id": "58BQWKU4gYfF",
        "colab_type": "text"
      },
      "source": [
        "# DataSet PreProcessing:-\n",
        "* Train : 70%\n",
        "* Test: 30%\n"
      ]
    },
    {
      "cell_type": "code",
      "metadata": {
        "colab_type": "code",
        "id": "UEy6oG8RQmnN",
        "colab": {}
      },
      "source": [
        "from sklearn.model_selection import train_test_split\n",
        "X = np.array(trainData.iloc[:, :-1], dtype = float)\n",
        "y = trainData.iloc[:, -1]\n",
        "X_train, X_val, y_train, y_val = train_test_split(X, y, test_size=0.3, random_state=42)\n",
        "\n"
      ],
      "execution_count": null,
      "outputs": []
    },
    {
      "cell_type": "code",
      "metadata": {
        "colab_type": "code",
        "id": "S1o-OccqP5Ax",
        "colab": {
          "base_uri": "https://localhost:8080/",
          "height": 51
        },
        "outputId": "4ec76f98-081f-4f4d-f8f4-34b4bfc0d1d1"
      },
      "source": [
        "#Normalizing the dataset\n",
        "from sklearn.preprocessing import StandardScaler\n",
        "import numpy as np\n",
        "scaler = StandardScaler()\n",
        "X_train = scaler.fit_transform( X_train )\n",
        "X_val = scaler.transform( X_val )\n",
        "\n",
        "\n",
        "print(\"X from training data\", X_train.shape)\n",
        "print(\"X from validation data\", X_val.shape)\n",
        "\n"
      ],
      "execution_count": null,
      "outputs": [
        {
          "output_type": "stream",
          "text": [
            "X from training data (1050, 26)\n",
            "X from validation data (450, 26)\n"
          ],
          "name": "stdout"
        }
      ]
    },
    {
      "cell_type": "code",
      "metadata": {
        "id": "5HH8HxEmdA3H",
        "colab_type": "code",
        "colab": {
          "base_uri": "https://localhost:8080/",
          "height": 63
        },
        "outputId": "a0451ea3-df7f-4603-cac5-08aa7dd410fc"
      },
      "source": [
        "import os\n",
        "os.environ['TF_CPP_MIN_LOG_LEVEL'] = '3' \n",
        "import tensorflow as tf"
      ],
      "execution_count": null,
      "outputs": [
        {
          "output_type": "display_data",
          "data": {
            "text/html": [
              "<p style=\"color: red;\">\n",
              "The default version of TensorFlow in Colab will switch to TensorFlow 2.x on the 27th of March, 2020.<br>\n",
              "We recommend you <a href=\"https://www.tensorflow.org/guide/migrate\" target=\"_blank\">upgrade</a> now\n",
              "or ensure your notebook will continue to use TensorFlow 1.x via the <code>%tensorflow_version 1.x</code> magic:\n",
              "<a href=\"https://colab.research.google.com/notebooks/tensorflow_version.ipynb\" target=\"_blank\">more info</a>.</p>\n"
            ],
            "text/plain": [
              "<IPython.core.display.HTML object>"
            ]
          },
          "metadata": {
            "tags": []
          }
        }
      ]
    },
    {
      "cell_type": "code",
      "metadata": {
        "colab_type": "code",
        "id": "Q06tYXcdQZFp",
        "colab": {
          "base_uri": "https://localhost:8080/",
          "height": 309
        },
        "outputId": "8da6a18d-5b29-4046-c449-0478016fa6e6"
      },
      "source": [
        "#Creating a Model\n",
        "from keras import models\n",
        "from keras import layers\n",
        "import keras\n",
        "\n",
        "# model 1\n",
        "model = models.Sequential()\n",
        "model.add(layers.Dense(1024, activation='relu', input_shape=(X_train.shape[1],)))\n",
        "model.add(layers.Dropout(0.5))\n",
        "model.add(layers.Dense(512, activation='relu'))\n",
        "model.add(layers.Dropout(0.5))\n",
        "model.add(layers.Dense(256, activation='relu'))\n",
        "model.add(layers.Dropout(0.5))\n",
        "model.add(layers.Dense(128, activation='relu'))\n",
        "model.add(layers.Dropout(0.5))\n",
        "model.add(layers.Dense(64, activation='relu'))\n",
        "model.add(layers.Dropout(0.5))\n",
        "\n",
        "model.add(layers.Dense(16, activation='relu'))\n",
        "model.add(layers.Dropout(0.5))\n",
        "model.add(layers.Dense(10, activation='softmax'))\n",
        "\n",
        "# Learning Process of a model\n",
        "model.compile(optimizer='adam',\n",
        "              loss='sparse_categorical_crossentropy',\n",
        "              metrics=['accuracy'])\n",
        "\n"
      ],
      "execution_count": null,
      "outputs": [
        {
          "output_type": "stream",
          "text": [
            "WARNING:tensorflow:From /usr/local/lib/python3.6/dist-packages/keras/backend/tensorflow_backend.py:66: The name tf.get_default_graph is deprecated. Please use tf.compat.v1.get_default_graph instead.\n",
            "\n",
            "WARNING:tensorflow:From /usr/local/lib/python3.6/dist-packages/keras/backend/tensorflow_backend.py:541: The name tf.placeholder is deprecated. Please use tf.compat.v1.placeholder instead.\n",
            "\n",
            "WARNING:tensorflow:From /usr/local/lib/python3.6/dist-packages/keras/backend/tensorflow_backend.py:4432: The name tf.random_uniform is deprecated. Please use tf.random.uniform instead.\n",
            "\n",
            "WARNING:tensorflow:From /usr/local/lib/python3.6/dist-packages/keras/backend/tensorflow_backend.py:148: The name tf.placeholder_with_default is deprecated. Please use tf.compat.v1.placeholder_with_default instead.\n",
            "\n",
            "WARNING:tensorflow:From /usr/local/lib/python3.6/dist-packages/keras/backend/tensorflow_backend.py:3733: calling dropout (from tensorflow.python.ops.nn_ops) with keep_prob is deprecated and will be removed in a future version.\n",
            "Instructions for updating:\n",
            "Please use `rate` instead of `keep_prob`. Rate should be set to `rate = 1 - keep_prob`.\n"
          ],
          "name": "stdout"
        },
        {
          "output_type": "stream",
          "text": [
            "Using TensorFlow backend.\n"
          ],
          "name": "stderr"
        },
        {
          "output_type": "stream",
          "text": [
            "WARNING:tensorflow:From /usr/local/lib/python3.6/dist-packages/keras/optimizers.py:793: The name tf.train.Optimizer is deprecated. Please use tf.compat.v1.train.Optimizer instead.\n",
            "\n",
            "WARNING:tensorflow:From /usr/local/lib/python3.6/dist-packages/keras/backend/tensorflow_backend.py:3622: The name tf.log is deprecated. Please use tf.math.log instead.\n",
            "\n"
          ],
          "name": "stdout"
        }
      ]
    },
    {
      "cell_type": "code",
      "metadata": {
        "id": "XLXJrYCZlT9U",
        "colab_type": "code",
        "colab": {
          "base_uri": "https://localhost:8080/",
          "height": 595
        },
        "outputId": "ddf1a34c-7cac-48ac-fbc3-803f207714e4"
      },
      "source": [
        "model.summary()"
      ],
      "execution_count": null,
      "outputs": [
        {
          "output_type": "stream",
          "text": [
            "Model: \"sequential_1\"\n",
            "_________________________________________________________________\n",
            "Layer (type)                 Output Shape              Param #   \n",
            "=================================================================\n",
            "dense_1 (Dense)              (None, 1024)              27648     \n",
            "_________________________________________________________________\n",
            "dropout_1 (Dropout)          (None, 1024)              0         \n",
            "_________________________________________________________________\n",
            "dense_2 (Dense)              (None, 512)               524800    \n",
            "_________________________________________________________________\n",
            "dropout_2 (Dropout)          (None, 512)               0         \n",
            "_________________________________________________________________\n",
            "dense_3 (Dense)              (None, 256)               131328    \n",
            "_________________________________________________________________\n",
            "dropout_3 (Dropout)          (None, 256)               0         \n",
            "_________________________________________________________________\n",
            "dense_4 (Dense)              (None, 128)               32896     \n",
            "_________________________________________________________________\n",
            "dropout_4 (Dropout)          (None, 128)               0         \n",
            "_________________________________________________________________\n",
            "dense_5 (Dense)              (None, 64)                8256      \n",
            "_________________________________________________________________\n",
            "dropout_5 (Dropout)          (None, 64)                0         \n",
            "_________________________________________________________________\n",
            "dense_6 (Dense)              (None, 16)                1040      \n",
            "_________________________________________________________________\n",
            "dropout_6 (Dropout)          (None, 16)                0         \n",
            "_________________________________________________________________\n",
            "dense_7 (Dense)              (None, 10)                170       \n",
            "=================================================================\n",
            "Total params: 726,138\n",
            "Trainable params: 726,138\n",
            "Non-trainable params: 0\n",
            "_________________________________________________________________\n"
          ],
          "name": "stdout"
        }
      ]
    },
    {
      "cell_type": "code",
      "metadata": {
        "id": "5y2IYMzdlSkp",
        "colab_type": "code",
        "colab": {
          "base_uri": "https://localhost:8080/",
          "height": 1000
        },
        "outputId": "d9e03761-db4a-4980-9922-a21b5a0b1fd3"
      },
      "source": [
        "\n",
        "\n",
        "history = model.fit(X_train,\n",
        "                    y_train,\n",
        "                    validation_data=(X_val, y_val),\n",
        "                    epochs=50,\n",
        "                    batch_size=128, \n",
        "                    )"
      ],
      "execution_count": null,
      "outputs": [
        {
          "output_type": "stream",
          "text": [
            "WARNING:tensorflow:From /usr/local/lib/python3.6/dist-packages/tensorflow_core/python/ops/math_grad.py:1424: where (from tensorflow.python.ops.array_ops) is deprecated and will be removed in a future version.\n",
            "Instructions for updating:\n",
            "Use tf.where in 2.0, which has the same broadcast rule as np.where\n",
            "WARNING:tensorflow:From /usr/local/lib/python3.6/dist-packages/keras/backend/tensorflow_backend.py:1033: The name tf.assign_add is deprecated. Please use tf.compat.v1.assign_add instead.\n",
            "\n",
            "WARNING:tensorflow:From /usr/local/lib/python3.6/dist-packages/keras/backend/tensorflow_backend.py:1020: The name tf.assign is deprecated. Please use tf.compat.v1.assign instead.\n",
            "\n",
            "WARNING:tensorflow:From /usr/local/lib/python3.6/dist-packages/keras/backend/tensorflow_backend.py:3005: The name tf.Session is deprecated. Please use tf.compat.v1.Session instead.\n",
            "\n",
            "Train on 1050 samples, validate on 450 samples\n",
            "Epoch 1/50\n",
            "WARNING:tensorflow:From /usr/local/lib/python3.6/dist-packages/keras/backend/tensorflow_backend.py:190: The name tf.get_default_session is deprecated. Please use tf.compat.v1.get_default_session instead.\n",
            "\n",
            "WARNING:tensorflow:From /usr/local/lib/python3.6/dist-packages/keras/backend/tensorflow_backend.py:197: The name tf.ConfigProto is deprecated. Please use tf.compat.v1.ConfigProto instead.\n",
            "\n",
            "WARNING:tensorflow:From /usr/local/lib/python3.6/dist-packages/keras/backend/tensorflow_backend.py:207: The name tf.global_variables is deprecated. Please use tf.compat.v1.global_variables instead.\n",
            "\n",
            "WARNING:tensorflow:From /usr/local/lib/python3.6/dist-packages/keras/backend/tensorflow_backend.py:216: The name tf.is_variable_initialized is deprecated. Please use tf.compat.v1.is_variable_initialized instead.\n",
            "\n",
            "WARNING:tensorflow:From /usr/local/lib/python3.6/dist-packages/keras/backend/tensorflow_backend.py:223: The name tf.variables_initializer is deprecated. Please use tf.compat.v1.variables_initializer instead.\n",
            "\n",
            "1050/1050 [==============================] - 3s 3ms/step - loss: 2.2412 - acc: 0.1667 - val_loss: 1.9216 - val_acc: 0.7844\n",
            "Epoch 2/50\n",
            "1050/1050 [==============================] - 0s 83us/step - loss: 1.8608 - acc: 0.3086 - val_loss: 1.4297 - val_acc: 0.9022\n",
            "Epoch 3/50\n",
            "1050/1050 [==============================] - 0s 82us/step - loss: 1.7177 - acc: 0.3533 - val_loss: 1.2730 - val_acc: 0.9156\n",
            "Epoch 4/50\n",
            "1050/1050 [==============================] - 0s 79us/step - loss: 1.5396 - acc: 0.4010 - val_loss: 1.0420 - val_acc: 0.9133\n",
            "Epoch 5/50\n",
            "1050/1050 [==============================] - 0s 83us/step - loss: 1.3347 - acc: 0.4943 - val_loss: 0.7640 - val_acc: 0.9244\n",
            "Epoch 6/50\n",
            "1050/1050 [==============================] - 0s 82us/step - loss: 1.1844 - acc: 0.5419 - val_loss: 0.5659 - val_acc: 0.9311\n",
            "Epoch 7/50\n",
            "1050/1050 [==============================] - 0s 80us/step - loss: 1.0198 - acc: 0.6029 - val_loss: 0.4153 - val_acc: 0.9400\n",
            "Epoch 8/50\n",
            "1050/1050 [==============================] - 0s 82us/step - loss: 0.8326 - acc: 0.6867 - val_loss: 0.2995 - val_acc: 0.9533\n",
            "Epoch 9/50\n",
            "1050/1050 [==============================] - 0s 88us/step - loss: 0.7821 - acc: 0.7314 - val_loss: 0.2104 - val_acc: 0.9622\n",
            "Epoch 10/50\n",
            "1050/1050 [==============================] - 0s 84us/step - loss: 0.6318 - acc: 0.7829 - val_loss: 0.1648 - val_acc: 0.9689\n",
            "Epoch 11/50\n",
            "1050/1050 [==============================] - 0s 79us/step - loss: 0.5938 - acc: 0.7867 - val_loss: 0.1478 - val_acc: 0.9689\n",
            "Epoch 12/50\n",
            "1050/1050 [==============================] - 0s 80us/step - loss: 0.5012 - acc: 0.8210 - val_loss: 0.1266 - val_acc: 0.9689\n",
            "Epoch 13/50\n",
            "1050/1050 [==============================] - 0s 86us/step - loss: 0.4573 - acc: 0.8333 - val_loss: 0.1033 - val_acc: 0.9711\n",
            "Epoch 14/50\n",
            "1050/1050 [==============================] - 0s 82us/step - loss: 0.3933 - acc: 0.8657 - val_loss: 0.0907 - val_acc: 0.9711\n",
            "Epoch 15/50\n",
            "1050/1050 [==============================] - 0s 84us/step - loss: 0.3837 - acc: 0.8590 - val_loss: 0.0895 - val_acc: 0.9711\n",
            "Epoch 16/50\n",
            "1050/1050 [==============================] - 0s 78us/step - loss: 0.3397 - acc: 0.8886 - val_loss: 0.0918 - val_acc: 0.9711\n",
            "Epoch 17/50\n",
            "1050/1050 [==============================] - 0s 80us/step - loss: 0.3242 - acc: 0.8810 - val_loss: 0.0930 - val_acc: 0.9711\n",
            "Epoch 18/50\n",
            "1050/1050 [==============================] - 0s 82us/step - loss: 0.3165 - acc: 0.8886 - val_loss: 0.0833 - val_acc: 0.9689\n",
            "Epoch 19/50\n",
            "1050/1050 [==============================] - 0s 81us/step - loss: 0.3132 - acc: 0.8867 - val_loss: 0.0806 - val_acc: 0.9733\n",
            "Epoch 20/50\n",
            "1050/1050 [==============================] - 0s 86us/step - loss: 0.2906 - acc: 0.8895 - val_loss: 0.0804 - val_acc: 0.9733\n",
            "Epoch 21/50\n",
            "1050/1050 [==============================] - 0s 90us/step - loss: 0.2435 - acc: 0.9143 - val_loss: 0.0803 - val_acc: 0.9733\n",
            "Epoch 22/50\n",
            "1050/1050 [==============================] - 0s 87us/step - loss: 0.2285 - acc: 0.9257 - val_loss: 0.0833 - val_acc: 0.9733\n",
            "Epoch 23/50\n",
            "1050/1050 [==============================] - 0s 80us/step - loss: 0.2208 - acc: 0.9286 - val_loss: 0.0848 - val_acc: 0.9711\n",
            "Epoch 24/50\n",
            "1050/1050 [==============================] - 0s 84us/step - loss: 0.1898 - acc: 0.9276 - val_loss: 0.0737 - val_acc: 0.9733\n",
            "Epoch 25/50\n",
            "1050/1050 [==============================] - 0s 80us/step - loss: 0.1939 - acc: 0.9295 - val_loss: 0.0621 - val_acc: 0.9733\n",
            "Epoch 26/50\n",
            "1050/1050 [==============================] - 0s 98us/step - loss: 0.1915 - acc: 0.9352 - val_loss: 0.0633 - val_acc: 0.9733\n",
            "Epoch 27/50\n",
            "1050/1050 [==============================] - 0s 86us/step - loss: 0.1878 - acc: 0.9400 - val_loss: 0.0715 - val_acc: 0.9733\n",
            "Epoch 28/50\n",
            "1050/1050 [==============================] - 0s 93us/step - loss: 0.1884 - acc: 0.9333 - val_loss: 0.0750 - val_acc: 0.9733\n",
            "Epoch 29/50\n",
            "1050/1050 [==============================] - 0s 81us/step - loss: 0.1581 - acc: 0.9381 - val_loss: 0.0775 - val_acc: 0.9733\n",
            "Epoch 30/50\n",
            "1050/1050 [==============================] - 0s 81us/step - loss: 0.1705 - acc: 0.9410 - val_loss: 0.0614 - val_acc: 0.9733\n",
            "Epoch 31/50\n",
            "1050/1050 [==============================] - 0s 80us/step - loss: 0.1481 - acc: 0.9514 - val_loss: 0.0667 - val_acc: 0.9711\n",
            "Epoch 32/50\n",
            "1050/1050 [==============================] - 0s 85us/step - loss: 0.1634 - acc: 0.9419 - val_loss: 0.0792 - val_acc: 0.9711\n",
            "Epoch 33/50\n",
            "1050/1050 [==============================] - 0s 82us/step - loss: 0.1349 - acc: 0.9562 - val_loss: 0.0821 - val_acc: 0.9711\n",
            "Epoch 34/50\n",
            "1050/1050 [==============================] - 0s 81us/step - loss: 0.1409 - acc: 0.9448 - val_loss: 0.0726 - val_acc: 0.9711\n",
            "Epoch 35/50\n",
            "1050/1050 [==============================] - 0s 87us/step - loss: 0.1344 - acc: 0.9486 - val_loss: 0.0675 - val_acc: 0.9711\n",
            "Epoch 36/50\n",
            "1050/1050 [==============================] - 0s 78us/step - loss: 0.1551 - acc: 0.9429 - val_loss: 0.0698 - val_acc: 0.9733\n",
            "Epoch 37/50\n",
            "1050/1050 [==============================] - 0s 82us/step - loss: 0.1109 - acc: 0.9543 - val_loss: 0.0748 - val_acc: 0.9733\n",
            "Epoch 38/50\n",
            "1050/1050 [==============================] - 0s 80us/step - loss: 0.1318 - acc: 0.9390 - val_loss: 0.0732 - val_acc: 0.9733\n",
            "Epoch 39/50\n",
            "1050/1050 [==============================] - 0s 80us/step - loss: 0.1237 - acc: 0.9467 - val_loss: 0.0751 - val_acc: 0.9733\n",
            "Epoch 40/50\n",
            "1050/1050 [==============================] - 0s 80us/step - loss: 0.1208 - acc: 0.9505 - val_loss: 0.0566 - val_acc: 0.9756\n",
            "Epoch 41/50\n",
            "1050/1050 [==============================] - 0s 78us/step - loss: 0.1254 - acc: 0.9438 - val_loss: 0.0623 - val_acc: 0.9733\n",
            "Epoch 42/50\n",
            "1050/1050 [==============================] - 0s 82us/step - loss: 0.1095 - acc: 0.9543 - val_loss: 0.0588 - val_acc: 0.9733\n",
            "Epoch 43/50\n",
            "1050/1050 [==============================] - 0s 86us/step - loss: 0.1149 - acc: 0.9562 - val_loss: 0.0560 - val_acc: 0.9756\n",
            "Epoch 44/50\n",
            "1050/1050 [==============================] - 0s 84us/step - loss: 0.1022 - acc: 0.9590 - val_loss: 0.0918 - val_acc: 0.9733\n",
            "Epoch 45/50\n",
            "1050/1050 [==============================] - 0s 80us/step - loss: 0.1147 - acc: 0.9533 - val_loss: 0.0918 - val_acc: 0.9733\n",
            "Epoch 46/50\n",
            "1050/1050 [==============================] - 0s 79us/step - loss: 0.1146 - acc: 0.9552 - val_loss: 0.0918 - val_acc: 0.9733\n",
            "Epoch 47/50\n",
            "1050/1050 [==============================] - 0s 88us/step - loss: 0.1058 - acc: 0.9571 - val_loss: 0.0825 - val_acc: 0.9733\n",
            "Epoch 48/50\n",
            "1050/1050 [==============================] - 0s 80us/step - loss: 0.0959 - acc: 0.9581 - val_loss: 0.1040 - val_acc: 0.9711\n",
            "Epoch 49/50\n",
            "1050/1050 [==============================] - 0s 81us/step - loss: 0.1172 - acc: 0.9543 - val_loss: 0.0917 - val_acc: 0.9733\n",
            "Epoch 50/50\n",
            "1050/1050 [==============================] - 0s 78us/step - loss: 0.1166 - acc: 0.9505 - val_loss: 0.0913 - val_acc: 0.9733\n"
          ],
          "name": "stdout"
        }
      ]
    },
    {
      "cell_type": "code",
      "metadata": {
        "colab_type": "code",
        "id": "z3nvtYKVa5HD",
        "colab": {
          "base_uri": "https://localhost:8080/",
          "height": 265
        },
        "outputId": "dda8314e-4a63-4aa9-c904-eaf9392dd2a8"
      },
      "source": [
        "# plot training history\n",
        "from matplotlib import pyplot\n",
        "pyplot.plot(history.history['loss'], label='train')\n",
        "pyplot.plot(history.history['val_loss'], label='test')\n",
        "pyplot.legend()\n",
        "pyplot.show()"
      ],
      "execution_count": null,
      "outputs": [
        {
          "output_type": "display_data",
          "data": {
            "image/png": "[encoded data removed]",
            "text/plain": [
              "<Figure size 432x288 with 1 Axes>"
            ]
          },
          "metadata": {
            "tags": []
          }
        }
      ]
    },
    {
      "cell_type": "markdown",
      "metadata": {
        "id": "isJjXoygbReq",
        "colab_type": "text"
      },
      "source": [
        "### Present the model performance"
      ]
    },
    {
      "cell_type": "code",
      "metadata": {
        "id": "AXCg1Zcomjli",
        "colab_type": "code",
        "colab": {}
      },
      "source": [
        "import plotly.express as plotly"
      ],
      "execution_count": null,
      "outputs": []
    },
    {
      "cell_type": "code",
      "metadata": {
        "colab_type": "code",
        "id": "HSVxu84pRgZa",
        "colab": {
          "base_uri": "https://localhost:8080/",
          "height": 576
        },
        "outputId": "c69c046e-0f1b-4548-ac15-f819947aa2ab"
      },
      "source": [
        "\n",
        "score_cnn = model.evaluate(X_val, y_val)\n",
        "print(\"%s: %.2f%%\" % (model.metrics_names[1], score_cnn[1]*100))\n",
        "\n",
        "\n",
        "prediction = model.predict_classes(X_val)\n",
        "\n",
        "ground_truth = y_val\n",
        "\n",
        "data = {\n",
        "    'prediction': prediction,\n",
        "    'ground_truth': ground_truth\n",
        "    \n",
        "}\n",
        "\n",
        "data = pd.DataFrame(data)\n",
        "# data.head(100)\n",
        "plotly.scatter(data,x='prediction',y='ground_truth')\n",
        "\n",
        "\n",
        "\n",
        "\n",
        "\n",
        "\n"
      ],
      "execution_count": null,
      "outputs": [
        {
          "output_type": "stream",
          "text": [
            "450/450 [==============================] - 0s 78us/step\n",
            "acc: 97.33%\n"
          ],
          "name": "stdout"
        },
        {
          "output_type": "display_data",
          "data": {
            "text/html": [
              "<html>\n",
              "<head><meta charset=\"utf-8\" /></head>\n",
              "<body>\n",
              "    <div>\n",
              "            <script src=\"https://cdnjs.cloudflare.com/ajax/libs/mathjax/2.7.5/MathJax.js?config=TeX-AMS-MML_SVG\"></script><script type=\"text/javascript\">if (window.MathJax) {MathJax.Hub.Config({SVG: {font: \"STIX-Web\"}});}</script>\n",
              "                <script type=\"text/javascript\">window.PlotlyConfig = {MathJaxConfig: 'local'};</script>\n",
              "        <script src=\"https://cdn.plot.ly/plotly-latest.min.js\"></script>    \n",
              "            <div id=\"44983d5e-baff-41d6-be1a-710eb35444ec\" class=\"plotly-graph-div\" style=\"height:525px; width:100%;\"></div>\n",
              "            <script type=\"text/javascript\">\n",
              "                \n",
              "                    window.PLOTLYENV=window.PLOTLYENV || {};\n",
              "                    \n",
              "                if (document.getElementById(\"44983d5e-baff-41d6-be1a-710eb35444ec\")) {\n",
              "                    Plotly.newPlot(\n",
              "                        '44983d5e-baff-41d6-be1a-710eb35444ec',\n",
              "                        [{\"hoverlabel\": {\"namelength\": 0}, \"hovertemplate\": \"prediction=%{x}<br>ground_truth=%{y}\", \"legendgroup\": \"\", \"marker\": {\"color\": \"#636efa\", \"symbol\": \"circle\"}, \"mode\": \"markers\", \"name\": \"\", \"showlegend\": false, \"type\": \"scatter\", \"x\": [1, 0, 2, 2, 0, 2, 0, 0, 1, 2, 0, 2, 2, 1, 1, 1, 0, 0, 2, 1, 0, 2, 0, 1, 1, 2, 2, 0, 1, 2, 1, 0, 2, 0, 1, 0, 2, 2, 1, 1, 1, 2, 0, 2, 1, 1, 1, 0, 0, 2, 0, 2, 2, 2, 2, 1, 1, 1, 0, 0, 0, 2, 0, 1, 1, 1, 0, 1, 1, 0, 0, 2, 1, 2, 2, 0, 1, 1, 0, 0, 0, 0, 1, 1, 1, 1, 0, 0, 0, 0, 1, 2, 2, 1, 0, 0, 2, 2, 2, 2, 2, 2, 2, 1, 1, 0, 1, 2, 0, 2, 0, 0, 0, 1, 2, 2, 1, 0, 2, 1, 2, 1, 2, 2, 2, 1, 2, 0, 0, 0, 1, 1, 2, 0, 2, 0, 1, 1, 2, 2, 0, 2, 0, 1, 2, 2, 2, 2, 0, 0, 0, 0, 1, 2, 1, 2, 2, 0, 1, 0, 2, 1, 2, 1, 2, 2, 0, 0, 1, 1, 1, 1, 1, 2, 2, 1, 1, 1, 0, 2, 2, 2, 1, 0, 2, 1, 2, 1, 0, 0, 2, 0, 0, 0, 1, 0, 0, 0, 0, 2, 1, 0, 2, 0, 0, 1, 0, 1, 1, 2, 1, 2, 0, 2, 2, 0, 0, 0, 0, 1, 1, 0, 0, 2, 1, 0, 0, 1, 0, 1, 0, 2, 2, 2, 2, 0, 0, 1, 1, 2, 0, 0, 2, 2, 1, 1, 0, 2, 0, 0, 2, 2, 0, 0, 0, 1, 1, 0, 1, 2, 0, 1, 0, 1, 2, 2, 0, 1, 0, 0, 1, 1, 0, 2, 2, 1, 2, 0, 1, 0, 0, 2, 1, 2, 1, 0, 1, 1, 1, 1, 0, 2, 2, 2, 0, 2, 1, 1, 2, 1, 1, 1, 0, 1, 0, 1, 0, 0, 2, 0, 2, 1, 2, 0, 1, 1, 2, 0, 2, 1, 0, 0, 1, 2, 1, 2, 1, 2, 2, 2, 0, 0, 0, 1, 1, 2, 1, 2, 1, 2, 0, 1, 1, 0, 1, 2, 2, 2, 1, 0, 0, 2, 1, 0, 0, 1, 0, 1, 0, 0, 2, 1, 2, 0, 1, 0, 1, 2, 0, 2, 0, 2, 2, 1, 0, 1, 1, 0, 2, 0, 0, 1, 0, 1, 1, 1, 0, 0, 1, 2, 0, 1, 1, 0, 2, 0, 1, 1, 2, 0, 2, 2, 1, 1, 0, 2, 2, 1, 1, 0, 0, 0, 0, 2, 2, 2, 2, 1, 1, 1, 2, 1, 0, 1, 1, 2, 1, 1, 2, 2, 2, 2, 0, 2, 2, 2, 0, 1, 0, 1, 2, 1, 1, 1, 2, 1, 2, 1, 0, 0], \"xaxis\": \"x\", \"y\": [\"1\", \"0\", \"2\", \"2\", \"0\", \"2\", \"0\", \"0\", \"1\", \"2\", \"0\", \"2\", \"2\", \"1\", \"1\", \"1\", \"3\", \"0\", \"2\", \"1\", \"0\", \"2\", \"0\", \"1\", \"1\", \"2\", \"2\", \"3\", \"1\", \"2\", \"1\", \"0\", \"2\", \"0\", \"1\", \"0\", \"2\", \"2\", \"1\", \"1\", \"1\", \"2\", \"0\", \"2\", \"1\", \"1\", \"1\", \"0\", \"0\", \"2\", \"0\", \"2\", \"2\", \"2\", \"2\", \"1\", \"1\", \"1\", \"0\", \"0\", \"0\", \"2\", \"0\", \"1\", \"1\", \"1\", \"0\", \"1\", \"1\", \"0\", \"0\", \"2\", \"1\", \"2\", \"2\", \"0\", \"1\", \"1\", \"0\", \"0\", \"0\", \"0\", \"1\", \"1\", \"1\", \"1\", \"0\", \"0\", \"0\", \"0\", \"1\", \"2\", \"2\", \"1\", \"0\", \"0\", \"2\", \"2\", \"2\", \"2\", \"2\", \"2\", \"2\", \"1\", \"1\", \"0\", \"1\", \"2\", \"0\", \"2\", \"0\", \"0\", \"0\", \"1\", \"2\", \"2\", \"1\", \"0\", \"2\", \"1\", \"2\", \"1\", \"2\", \"2\", \"2\", \"1\", \"2\", \"0\", \"0\", \"0\", \"1\", \"1\", \"2\", \"5\", \"2\", \"0\", \"1\", \"1\", \"2\", \"2\", \"0\", \"2\", \"3\", \"1\", \"2\", \"2\", \"2\", \"2\", \"0\", \"0\", \"0\", \"0\", \"1\", \"2\", \"1\", \"2\", \"2\", \"0\", \"1\", \"0\", \"2\", \"1\", \"2\", \"1\", \"2\", \"2\", \"4\", \"0\", \"1\", \"1\", \"1\", \"1\", \"1\", \"2\", \"2\", \"1\", \"1\", \"1\", \"0\", \"2\", \"2\", \"2\", \"1\", \"0\", \"2\", \"1\", \"2\", \"1\", \"0\", \"0\", \"2\", \"0\", \"0\", \"0\", \"1\", \"0\", \"0\", \"0\", \"0\", \"2\", \"1\", \"0\", \"2\", \"0\", \"0\", \"1\", \"0\", \"1\", \"1\", \"2\", \"1\", \"2\", \"0\", \"2\", \"2\", \"0\", \"0\", \"0\", \"0\", \"1\", \"1\", \"0\", \"0\", \"2\", \"1\", \"0\", \"0\", \"1\", \"0\", \"1\", \"0\", \"2\", \"2\", \"2\", \"2\", \"0\", \"0\", \"1\", \"1\", \"2\", \"0\", \"0\", \"2\", \"2\", \"1\", \"1\", \"0\", \"2\", \"0\", \"0\", \"2\", \"2\", \"0\", \"0\", \"0\", \"1\", \"1\", \"0\", \"1\", \"2\", \"2\", \"1\", \"0\", \"1\", \"2\", \"2\", \"0\", \"1\", \"0\", \"0\", \"1\", \"1\", \"0\", \"2\", \"2\", \"1\", \"2\", \"0\", \"1\", \"0\", \"0\", \"2\", \"1\", \"2\", \"1\", \"0\", \"1\", \"1\", \"1\", \"1\", \"0\", \"2\", \"2\", \"2\", \"0\", \"2\", \"1\", \"1\", \"2\", \"1\", \"1\", \"1\", \"5\", \"1\", \"0\", \"1\", \"5\", \"0\", \"2\", \"0\", \"2\", \"1\", \"2\", \"0\", \"1\", \"1\", \"2\", \"0\", \"2\", \"1\", \"0\", \"0\", \"1\", \"2\", \"1\", \"2\", \"1\", \"2\", \"2\", \"2\", \"4\", \"0\", \"4\", \"1\", \"1\", \"2\", \"1\", \"2\", \"1\", \"2\", \"0\", \"1\", \"1\", \"0\", \"1\", \"2\", \"2\", \"2\", \"1\", \"0\", \"0\", \"2\", \"1\", \"0\", \"0\", \"1\", \"0\", \"1\", \"0\", \"0\", \"2\", \"1\", \"2\", \"0\", \"1\", \"0\", \"1\", \"2\", \"0\", \"2\", \"0\", \"2\", \"2\", \"1\", \"0\", \"1\", \"1\", \"4\", \"2\", \"0\", \"0\", \"1\", \"0\", \"1\", \"1\", \"1\", \"0\", \"0\", \"1\", \"2\", \"0\", \"1\", \"1\", \"0\", \"2\", \"0\", \"1\", \"1\", \"2\", \"0\", \"2\", \"2\", \"1\", \"1\", \"0\", \"2\", \"2\", \"1\", \"1\", \"0\", \"0\", \"0\", \"0\", \"2\", \"2\", \"2\", \"2\", \"1\", \"1\", \"1\", \"2\", \"1\", \"0\", \"1\", \"1\", \"2\", \"1\", \"1\", \"2\", \"2\", \"2\", \"2\", \"0\", \"2\", \"2\", \"2\", \"0\", \"1\", \"0\", \"1\", \"2\", \"1\", \"1\", \"1\", \"2\", \"1\", \"2\", \"1\", \"0\", \"4\"], \"yaxis\": \"y\"}],\n",
              "                        {\"legend\": {\"tracegroupgap\": 0}, \"margin\": {\"t\": 60}, \"template\": {\"data\": {\"bar\": [{\"error_x\": {\"color\": \"#2a3f5f\"}, \"error_y\": {\"color\": \"#2a3f5f\"}, \"marker\": {\"line\": {\"color\": \"#E5ECF6\", \"width\": 0.5}}, \"type\": \"bar\"}], \"barpolar\": [{\"marker\": {\"line\": {\"color\": \"#E5ECF6\", \"width\": 0.5}}, \"type\": \"barpolar\"}], \"carpet\": [{\"aaxis\": {\"endlinecolor\": \"#2a3f5f\", \"gridcolor\": \"white\", \"linecolor\": \"white\", \"minorgridcolor\": \"white\", \"startlinecolor\": \"#2a3f5f\"}, \"baxis\": {\"endlinecolor\": \"#2a3f5f\", \"gridcolor\": \"white\", \"linecolor\": \"white\", \"minorgridcolor\": \"white\", \"startlinecolor\": \"#2a3f5f\"}, \"type\": \"carpet\"}], \"choropleth\": [{\"colorbar\": {\"outlinewidth\": 0, \"ticks\": \"\"}, \"type\": \"choropleth\"}], \"contour\": [{\"colorbar\": {\"outlinewidth\": 0, \"ticks\": \"\"}, \"colorscale\": [[0.0, \"#0d0887\"], [0.1111111111111111, \"#46039f\"], [0.2222222222222222, \"#7201a8\"], [0.3333333333333333, \"#9c179e\"], [0.4444444444444444, \"#bd3786\"], [0.5555555555555556, \"#d8576b\"], [0.6666666666666666, \"#ed7953\"], [0.7777777777777778, \"#fb9f3a\"], [0.8888888888888888, \"#fdca26\"], [1.0, \"#f0f921\"]], \"type\": \"contour\"}], \"contourcarpet\": [{\"colorbar\": {\"outlinewidth\": 0, \"ticks\": \"\"}, \"type\": \"contourcarpet\"}], \"heatmap\": [{\"colorbar\": {\"outlinewidth\": 0, \"ticks\": \"\"}, \"colorscale\": [[0.0, \"#0d0887\"], [0.1111111111111111, \"#46039f\"], [0.2222222222222222, \"#7201a8\"], [0.3333333333333333, \"#9c179e\"], [0.4444444444444444, \"#bd3786\"], [0.5555555555555556, \"#d8576b\"], [0.6666666666666666, \"#ed7953\"], [0.7777777777777778, \"#fb9f3a\"], [0.8888888888888888, \"#fdca26\"], [1.0, \"#f0f921\"]], \"type\": \"heatmap\"}], \"heatmapgl\": [{\"colorbar\": {\"outlinewidth\": 0, \"ticks\": \"\"}, \"colorscale\": [[0.0, \"#0d0887\"], [0.1111111111111111, \"#46039f\"], [0.2222222222222222, \"#7201a8\"], [0.3333333333333333, \"#9c179e\"], [0.4444444444444444, \"#bd3786\"], [0.5555555555555556, \"#d8576b\"], [0.6666666666666666, \"#ed7953\"], [0.7777777777777778, \"#fb9f3a\"], [0.8888888888888888, \"#fdca26\"], [1.0, \"#f0f921\"]], \"type\": \"heatmapgl\"}], \"histogram\": [{\"marker\": {\"colorbar\": {\"outlinewidth\": 0, \"ticks\": \"\"}}, \"type\": \"histogram\"}], \"histogram2d\": [{\"colorbar\": {\"outlinewidth\": 0, \"ticks\": \"\"}, \"colorscale\": [[0.0, \"#0d0887\"], [0.1111111111111111, \"#46039f\"], [0.2222222222222222, \"#7201a8\"], [0.3333333333333333, \"#9c179e\"], [0.4444444444444444, \"#bd3786\"], [0.5555555555555556, \"#d8576b\"], [0.6666666666666666, \"#ed7953\"], [0.7777777777777778, \"#fb9f3a\"], [0.8888888888888888, \"#fdca26\"], [1.0, \"#f0f921\"]], \"type\": \"histogram2d\"}], \"histogram2dcontour\": [{\"colorbar\": {\"outlinewidth\": 0, \"ticks\": \"\"}, \"colorscale\": [[0.0, \"#0d0887\"], [0.1111111111111111, \"#46039f\"], [0.2222222222222222, \"#7201a8\"], [0.3333333333333333, \"#9c179e\"], [0.4444444444444444, \"#bd3786\"], [0.5555555555555556, \"#d8576b\"], [0.6666666666666666, \"#ed7953\"], [0.7777777777777778, \"#fb9f3a\"], [0.8888888888888888, \"#fdca26\"], [1.0, \"#f0f921\"]], \"type\": \"histogram2dcontour\"}], \"mesh3d\": [{\"colorbar\": {\"outlinewidth\": 0, \"ticks\": \"\"}, \"type\": \"mesh3d\"}], \"parcoords\": [{\"line\": {\"colorbar\": {\"outlinewidth\": 0, \"ticks\": \"\"}}, \"type\": \"parcoords\"}], \"pie\": [{\"automargin\": true, \"type\": \"pie\"}], \"scatter\": [{\"marker\": {\"colorbar\": {\"outlinewidth\": 0, \"ticks\": \"\"}}, \"type\": \"scatter\"}], \"scatter3d\": [{\"line\": {\"colorbar\": {\"outlinewidth\": 0, \"ticks\": \"\"}}, \"marker\": {\"colorbar\": {\"outlinewidth\": 0, \"ticks\": \"\"}}, \"type\": \"scatter3d\"}], \"scattercarpet\": [{\"marker\": {\"colorbar\": {\"outlinewidth\": 0, \"ticks\": \"\"}}, \"type\": \"scattercarpet\"}], \"scattergeo\": [{\"marker\": {\"colorbar\": {\"outlinewidth\": 0, \"ticks\": \"\"}}, \"type\": \"scattergeo\"}], \"scattergl\": [{\"marker\": {\"colorbar\": {\"outlinewidth\": 0, \"ticks\": \"\"}}, \"type\": \"scattergl\"}], \"scattermapbox\": [{\"marker\": {\"colorbar\": {\"outlinewidth\": 0, \"ticks\": \"\"}}, \"type\": \"scattermapbox\"}], \"scatterpolar\": [{\"marker\": {\"colorbar\": {\"outlinewidth\": 0, \"ticks\": \"\"}}, \"type\": \"scatterpolar\"}], \"scatterpolargl\": [{\"marker\": {\"colorbar\": {\"outlinewidth\": 0, \"ticks\": \"\"}}, \"type\": \"scatterpolargl\"}], \"scatterternary\": [{\"marker\": {\"colorbar\": {\"outlinewidth\": 0, \"ticks\": \"\"}}, \"type\": \"scatterternary\"}], \"surface\": [{\"colorbar\": {\"outlinewidth\": 0, \"ticks\": \"\"}, \"colorscale\": [[0.0, \"#0d0887\"], [0.1111111111111111, \"#46039f\"], [0.2222222222222222, \"#7201a8\"], [0.3333333333333333, \"#9c179e\"], [0.4444444444444444, \"#bd3786\"], [0.5555555555555556, \"#d8576b\"], [0.6666666666666666, \"#ed7953\"], [0.7777777777777778, \"#fb9f3a\"], [0.8888888888888888, \"#fdca26\"], [1.0, \"#f0f921\"]], \"type\": \"surface\"}], \"table\": [{\"cells\": {\"fill\": {\"color\": \"#EBF0F8\"}, \"line\": {\"color\": \"white\"}}, \"header\": {\"fill\": {\"color\": \"#C8D4E3\"}, \"line\": {\"color\": \"white\"}}, \"type\": \"table\"}]}, \"layout\": {\"annotationdefaults\": {\"arrowcolor\": \"#2a3f5f\", \"arrowhead\": 0, \"arrowwidth\": 1}, \"coloraxis\": {\"colorbar\": {\"outlinewidth\": 0, \"ticks\": \"\"}}, \"colorscale\": {\"diverging\": [[0, \"#8e0152\"], [0.1, \"#c51b7d\"], [0.2, \"#de77ae\"], [0.3, \"#f1b6da\"], [0.4, \"#fde0ef\"], [0.5, \"#f7f7f7\"], [0.6, \"#e6f5d0\"], [0.7, \"#b8e186\"], [0.8, \"#7fbc41\"], [0.9, \"#4d9221\"], [1, \"#276419\"]], \"sequential\": [[0.0, \"#0d0887\"], [0.1111111111111111, \"#46039f\"], [0.2222222222222222, \"#7201a8\"], [0.3333333333333333, \"#9c179e\"], [0.4444444444444444, \"#bd3786\"], [0.5555555555555556, \"#d8576b\"], [0.6666666666666666, \"#ed7953\"], [0.7777777777777778, \"#fb9f3a\"], [0.8888888888888888, \"#fdca26\"], [1.0, \"#f0f921\"]], \"sequentialminus\": [[0.0, \"#0d0887\"], [0.1111111111111111, \"#46039f\"], [0.2222222222222222, \"#7201a8\"], [0.3333333333333333, \"#9c179e\"], [0.4444444444444444, \"#bd3786\"], [0.5555555555555556, \"#d8576b\"], [0.6666666666666666, \"#ed7953\"], [0.7777777777777778, \"#fb9f3a\"], [0.8888888888888888, \"#fdca26\"], [1.0, \"#f0f921\"]]}, \"colorway\": [\"#636efa\", \"#EF553B\", \"#00cc96\", \"#ab63fa\", \"#FFA15A\", \"#19d3f3\", \"#FF6692\", \"#B6E880\", \"#FF97FF\", \"#FECB52\"], \"font\": {\"color\": \"#2a3f5f\"}, \"geo\": {\"bgcolor\": \"white\", \"lakecolor\": \"white\", \"landcolor\": \"#E5ECF6\", \"showlakes\": true, \"showland\": true, \"subunitcolor\": \"white\"}, \"hoverlabel\": {\"align\": \"left\"}, \"hovermode\": \"closest\", \"mapbox\": {\"style\": \"light\"}, \"paper_bgcolor\": \"white\", \"plot_bgcolor\": \"#E5ECF6\", \"polar\": {\"angularaxis\": {\"gridcolor\": \"white\", \"linecolor\": \"white\", \"ticks\": \"\"}, \"bgcolor\": \"#E5ECF6\", \"radialaxis\": {\"gridcolor\": \"white\", \"linecolor\": \"white\", \"ticks\": \"\"}}, \"scene\": {\"xaxis\": {\"backgroundcolor\": \"#E5ECF6\", \"gridcolor\": \"white\", \"gridwidth\": 2, \"linecolor\": \"white\", \"showbackground\": true, \"ticks\": \"\", \"zerolinecolor\": \"white\"}, \"yaxis\": {\"backgroundcolor\": \"#E5ECF6\", \"gridcolor\": \"white\", \"gridwidth\": 2, \"linecolor\": \"white\", \"showbackground\": true, \"ticks\": \"\", \"zerolinecolor\": \"white\"}, \"zaxis\": {\"backgroundcolor\": \"#E5ECF6\", \"gridcolor\": \"white\", \"gridwidth\": 2, \"linecolor\": \"white\", \"showbackground\": true, \"ticks\": \"\", \"zerolinecolor\": \"white\"}}, \"shapedefaults\": {\"line\": {\"color\": \"#2a3f5f\"}}, \"ternary\": {\"aaxis\": {\"gridcolor\": \"white\", \"linecolor\": \"white\", \"ticks\": \"\"}, \"baxis\": {\"gridcolor\": \"white\", \"linecolor\": \"white\", \"ticks\": \"\"}, \"bgcolor\": \"#E5ECF6\", \"caxis\": {\"gridcolor\": \"white\", \"linecolor\": \"white\", \"ticks\": \"\"}}, \"title\": {\"x\": 0.05}, \"xaxis\": {\"automargin\": true, \"gridcolor\": \"white\", \"linecolor\": \"white\", \"ticks\": \"\", \"title\": {\"standoff\": 15}, \"zerolinecolor\": \"white\", \"zerolinewidth\": 2}, \"yaxis\": {\"automargin\": true, \"gridcolor\": \"white\", \"linecolor\": \"white\", \"ticks\": \"\", \"title\": {\"standoff\": 15}, \"zerolinecolor\": \"white\", \"zerolinewidth\": 2}}}, \"xaxis\": {\"anchor\": \"y\", \"domain\": [0.0, 1.0], \"title\": {\"text\": \"prediction\"}}, \"yaxis\": {\"anchor\": \"x\", \"domain\": [0.0, 1.0], \"title\": {\"text\": \"ground_truth\"}}},\n",
              "                        {\"responsive\": true}\n",
              "                    ).then(function(){\n",
              "                            \n",
              "var gd = document.getElementById('44983d5e-baff-41d6-be1a-710eb35444ec');\n",
              "var x = new MutationObserver(function (mutations, observer) {{\n",
              "        var display = window.getComputedStyle(gd).display;\n",
              "        if (!display || display === 'none') {{\n",
              "            console.log([gd, 'removed!']);\n",
              "            Plotly.purge(gd);\n",
              "            observer.disconnect();\n",
              "        }}\n",
              "}});\n",
              "\n",
              "// Listen for the removal of the full notebook cells\n",
              "var notebookContainer = gd.closest('#notebook-container');\n",
              "if (notebookContainer) {{\n",
              "    x.observe(notebookContainer, {childList: true});\n",
              "}}\n",
              "\n",
              "// Listen for the clearing of the current output cell\n",
              "var outputEl = gd.closest('.output');\n",
              "if (outputEl) {{\n",
              "    x.observe(outputEl, {childList: true});\n",
              "}}\n",
              "\n",
              "                        })\n",
              "                };\n",
              "                \n",
              "            </script>\n",
              "        </div>\n",
              "</body>\n",
              "</html>"
            ]
          },
          "metadata": {
            "tags": []
          }
        }
      ]
    },
    {
      "cell_type": "code",
      "metadata": {
        "id": "UvWwdfKBpTlQ",
        "colab_type": "code",
        "colab": {
          "base_uri": "https://localhost:8080/",
          "height": 204
        },
        "outputId": "96c0d105-a364-4ceb-c45c-d51f94c14754"
      },
      "source": [
        "data.head()"
      ],
      "execution_count": null,
      "outputs": [
        {
          "output_type": "execute_result",
          "data": {
            "text/html": [
              "<div>\n",
              "<style scoped>\n",
              "    .dataframe tbody tr th:only-of-type {\n",
              "        vertical-align: middle;\n",
              "    }\n",
              "\n",
              "    .dataframe tbody tr th {\n",
              "        vertical-align: top;\n",
              "    }\n",
              "\n",
              "    .dataframe thead th {\n",
              "        text-align: right;\n",
              "    }\n",
              "</style>\n",
              "<table border=\"1\" class=\"dataframe\">\n",
              "  <thead>\n",
              "    <tr style=\"text-align: right;\">\n",
              "      <th></th>\n",
              "      <th>prediction</th>\n",
              "      <th>ground_truth</th>\n",
              "    </tr>\n",
              "  </thead>\n",
              "  <tbody>\n",
              "    <tr>\n",
              "      <th>1116</th>\n",
              "      <td>1</td>\n",
              "      <td>1</td>\n",
              "    </tr>\n",
              "    <tr>\n",
              "      <th>1368</th>\n",
              "      <td>0</td>\n",
              "      <td>0</td>\n",
              "    </tr>\n",
              "    <tr>\n",
              "      <th>422</th>\n",
              "      <td>2</td>\n",
              "      <td>2</td>\n",
              "    </tr>\n",
              "    <tr>\n",
              "      <th>413</th>\n",
              "      <td>2</td>\n",
              "      <td>2</td>\n",
              "    </tr>\n",
              "    <tr>\n",
              "      <th>451</th>\n",
              "      <td>0</td>\n",
              "      <td>0</td>\n",
              "    </tr>\n",
              "  </tbody>\n",
              "</table>\n",
              "</div>"
            ],
            "text/plain": [
              "      prediction ground_truth\n",
              "1116           1            1\n",
              "1368           0            0\n",
              "422            2            2\n",
              "413            2            2\n",
              "451            0            0"
            ]
          },
          "metadata": {
            "tags": []
          },
          "execution_count": 13
        }
      ]
    },
    {
      "cell_type": "markdown",
      "metadata": {
        "id": "OmSyYMQCfq_w",
        "colab_type": "text"
      },
      "source": [
        "# LSTM "
      ]
    },
    {
      "cell_type": "code",
      "metadata": {
        "id": "Hk-oebi3bRf7",
        "colab_type": "code",
        "colab": {}
      },
      "source": [
        "from keras.models import Sequential\n",
        "from keras.layers import Dense\n",
        "from keras.layers import LSTM\n",
        "from keras.layers.convolutional import Conv1D\n",
        "from keras.layers.convolutional import MaxPooling1D\n",
        "from keras.layers.embeddings import Embedding"
      ],
      "execution_count": null,
      "outputs": []
    },
    {
      "cell_type": "code",
      "metadata": {
        "id": "VJCiElMngGGF",
        "colab_type": "code",
        "colab": {
          "base_uri": "https://localhost:8080/",
          "height": 428
        },
        "outputId": "559ca4bf-7f79-49db-fbe5-77c095dc239d"
      },
      "source": [
        "embed_dim = 200\n",
        "lstm_out = 196\n",
        "batch_size = 32\n",
        "\n",
        "\n",
        "model = Sequential()\n",
        "model.add(Embedding(5000, embed_dim,input_length = X_train.shape[1], dropout = 0.2))\n",
        "\n",
        "model.add(MaxPooling1D(pool_size=2))\n",
        "model.add(LSTM(100))\n",
        "model.add(Dense(10,activation='softmax'))\n",
        "\n",
        "print(model.summary())"
      ],
      "execution_count": null,
      "outputs": [
        {
          "output_type": "stream",
          "text": [
            "WARNING:tensorflow:From /usr/local/lib/python3.6/dist-packages/keras/backend/tensorflow_backend.py:4267: The name tf.nn.max_pool is deprecated. Please use tf.nn.max_pool2d instead.\n",
            "\n"
          ],
          "name": "stdout"
        },
        {
          "output_type": "stream",
          "text": [
            "/usr/local/lib/python3.6/dist-packages/ipykernel_launcher.py:7: UserWarning:\n",
            "\n",
            "The `dropout` argument is no longer support in `Embedding`. You can apply a `keras.layers.SpatialDropout1D` layer right after the `Embedding` layer to get the same behavior.\n",
            "\n"
          ],
          "name": "stderr"
        },
        {
          "output_type": "stream",
          "text": [
            "Model: \"sequential_2\"\n",
            "_________________________________________________________________\n",
            "Layer (type)                 Output Shape              Param #   \n",
            "=================================================================\n",
            "embedding_1 (Embedding)      (None, 26, 200)           1000000   \n",
            "_________________________________________________________________\n",
            "max_pooling1d_1 (MaxPooling1 (None, 13, 200)           0         \n",
            "_________________________________________________________________\n",
            "lstm_1 (LSTM)                (None, 100)               120400    \n",
            "_________________________________________________________________\n",
            "dense_8 (Dense)              (None, 10)                1010      \n",
            "=================================================================\n",
            "Total params: 1,121,410\n",
            "Trainable params: 1,121,410\n",
            "Non-trainable params: 0\n",
            "_________________________________________________________________\n",
            "None\n"
          ],
          "name": "stdout"
        }
      ]
    },
    {
      "cell_type": "code",
      "metadata": {
        "id": "do-2TgsnhZ6L",
        "colab_type": "code",
        "colab": {
          "base_uri": "https://localhost:8080/",
          "height": 1000
        },
        "outputId": "f8eafe72-1892-4967-ffbe-539610a716d9"
      },
      "source": [
        "model.compile(optimizer='adam',\n",
        "              loss='sparse_categorical_crossentropy',\n",
        "              metrics=['accuracy'])\n",
        "\n",
        "# simple early stopping\n",
        "from keras.callbacks import EarlyStopping\n",
        "\n",
        "es = EarlyStopping(monitor='val_loss', mode='min', verbose=1)\n",
        "\n",
        "#Train with early stopping to avoid overfitting\n",
        "history = model.fit(X_train,\n",
        "                    y_train,\n",
        "                    validation_data=(X_val, y_val),\n",
        "                    epochs=50,\n",
        "                    batch_size=128, \n",
        "                   )"
      ],
      "execution_count": null,
      "outputs": [
        {
          "output_type": "stream",
          "text": [
            "Train on 1050 samples, validate on 450 samples\n",
            "Epoch 1/50\n",
            "1050/1050 [==============================] - 5s 5ms/step - loss: 2.1316 - acc: 0.3029 - val_loss: 1.7272 - val_acc: 0.3511\n",
            "Epoch 2/50\n",
            "1050/1050 [==============================] - 0s 381us/step - loss: 1.3686 - acc: 0.3629 - val_loss: 1.2229 - val_acc: 0.3400\n",
            "Epoch 3/50\n",
            "1050/1050 [==============================] - 0s 349us/step - loss: 1.2120 - acc: 0.3676 - val_loss: 1.2381 - val_acc: 0.3111\n",
            "Epoch 4/50\n",
            "1050/1050 [==============================] - 0s 352us/step - loss: 1.1904 - acc: 0.3752 - val_loss: 1.1863 - val_acc: 0.4578\n",
            "Epoch 5/50\n",
            "1050/1050 [==============================] - 0s 360us/step - loss: 1.1460 - acc: 0.5095 - val_loss: 1.1478 - val_acc: 0.5733\n",
            "Epoch 6/50\n",
            "1050/1050 [==============================] - 0s 358us/step - loss: 1.0942 - acc: 0.5457 - val_loss: 1.0684 - val_acc: 0.5689\n",
            "Epoch 7/50\n",
            "1050/1050 [==============================] - 0s 357us/step - loss: 1.0067 - acc: 0.5943 - val_loss: 0.9360 - val_acc: 0.6444\n",
            "Epoch 8/50\n",
            "1050/1050 [==============================] - 0s 357us/step - loss: 0.8625 - acc: 0.6886 - val_loss: 0.8338 - val_acc: 0.6422\n",
            "Epoch 9/50\n",
            "1050/1050 [==============================] - 0s 354us/step - loss: 0.8049 - acc: 0.6476 - val_loss: 0.8109 - val_acc: 0.6689\n",
            "Epoch 10/50\n",
            "1050/1050 [==============================] - 0s 371us/step - loss: 0.7699 - acc: 0.6819 - val_loss: 0.7542 - val_acc: 0.6911\n",
            "Epoch 11/50\n",
            "1050/1050 [==============================] - 0s 360us/step - loss: 0.7381 - acc: 0.7076 - val_loss: 0.6813 - val_acc: 0.7111\n",
            "Epoch 12/50\n",
            "1050/1050 [==============================] - 0s 356us/step - loss: 0.6872 - acc: 0.7171 - val_loss: 0.6599 - val_acc: 0.7289\n",
            "Epoch 13/50\n",
            "1050/1050 [==============================] - 0s 360us/step - loss: 0.6561 - acc: 0.7343 - val_loss: 0.6465 - val_acc: 0.7644\n",
            "Epoch 14/50\n",
            "1050/1050 [==============================] - 0s 357us/step - loss: 0.6345 - acc: 0.7295 - val_loss: 0.5957 - val_acc: 0.7511\n",
            "Epoch 15/50\n",
            "1050/1050 [==============================] - 0s 361us/step - loss: 0.6027 - acc: 0.7543 - val_loss: 0.5935 - val_acc: 0.7889\n",
            "Epoch 16/50\n",
            "1050/1050 [==============================] - 0s 358us/step - loss: 0.5922 - acc: 0.7533 - val_loss: 0.5884 - val_acc: 0.7556\n",
            "Epoch 17/50\n",
            "1050/1050 [==============================] - 0s 355us/step - loss: 0.5776 - acc: 0.7724 - val_loss: 0.5568 - val_acc: 0.7778\n",
            "Epoch 18/50\n",
            "1050/1050 [==============================] - 0s 369us/step - loss: 0.5618 - acc: 0.7810 - val_loss: 0.5153 - val_acc: 0.8200\n",
            "Epoch 19/50\n",
            "1050/1050 [==============================] - 0s 349us/step - loss: 0.5585 - acc: 0.7848 - val_loss: 0.5421 - val_acc: 0.8044\n",
            "Epoch 20/50\n",
            "1050/1050 [==============================] - 0s 347us/step - loss: 0.5293 - acc: 0.7829 - val_loss: 0.4725 - val_acc: 0.8267\n",
            "Epoch 21/50\n",
            "1050/1050 [==============================] - 0s 367us/step - loss: 0.4901 - acc: 0.8048 - val_loss: 0.4803 - val_acc: 0.8200\n",
            "Epoch 22/50\n",
            "1050/1050 [==============================] - 0s 344us/step - loss: 0.4855 - acc: 0.8133 - val_loss: 0.4521 - val_acc: 0.8267\n",
            "Epoch 23/50\n",
            "1050/1050 [==============================] - 0s 355us/step - loss: 0.4443 - acc: 0.8248 - val_loss: 0.5164 - val_acc: 0.7978\n",
            "Epoch 24/50\n",
            "1050/1050 [==============================] - 0s 370us/step - loss: 0.4561 - acc: 0.8267 - val_loss: 0.4259 - val_acc: 0.8311\n",
            "Epoch 25/50\n",
            "1050/1050 [==============================] - 0s 356us/step - loss: 0.4348 - acc: 0.8352 - val_loss: 0.4176 - val_acc: 0.8533\n",
            "Epoch 26/50\n",
            "1050/1050 [==============================] - 0s 366us/step - loss: 0.4263 - acc: 0.8390 - val_loss: 0.4929 - val_acc: 0.8067\n",
            "Epoch 27/50\n",
            "1050/1050 [==============================] - 0s 357us/step - loss: 0.4434 - acc: 0.8305 - val_loss: 0.4710 - val_acc: 0.8044\n",
            "Epoch 28/50\n",
            "1050/1050 [==============================] - 0s 359us/step - loss: 0.4172 - acc: 0.8429 - val_loss: 0.4768 - val_acc: 0.7978\n",
            "Epoch 29/50\n",
            "1050/1050 [==============================] - 0s 369us/step - loss: 0.4375 - acc: 0.8343 - val_loss: 0.4135 - val_acc: 0.8467\n",
            "Epoch 30/50\n",
            "1050/1050 [==============================] - 0s 357us/step - loss: 0.4081 - acc: 0.8476 - val_loss: 0.4079 - val_acc: 0.8489\n",
            "Epoch 31/50\n",
            "1050/1050 [==============================] - 0s 357us/step - loss: 0.3915 - acc: 0.8571 - val_loss: 0.4162 - val_acc: 0.8311\n",
            "Epoch 32/50\n",
            "1050/1050 [==============================] - 0s 358us/step - loss: 0.3812 - acc: 0.8543 - val_loss: 0.4694 - val_acc: 0.8178\n",
            "Epoch 33/50\n",
            "1050/1050 [==============================] - 0s 352us/step - loss: 0.3773 - acc: 0.8686 - val_loss: 0.4016 - val_acc: 0.8467\n",
            "Epoch 34/50\n",
            "1050/1050 [==============================] - 0s 369us/step - loss: 0.3671 - acc: 0.8705 - val_loss: 0.3769 - val_acc: 0.8667\n",
            "Epoch 35/50\n",
            "1050/1050 [==============================] - 0s 358us/step - loss: 0.3447 - acc: 0.8781 - val_loss: 0.3715 - val_acc: 0.8622\n",
            "Epoch 36/50\n",
            "1050/1050 [==============================] - 0s 357us/step - loss: 0.3404 - acc: 0.8790 - val_loss: 0.4227 - val_acc: 0.8267\n",
            "Epoch 37/50\n",
            "1050/1050 [==============================] - 0s 366us/step - loss: 0.4025 - acc: 0.8476 - val_loss: 0.4557 - val_acc: 0.8156\n",
            "Epoch 38/50\n",
            "1050/1050 [==============================] - 0s 354us/step - loss: 0.4042 - acc: 0.8371 - val_loss: 0.4050 - val_acc: 0.8511\n",
            "Epoch 39/50\n",
            "1050/1050 [==============================] - 0s 378us/step - loss: 0.3656 - acc: 0.8600 - val_loss: 0.4183 - val_acc: 0.8156\n",
            "Epoch 40/50\n",
            "1050/1050 [==============================] - 0s 362us/step - loss: 0.3445 - acc: 0.8705 - val_loss: 0.3487 - val_acc: 0.8733\n",
            "Epoch 41/50\n",
            "1050/1050 [==============================] - 0s 349us/step - loss: 0.3208 - acc: 0.8790 - val_loss: 0.3413 - val_acc: 0.8778\n",
            "Epoch 42/50\n",
            "1050/1050 [==============================] - 0s 366us/step - loss: 0.3180 - acc: 0.8810 - val_loss: 0.3586 - val_acc: 0.8622\n",
            "Epoch 43/50\n",
            "1050/1050 [==============================] - 0s 361us/step - loss: 0.3357 - acc: 0.8752 - val_loss: 0.3814 - val_acc: 0.8489\n",
            "Epoch 44/50\n",
            "1050/1050 [==============================] - 0s 351us/step - loss: 0.3710 - acc: 0.8552 - val_loss: 0.4100 - val_acc: 0.8444\n",
            "Epoch 45/50\n",
            "1050/1050 [==============================] - 0s 362us/step - loss: 0.3226 - acc: 0.8838 - val_loss: 0.3480 - val_acc: 0.8733\n",
            "Epoch 46/50\n",
            "1050/1050 [==============================] - 0s 371us/step - loss: 0.3096 - acc: 0.8819 - val_loss: 0.3317 - val_acc: 0.8778\n",
            "Epoch 47/50\n",
            "1050/1050 [==============================] - 0s 362us/step - loss: 0.2840 - acc: 0.8952 - val_loss: 0.3253 - val_acc: 0.8756\n",
            "Epoch 48/50\n",
            "1050/1050 [==============================] - 0s 362us/step - loss: 0.2807 - acc: 0.8952 - val_loss: 0.3165 - val_acc: 0.8889\n",
            "Epoch 49/50\n",
            "1050/1050 [==============================] - 0s 358us/step - loss: 0.2770 - acc: 0.9000 - val_loss: 0.3147 - val_acc: 0.8867\n",
            "Epoch 50/50\n",
            "1050/1050 [==============================] - 0s 358us/step - loss: 0.2769 - acc: 0.9010 - val_loss: 0.3127 - val_acc: 0.8867\n"
          ],
          "name": "stdout"
        }
      ]
    },
    {
      "cell_type": "code",
      "metadata": {
        "id": "cAsWNFk5oITH",
        "colab_type": "code",
        "colab": {
          "base_uri": "https://localhost:8080/",
          "height": 265
        },
        "outputId": "7361afcd-1400-4fd3-87c9-6c6951536846"
      },
      "source": [
        "# plot training history\n",
        "from matplotlib import pyplot\n",
        "pyplot.plot(history.history['loss'], label='train')\n",
        "pyplot.plot(history.history['val_loss'], label='test')\n",
        "pyplot.legend()\n",
        "pyplot.show()"
      ],
      "execution_count": null,
      "outputs": [
        {
          "output_type": "display_data",
          "data": {
            "image/png": "[encoded data removed]",
            "text/plain": [
              "<Figure size 432x288 with 1 Axes>"
            ]
          },
          "metadata": {
            "tags": []
          }
        }
      ]
    },
    {
      "cell_type": "code",
      "metadata": {
        "id": "d-gxzCxHhsHs",
        "colab_type": "code",
        "colab": {
          "base_uri": "https://localhost:8080/",
          "height": 627
        },
        "outputId": "4110d7d2-3415-4eca-f6d8-bfff72ddc727"
      },
      "source": [
        "print('\\n# TEST DATA #\\n')\n",
        "score_lstm = model.evaluate(X_val, y_val)\n",
        "print(\"%s: %.2f%%\" % (model.metrics_names[1], score_lstm[1]*100))\n",
        "prediction = model.predict_classes(X_val)\n",
        "\n",
        "ground_truth = y_val\n",
        "\n",
        "data = {\n",
        "    'prediction': prediction,\n",
        "    'ground_truth': ground_truth\n",
        "    \n",
        "}\n",
        "\n",
        "data = pd.DataFrame(data)\n",
        "# data.head(100)\n",
        "plotly.scatter(data,x='prediction',y='ground_truth')"
      ],
      "execution_count": null,
      "outputs": [
        {
          "output_type": "stream",
          "text": [
            "\n",
            "# TEST DATA #\n",
            "\n",
            "450/450 [==============================] - 0s 404us/step\n",
            "acc: 88.67%\n"
          ],
          "name": "stdout"
        },
        {
          "output_type": "display_data",
          "data": {
            "text/html": [
              "<html>\n",
              "<head><meta charset=\"utf-8\" /></head>\n",
              "<body>\n",
              "    <div>\n",
              "            <script src=\"https://cdnjs.cloudflare.com/ajax/libs/mathjax/2.7.5/MathJax.js?config=TeX-AMS-MML_SVG\"></script><script type=\"text/javascript\">if (window.MathJax) {MathJax.Hub.Config({SVG: {font: \"STIX-Web\"}});}</script>\n",
              "                <script type=\"text/javascript\">window.PlotlyConfig = {MathJaxConfig: 'local'};</script>\n",
              "        <script src=\"https://cdn.plot.ly/plotly-latest.min.js\"></script>    \n",
              "            <div id=\"f8ad1397-2353-4085-b9d7-c45ede60aa8a\" class=\"plotly-graph-div\" style=\"height:525px; width:100%;\"></div>\n",
              "            <script type=\"text/javascript\">\n",
              "                \n",
              "                    window.PLOTLYENV=window.PLOTLYENV || {};\n",
              "                    \n",
              "                if (document.getElementById(\"f8ad1397-2353-4085-b9d7-c45ede60aa8a\")) {\n",
              "                    Plotly.newPlot(\n",
              "                        'f8ad1397-2353-4085-b9d7-c45ede60aa8a',\n",
              "                        [{\"hoverlabel\": {\"namelength\": 0}, \"hovertemplate\": \"prediction=%{x}<br>ground_truth=%{y}\", \"legendgroup\": \"\", \"marker\": {\"color\": \"#636efa\", \"symbol\": \"circle\"}, \"mode\": \"markers\", \"name\": \"\", \"showlegend\": false, \"type\": \"scatter\", \"x\": [1, 0, 2, 2, 0, 2, 0, 0, 0, 2, 0, 2, 2, 1, 1, 1, 3, 0, 0, 1, 0, 2, 0, 1, 1, 0, 2, 3, 1, 2, 1, 0, 2, 0, 1, 0, 2, 1, 1, 1, 1, 2, 0, 2, 1, 0, 1, 0, 0, 2, 0, 2, 2, 2, 2, 1, 1, 1, 0, 0, 2, 2, 0, 1, 1, 1, 0, 1, 1, 0, 0, 2, 1, 2, 2, 0, 1, 1, 0, 0, 0, 0, 1, 1, 1, 1, 0, 0, 2, 0, 1, 0, 2, 1, 0, 0, 2, 2, 2, 0, 2, 2, 2, 1, 1, 0, 1, 2, 0, 2, 0, 0, 0, 1, 2, 0, 1, 0, 1, 1, 2, 1, 2, 0, 2, 1, 2, 0, 0, 0, 1, 1, 2, 3, 2, 0, 1, 1, 2, 2, 0, 2, 3, 1, 1, 2, 2, 1, 0, 0, 0, 0, 1, 2, 1, 2, 2, 0, 1, 0, 2, 1, 2, 1, 2, 2, 3, 2, 1, 1, 1, 1, 1, 2, 2, 1, 1, 1, 0, 2, 2, 2, 1, 2, 2, 1, 1, 1, 0, 0, 1, 0, 0, 0, 1, 0, 0, 0, 0, 0, 1, 0, 0, 0, 0, 1, 2, 1, 1, 0, 1, 2, 0, 0, 2, 0, 0, 0, 0, 1, 1, 0, 0, 2, 1, 0, 2, 1, 0, 1, 0, 0, 2, 2, 2, 0, 0, 1, 1, 2, 0, 0, 2, 2, 1, 1, 1, 2, 0, 2, 2, 2, 0, 0, 0, 1, 1, 0, 1, 2, 2, 1, 0, 1, 0, 2, 0, 1, 0, 0, 1, 1, 0, 2, 2, 1, 2, 0, 1, 0, 0, 2, 1, 2, 1, 0, 1, 1, 1, 1, 0, 2, 2, 2, 0, 2, 1, 1, 2, 1, 1, 1, 2, 1, 0, 1, 0, 2, 0, 0, 2, 1, 2, 0, 1, 2, 2, 0, 2, 1, 0, 0, 1, 2, 1, 0, 1, 2, 0, 2, 4, 0, 4, 1, 1, 0, 1, 2, 1, 1, 0, 1, 1, 0, 1, 2, 2, 2, 0, 0, 2, 2, 1, 0, 1, 1, 0, 1, 0, 0, 2, 1, 2, 0, 1, 0, 1, 2, 0, 2, 0, 2, 1, 1, 0, 1, 1, 4, 0, 2, 0, 1, 0, 1, 1, 1, 0, 0, 1, 2, 0, 1, 1, 0, 2, 0, 1, 1, 2, 0, 2, 0, 1, 1, 1, 2, 2, 1, 1, 0, 0, 0, 0, 2, 2, 2, 2, 1, 2, 1, 0, 1, 0, 1, 1, 2, 1, 1, 2, 2, 2, 2, 0, 2, 2, 2, 0, 1, 2, 1, 2, 1, 1, 1, 2, 1, 2, 1, 0, 3], \"xaxis\": \"x\", \"y\": [\"1\", \"0\", \"2\", \"2\", \"0\", \"2\", \"0\", \"0\", \"1\", \"2\", \"0\", \"2\", \"2\", \"1\", \"1\", \"1\", \"3\", \"0\", \"2\", \"1\", \"0\", \"2\", \"0\", \"1\", \"1\", \"2\", \"2\", \"3\", \"1\", \"2\", \"1\", \"0\", \"2\", \"0\", \"1\", \"0\", \"2\", \"2\", \"1\", \"1\", \"1\", \"2\", \"0\", \"2\", \"1\", \"1\", \"1\", \"0\", \"0\", \"2\", \"0\", \"2\", \"2\", \"2\", \"2\", \"1\", \"1\", \"1\", \"0\", \"0\", \"0\", \"2\", \"0\", \"1\", \"1\", \"1\", \"0\", \"1\", \"1\", \"0\", \"0\", \"2\", \"1\", \"2\", \"2\", \"0\", \"1\", \"1\", \"0\", \"0\", \"0\", \"0\", \"1\", \"1\", \"1\", \"1\", \"0\", \"0\", \"0\", \"0\", \"1\", \"2\", \"2\", \"1\", \"0\", \"0\", \"2\", \"2\", \"2\", \"2\", \"2\", \"2\", \"2\", \"1\", \"1\", \"0\", \"1\", \"2\", \"0\", \"2\", \"0\", \"0\", \"0\", \"1\", \"2\", \"2\", \"1\", \"0\", \"2\", \"1\", \"2\", \"1\", \"2\", \"2\", \"2\", \"1\", \"2\", \"0\", \"0\", \"0\", \"1\", \"1\", \"2\", \"5\", \"2\", \"0\", \"1\", \"1\", \"2\", \"2\", \"0\", \"2\", \"3\", \"1\", \"2\", \"2\", \"2\", \"2\", \"0\", \"0\", \"0\", \"0\", \"1\", \"2\", \"1\", \"2\", \"2\", \"0\", \"1\", \"0\", \"2\", \"1\", \"2\", \"1\", \"2\", \"2\", \"4\", \"0\", \"1\", \"1\", \"1\", \"1\", \"1\", \"2\", \"2\", \"1\", \"1\", \"1\", \"0\", \"2\", \"2\", \"2\", \"1\", \"0\", \"2\", \"1\", \"2\", \"1\", \"0\", \"0\", \"2\", \"0\", \"0\", \"0\", \"1\", \"0\", \"0\", \"0\", \"0\", \"2\", \"1\", \"0\", \"2\", \"0\", \"0\", \"1\", \"0\", \"1\", \"1\", \"2\", \"1\", \"2\", \"0\", \"2\", \"2\", \"0\", \"0\", \"0\", \"0\", \"1\", \"1\", \"0\", \"0\", \"2\", \"1\", \"0\", \"0\", \"1\", \"0\", \"1\", \"0\", \"2\", \"2\", \"2\", \"2\", \"0\", \"0\", \"1\", \"1\", \"2\", \"0\", \"0\", \"2\", \"2\", \"1\", \"1\", \"0\", \"2\", \"0\", \"0\", \"2\", \"2\", \"0\", \"0\", \"0\", \"1\", \"1\", \"0\", \"1\", \"2\", \"2\", \"1\", \"0\", \"1\", \"2\", \"2\", \"0\", \"1\", \"0\", \"0\", \"1\", \"1\", \"0\", \"2\", \"2\", \"1\", \"2\", \"0\", \"1\", \"0\", \"0\", \"2\", \"1\", \"2\", \"1\", \"0\", \"1\", \"1\", \"1\", \"1\", \"0\", \"2\", \"2\", \"2\", \"0\", \"2\", \"1\", \"1\", \"2\", \"1\", \"1\", \"1\", \"5\", \"1\", \"0\", \"1\", \"5\", \"0\", \"2\", \"0\", \"2\", \"1\", \"2\", \"0\", \"1\", \"1\", \"2\", \"0\", \"2\", \"1\", \"0\", \"0\", \"1\", \"2\", \"1\", \"2\", \"1\", \"2\", \"2\", \"2\", \"4\", \"0\", \"4\", \"1\", \"1\", \"2\", \"1\", \"2\", \"1\", \"2\", \"0\", \"1\", \"1\", \"0\", \"1\", \"2\", \"2\", \"2\", \"1\", \"0\", \"0\", \"2\", \"1\", \"0\", \"0\", \"1\", \"0\", \"1\", \"0\", \"0\", \"2\", \"1\", \"2\", \"0\", \"1\", \"0\", \"1\", \"2\", \"0\", \"2\", \"0\", \"2\", \"2\", \"1\", \"0\", \"1\", \"1\", \"4\", \"2\", \"0\", \"0\", \"1\", \"0\", \"1\", \"1\", \"1\", \"0\", \"0\", \"1\", \"2\", \"0\", \"1\", \"1\", \"0\", \"2\", \"0\", \"1\", \"1\", \"2\", \"0\", \"2\", \"2\", \"1\", \"1\", \"0\", \"2\", \"2\", \"1\", \"1\", \"0\", \"0\", \"0\", \"0\", \"2\", \"2\", \"2\", \"2\", \"1\", \"1\", \"1\", \"2\", \"1\", \"0\", \"1\", \"1\", \"2\", \"1\", \"1\", \"2\", \"2\", \"2\", \"2\", \"0\", \"2\", \"2\", \"2\", \"0\", \"1\", \"0\", \"1\", \"2\", \"1\", \"1\", \"1\", \"2\", \"1\", \"2\", \"1\", \"0\", \"4\"], \"yaxis\": \"y\"}],\n",
              "                        {\"legend\": {\"tracegroupgap\": 0}, \"margin\": {\"t\": 60}, \"template\": {\"data\": {\"bar\": [{\"error_x\": {\"color\": \"#2a3f5f\"}, \"error_y\": {\"color\": \"#2a3f5f\"}, \"marker\": {\"line\": {\"color\": \"#E5ECF6\", \"width\": 0.5}}, \"type\": \"bar\"}], \"barpolar\": [{\"marker\": {\"line\": {\"color\": \"#E5ECF6\", \"width\": 0.5}}, \"type\": \"barpolar\"}], \"carpet\": [{\"aaxis\": {\"endlinecolor\": \"#2a3f5f\", \"gridcolor\": \"white\", \"linecolor\": \"white\", \"minorgridcolor\": \"white\", \"startlinecolor\": \"#2a3f5f\"}, \"baxis\": {\"endlinecolor\": \"#2a3f5f\", \"gridcolor\": \"white\", \"linecolor\": \"white\", \"minorgridcolor\": \"white\", \"startlinecolor\": \"#2a3f5f\"}, \"type\": \"carpet\"}], \"choropleth\": [{\"colorbar\": {\"outlinewidth\": 0, \"ticks\": \"\"}, \"type\": \"choropleth\"}], \"contour\": [{\"colorbar\": {\"outlinewidth\": 0, \"ticks\": \"\"}, \"colorscale\": [[0.0, \"#0d0887\"], [0.1111111111111111, \"#46039f\"], [0.2222222222222222, \"#7201a8\"], [0.3333333333333333, \"#9c179e\"], [0.4444444444444444, \"#bd3786\"], [0.5555555555555556, \"#d8576b\"], [0.6666666666666666, \"#ed7953\"], [0.7777777777777778, \"#fb9f3a\"], [0.8888888888888888, \"#fdca26\"], [1.0, \"#f0f921\"]], \"type\": \"contour\"}], \"contourcarpet\": [{\"colorbar\": {\"outlinewidth\": 0, \"ticks\": \"\"}, \"type\": \"contourcarpet\"}], \"heatmap\": [{\"colorbar\": {\"outlinewidth\": 0, \"ticks\": \"\"}, \"colorscale\": [[0.0, \"#0d0887\"], [0.1111111111111111, \"#46039f\"], [0.2222222222222222, \"#7201a8\"], [0.3333333333333333, \"#9c179e\"], [0.4444444444444444, \"#bd3786\"], [0.5555555555555556, \"#d8576b\"], [0.6666666666666666, \"#ed7953\"], [0.7777777777777778, \"#fb9f3a\"], [0.8888888888888888, \"#fdca26\"], [1.0, \"#f0f921\"]], \"type\": \"heatmap\"}], \"heatmapgl\": [{\"colorbar\": {\"outlinewidth\": 0, \"ticks\": \"\"}, \"colorscale\": [[0.0, \"#0d0887\"], [0.1111111111111111, \"#46039f\"], [0.2222222222222222, \"#7201a8\"], [0.3333333333333333, \"#9c179e\"], [0.4444444444444444, \"#bd3786\"], [0.5555555555555556, \"#d8576b\"], [0.6666666666666666, \"#ed7953\"], [0.7777777777777778, \"#fb9f3a\"], [0.8888888888888888, \"#fdca26\"], [1.0, \"#f0f921\"]], \"type\": \"heatmapgl\"}], \"histogram\": [{\"marker\": {\"colorbar\": {\"outlinewidth\": 0, \"ticks\": \"\"}}, \"type\": \"histogram\"}], \"histogram2d\": [{\"colorbar\": {\"outlinewidth\": 0, \"ticks\": \"\"}, \"colorscale\": [[0.0, \"#0d0887\"], [0.1111111111111111, \"#46039f\"], [0.2222222222222222, \"#7201a8\"], [0.3333333333333333, \"#9c179e\"], [0.4444444444444444, \"#bd3786\"], [0.5555555555555556, \"#d8576b\"], [0.6666666666666666, \"#ed7953\"], [0.7777777777777778, \"#fb9f3a\"], [0.8888888888888888, \"#fdca26\"], [1.0, \"#f0f921\"]], \"type\": \"histogram2d\"}], \"histogram2dcontour\": [{\"colorbar\": {\"outlinewidth\": 0, \"ticks\": \"\"}, \"colorscale\": [[0.0, \"#0d0887\"], [0.1111111111111111, \"#46039f\"], [0.2222222222222222, \"#7201a8\"], [0.3333333333333333, \"#9c179e\"], [0.4444444444444444, \"#bd3786\"], [0.5555555555555556, \"#d8576b\"], [0.6666666666666666, \"#ed7953\"], [0.7777777777777778, \"#fb9f3a\"], [0.8888888888888888, \"#fdca26\"], [1.0, \"#f0f921\"]], \"type\": \"histogram2dcontour\"}], \"mesh3d\": [{\"colorbar\": {\"outlinewidth\": 0, \"ticks\": \"\"}, \"type\": \"mesh3d\"}], \"parcoords\": [{\"line\": {\"colorbar\": {\"outlinewidth\": 0, \"ticks\": \"\"}}, \"type\": \"parcoords\"}], \"pie\": [{\"automargin\": true, \"type\": \"pie\"}], \"scatter\": [{\"marker\": {\"colorbar\": {\"outlinewidth\": 0, \"ticks\": \"\"}}, \"type\": \"scatter\"}], \"scatter3d\": [{\"line\": {\"colorbar\": {\"outlinewidth\": 0, \"ticks\": \"\"}}, \"marker\": {\"colorbar\": {\"outlinewidth\": 0, \"ticks\": \"\"}}, \"type\": \"scatter3d\"}], \"scattercarpet\": [{\"marker\": {\"colorbar\": {\"outlinewidth\": 0, \"ticks\": \"\"}}, \"type\": \"scattercarpet\"}], \"scattergeo\": [{\"marker\": {\"colorbar\": {\"outlinewidth\": 0, \"ticks\": \"\"}}, \"type\": \"scattergeo\"}], \"scattergl\": [{\"marker\": {\"colorbar\": {\"outlinewidth\": 0, \"ticks\": \"\"}}, \"type\": \"scattergl\"}], \"scattermapbox\": [{\"marker\": {\"colorbar\": {\"outlinewidth\": 0, \"ticks\": \"\"}}, \"type\": \"scattermapbox\"}], \"scatterpolar\": [{\"marker\": {\"colorbar\": {\"outlinewidth\": 0, \"ticks\": \"\"}}, \"type\": \"scatterpolar\"}], \"scatterpolargl\": [{\"marker\": {\"colorbar\": {\"outlinewidth\": 0, \"ticks\": \"\"}}, \"type\": \"scatterpolargl\"}], \"scatterternary\": [{\"marker\": {\"colorbar\": {\"outlinewidth\": 0, \"ticks\": \"\"}}, \"type\": \"scatterternary\"}], \"surface\": [{\"colorbar\": {\"outlinewidth\": 0, \"ticks\": \"\"}, \"colorscale\": [[0.0, \"#0d0887\"], [0.1111111111111111, \"#46039f\"], [0.2222222222222222, \"#7201a8\"], [0.3333333333333333, \"#9c179e\"], [0.4444444444444444, \"#bd3786\"], [0.5555555555555556, \"#d8576b\"], [0.6666666666666666, \"#ed7953\"], [0.7777777777777778, \"#fb9f3a\"], [0.8888888888888888, \"#fdca26\"], [1.0, \"#f0f921\"]], \"type\": \"surface\"}], \"table\": [{\"cells\": {\"fill\": {\"color\": \"#EBF0F8\"}, \"line\": {\"color\": \"white\"}}, \"header\": {\"fill\": {\"color\": \"#C8D4E3\"}, \"line\": {\"color\": \"white\"}}, \"type\": \"table\"}]}, \"layout\": {\"annotationdefaults\": {\"arrowcolor\": \"#2a3f5f\", \"arrowhead\": 0, \"arrowwidth\": 1}, \"coloraxis\": {\"colorbar\": {\"outlinewidth\": 0, \"ticks\": \"\"}}, \"colorscale\": {\"diverging\": [[0, \"#8e0152\"], [0.1, \"#c51b7d\"], [0.2, \"#de77ae\"], [0.3, \"#f1b6da\"], [0.4, \"#fde0ef\"], [0.5, \"#f7f7f7\"], [0.6, \"#e6f5d0\"], [0.7, \"#b8e186\"], [0.8, \"#7fbc41\"], [0.9, \"#4d9221\"], [1, \"#276419\"]], \"sequential\": [[0.0, \"#0d0887\"], [0.1111111111111111, \"#46039f\"], [0.2222222222222222, \"#7201a8\"], [0.3333333333333333, \"#9c179e\"], [0.4444444444444444, \"#bd3786\"], [0.5555555555555556, \"#d8576b\"], [0.6666666666666666, \"#ed7953\"], [0.7777777777777778, \"#fb9f3a\"], [0.8888888888888888, \"#fdca26\"], [1.0, \"#f0f921\"]], \"sequentialminus\": [[0.0, \"#0d0887\"], [0.1111111111111111, \"#46039f\"], [0.2222222222222222, \"#7201a8\"], [0.3333333333333333, \"#9c179e\"], [0.4444444444444444, \"#bd3786\"], [0.5555555555555556, \"#d8576b\"], [0.6666666666666666, \"#ed7953\"], [0.7777777777777778, \"#fb9f3a\"], [0.8888888888888888, \"#fdca26\"], [1.0, \"#f0f921\"]]}, \"colorway\": [\"#636efa\", \"#EF553B\", \"#00cc96\", \"#ab63fa\", \"#FFA15A\", \"#19d3f3\", \"#FF6692\", \"#B6E880\", \"#FF97FF\", \"#FECB52\"], \"font\": {\"color\": \"#2a3f5f\"}, \"geo\": {\"bgcolor\": \"white\", \"lakecolor\": \"white\", \"landcolor\": \"#E5ECF6\", \"showlakes\": true, \"showland\": true, \"subunitcolor\": \"white\"}, \"hoverlabel\": {\"align\": \"left\"}, \"hovermode\": \"closest\", \"mapbox\": {\"style\": \"light\"}, \"paper_bgcolor\": \"white\", \"plot_bgcolor\": \"#E5ECF6\", \"polar\": {\"angularaxis\": {\"gridcolor\": \"white\", \"linecolor\": \"white\", \"ticks\": \"\"}, \"bgcolor\": \"#E5ECF6\", \"radialaxis\": {\"gridcolor\": \"white\", \"linecolor\": \"white\", \"ticks\": \"\"}}, \"scene\": {\"xaxis\": {\"backgroundcolor\": \"#E5ECF6\", \"gridcolor\": \"white\", \"gridwidth\": 2, \"linecolor\": \"white\", \"showbackground\": true, \"ticks\": \"\", \"zerolinecolor\": \"white\"}, \"yaxis\": {\"backgroundcolor\": \"#E5ECF6\", \"gridcolor\": \"white\", \"gridwidth\": 2, \"linecolor\": \"white\", \"showbackground\": true, \"ticks\": \"\", \"zerolinecolor\": \"white\"}, \"zaxis\": {\"backgroundcolor\": \"#E5ECF6\", \"gridcolor\": \"white\", \"gridwidth\": 2, \"linecolor\": \"white\", \"showbackground\": true, \"ticks\": \"\", \"zerolinecolor\": \"white\"}}, \"shapedefaults\": {\"line\": {\"color\": \"#2a3f5f\"}}, \"ternary\": {\"aaxis\": {\"gridcolor\": \"white\", \"linecolor\": \"white\", \"ticks\": \"\"}, \"baxis\": {\"gridcolor\": \"white\", \"linecolor\": \"white\", \"ticks\": \"\"}, \"bgcolor\": \"#E5ECF6\", \"caxis\": {\"gridcolor\": \"white\", \"linecolor\": \"white\", \"ticks\": \"\"}}, \"title\": {\"x\": 0.05}, \"xaxis\": {\"automargin\": true, \"gridcolor\": \"white\", \"linecolor\": \"white\", \"ticks\": \"\", \"title\": {\"standoff\": 15}, \"zerolinecolor\": \"white\", \"zerolinewidth\": 2}, \"yaxis\": {\"automargin\": true, \"gridcolor\": \"white\", \"linecolor\": \"white\", \"ticks\": \"\", \"title\": {\"standoff\": 15}, \"zerolinecolor\": \"white\", \"zerolinewidth\": 2}}}, \"xaxis\": {\"anchor\": \"y\", \"domain\": [0.0, 1.0], \"title\": {\"text\": \"prediction\"}}, \"yaxis\": {\"anchor\": \"x\", \"domain\": [0.0, 1.0], \"title\": {\"text\": \"ground_truth\"}}},\n",
              "                        {\"responsive\": true}\n",
              "                    ).then(function(){\n",
              "                            \n",
              "var gd = document.getElementById('f8ad1397-2353-4085-b9d7-c45ede60aa8a');\n",
              "var x = new MutationObserver(function (mutations, observer) {{\n",
              "        var display = window.getComputedStyle(gd).display;\n",
              "        if (!display || display === 'none') {{\n",
              "            console.log([gd, 'removed!']);\n",
              "            Plotly.purge(gd);\n",
              "            observer.disconnect();\n",
              "        }}\n",
              "}});\n",
              "\n",
              "// Listen for the removal of the full notebook cells\n",
              "var notebookContainer = gd.closest('#notebook-container');\n",
              "if (notebookContainer) {{\n",
              "    x.observe(notebookContainer, {childList: true});\n",
              "}}\n",
              "\n",
              "// Listen for the clearing of the current output cell\n",
              "var outputEl = gd.closest('.output');\n",
              "if (outputEl) {{\n",
              "    x.observe(outputEl, {childList: true});\n",
              "}}\n",
              "\n",
              "                        })\n",
              "                };\n",
              "                \n",
              "            </script>\n",
              "        </div>\n",
              "</body>\n",
              "</html>"
            ]
          },
          "metadata": {
            "tags": []
          }
        }
      ]
    },
    {
      "cell_type": "code",
      "metadata": {
        "id": "g34wElV5pbOC",
        "colab_type": "code",
        "colab": {
          "base_uri": "https://localhost:8080/",
          "height": 204
        },
        "outputId": "c35078db-2dcb-4c48-bd76-c17110253a86"
      },
      "source": [
        "data.head()"
      ],
      "execution_count": null,
      "outputs": [
        {
          "output_type": "execute_result",
          "data": {
            "text/html": [
              "<div>\n",
              "<style scoped>\n",
              "    .dataframe tbody tr th:only-of-type {\n",
              "        vertical-align: middle;\n",
              "    }\n",
              "\n",
              "    .dataframe tbody tr th {\n",
              "        vertical-align: top;\n",
              "    }\n",
              "\n",
              "    .dataframe thead th {\n",
              "        text-align: right;\n",
              "    }\n",
              "</style>\n",
              "<table border=\"1\" class=\"dataframe\">\n",
              "  <thead>\n",
              "    <tr style=\"text-align: right;\">\n",
              "      <th></th>\n",
              "      <th>prediction</th>\n",
              "      <th>ground_truth</th>\n",
              "    </tr>\n",
              "  </thead>\n",
              "  <tbody>\n",
              "    <tr>\n",
              "      <th>1116</th>\n",
              "      <td>1</td>\n",
              "      <td>1</td>\n",
              "    </tr>\n",
              "    <tr>\n",
              "      <th>1368</th>\n",
              "      <td>0</td>\n",
              "      <td>0</td>\n",
              "    </tr>\n",
              "    <tr>\n",
              "      <th>422</th>\n",
              "      <td>2</td>\n",
              "      <td>2</td>\n",
              "    </tr>\n",
              "    <tr>\n",
              "      <th>413</th>\n",
              "      <td>2</td>\n",
              "      <td>2</td>\n",
              "    </tr>\n",
              "    <tr>\n",
              "      <th>451</th>\n",
              "      <td>0</td>\n",
              "      <td>0</td>\n",
              "    </tr>\n",
              "  </tbody>\n",
              "</table>\n",
              "</div>"
            ],
            "text/plain": [
              "      prediction ground_truth\n",
              "1116           1            1\n",
              "1368           0            0\n",
              "422            2            2\n",
              "413            2            2\n",
              "451            0            0"
            ]
          },
          "metadata": {
            "tags": []
          },
          "execution_count": 19
        }
      ]
    },
    {
      "cell_type": "markdown",
      "metadata": {
        "id": "I2yxBx_mntn-",
        "colab_type": "text"
      },
      "source": [
        "# MLP"
      ]
    },
    {
      "cell_type": "code",
      "metadata": {
        "id": "P1QNV_P8ka-X",
        "colab_type": "code",
        "colab": {}
      },
      "source": [
        "model = Sequential()\n",
        "model.add(layers.Dense(1024, activation='relu', input_shape=(X_train.shape[1],)))\n",
        "model.add(Dense(10, activation='softmax'))"
      ],
      "execution_count": null,
      "outputs": []
    },
    {
      "cell_type": "code",
      "metadata": {
        "id": "WELw2B5wn6dX",
        "colab_type": "code",
        "colab": {
          "base_uri": "https://localhost:8080/",
          "height": 1000
        },
        "outputId": "0b3a023b-f17e-42b4-fbe2-f2303650f96f"
      },
      "source": [
        "model.compile(optimizer='adam',\n",
        "              loss='sparse_categorical_crossentropy',\n",
        "              metrics=['accuracy'])\n",
        "\n",
        "# simple early stopping\n",
        "from keras.callbacks import EarlyStopping\n",
        "\n",
        "es = EarlyStopping(monitor='val_loss', mode='min', verbose=1)\n",
        "\n",
        "#Train with early stopping to avoid overfitting\n",
        "history = model.fit(X_train,\n",
        "                    y_train,\n",
        "                    validation_data=(X_val, y_val),\n",
        "                    epochs=50,\n",
        "                    batch_size=128, \n",
        "                   )"
      ],
      "execution_count": null,
      "outputs": [
        {
          "output_type": "stream",
          "text": [
            "Train on 1050 samples, validate on 450 samples\n",
            "Epoch 1/50\n",
            "1050/1050 [==============================] - 0s 470us/step - loss: 1.6114 - acc: 0.7076 - val_loss: 0.8502 - val_acc: 0.9067\n",
            "Epoch 2/50\n",
            "1050/1050 [==============================] - 0s 42us/step - loss: 0.5683 - acc: 0.9333 - val_loss: 0.4044 - val_acc: 0.9333\n",
            "Epoch 3/50\n",
            "1050/1050 [==============================] - 0s 44us/step - loss: 0.2817 - acc: 0.9600 - val_loss: 0.2436 - val_acc: 0.9533\n",
            "Epoch 4/50\n",
            "1050/1050 [==============================] - 0s 56us/step - loss: 0.1630 - acc: 0.9733 - val_loss: 0.1586 - val_acc: 0.9711\n",
            "Epoch 5/50\n",
            "1050/1050 [==============================] - 0s 43us/step - loss: 0.1090 - acc: 0.9829 - val_loss: 0.1152 - val_acc: 0.9756\n",
            "Epoch 6/50\n",
            "1050/1050 [==============================] - 0s 49us/step - loss: 0.0824 - acc: 0.9905 - val_loss: 0.0890 - val_acc: 0.9756\n",
            "Epoch 7/50\n",
            "1050/1050 [==============================] - 0s 48us/step - loss: 0.0622 - acc: 0.9905 - val_loss: 0.0726 - val_acc: 0.9844\n",
            "Epoch 8/50\n",
            "1050/1050 [==============================] - 0s 40us/step - loss: 0.0505 - acc: 0.9924 - val_loss: 0.0600 - val_acc: 0.9889\n",
            "Epoch 9/50\n",
            "1050/1050 [==============================] - 0s 45us/step - loss: 0.0413 - acc: 0.9952 - val_loss: 0.0530 - val_acc: 0.9889\n",
            "Epoch 10/50\n",
            "1050/1050 [==============================] - 0s 41us/step - loss: 0.0325 - acc: 0.9971 - val_loss: 0.0489 - val_acc: 0.9889\n",
            "Epoch 11/50\n",
            "1050/1050 [==============================] - 0s 44us/step - loss: 0.0276 - acc: 0.9971 - val_loss: 0.0485 - val_acc: 0.9889\n",
            "Epoch 12/50\n",
            "1050/1050 [==============================] - 0s 44us/step - loss: 0.0238 - acc: 0.9971 - val_loss: 0.0443 - val_acc: 0.9889\n",
            "Epoch 13/50\n",
            "1050/1050 [==============================] - 0s 46us/step - loss: 0.0205 - acc: 0.9990 - val_loss: 0.0372 - val_acc: 0.9889\n",
            "Epoch 14/50\n",
            "1050/1050 [==============================] - 0s 44us/step - loss: 0.0181 - acc: 0.9990 - val_loss: 0.0342 - val_acc: 0.9889\n",
            "Epoch 15/50\n",
            "1050/1050 [==============================] - 0s 48us/step - loss: 0.0160 - acc: 0.9990 - val_loss: 0.0353 - val_acc: 0.9889\n",
            "Epoch 16/50\n",
            "1050/1050 [==============================] - 0s 46us/step - loss: 0.0143 - acc: 0.9990 - val_loss: 0.0343 - val_acc: 0.9889\n",
            "Epoch 17/50\n",
            "1050/1050 [==============================] - 0s 44us/step - loss: 0.0130 - acc: 0.9990 - val_loss: 0.0330 - val_acc: 0.9889\n",
            "Epoch 18/50\n",
            "1050/1050 [==============================] - 0s 44us/step - loss: 0.0117 - acc: 0.9990 - val_loss: 0.0318 - val_acc: 0.9889\n",
            "Epoch 19/50\n",
            "1050/1050 [==============================] - 0s 44us/step - loss: 0.0107 - acc: 0.9990 - val_loss: 0.0307 - val_acc: 0.9889\n",
            "Epoch 20/50\n",
            "1050/1050 [==============================] - 0s 42us/step - loss: 0.0098 - acc: 0.9990 - val_loss: 0.0288 - val_acc: 0.9889\n",
            "Epoch 21/50\n",
            "1050/1050 [==============================] - 0s 40us/step - loss: 0.0090 - acc: 1.0000 - val_loss: 0.0275 - val_acc: 0.9889\n",
            "Epoch 22/50\n",
            "1050/1050 [==============================] - 0s 43us/step - loss: 0.0083 - acc: 1.0000 - val_loss: 0.0272 - val_acc: 0.9889\n",
            "Epoch 23/50\n",
            "1050/1050 [==============================] - 0s 46us/step - loss: 0.0077 - acc: 1.0000 - val_loss: 0.0274 - val_acc: 0.9889\n",
            "Epoch 24/50\n",
            "1050/1050 [==============================] - 0s 42us/step - loss: 0.0071 - acc: 1.0000 - val_loss: 0.0268 - val_acc: 0.9889\n",
            "Epoch 25/50\n",
            "1050/1050 [==============================] - 0s 56us/step - loss: 0.0066 - acc: 1.0000 - val_loss: 0.0278 - val_acc: 0.9889\n",
            "Epoch 26/50\n",
            "1050/1050 [==============================] - 0s 49us/step - loss: 0.0062 - acc: 1.0000 - val_loss: 0.0272 - val_acc: 0.9889\n",
            "Epoch 27/50\n",
            "1050/1050 [==============================] - 0s 38us/step - loss: 0.0058 - acc: 1.0000 - val_loss: 0.0268 - val_acc: 0.9889\n",
            "Epoch 28/50\n",
            "1050/1050 [==============================] - 0s 44us/step - loss: 0.0055 - acc: 1.0000 - val_loss: 0.0261 - val_acc: 0.9889\n",
            "Epoch 29/50\n",
            "1050/1050 [==============================] - 0s 42us/step - loss: 0.0051 - acc: 1.0000 - val_loss: 0.0254 - val_acc: 0.9889\n",
            "Epoch 30/50\n",
            "1050/1050 [==============================] - 0s 45us/step - loss: 0.0048 - acc: 1.0000 - val_loss: 0.0242 - val_acc: 0.9889\n",
            "Epoch 31/50\n",
            "1050/1050 [==============================] - 0s 43us/step - loss: 0.0045 - acc: 1.0000 - val_loss: 0.0239 - val_acc: 0.9889\n",
            "Epoch 32/50\n",
            "1050/1050 [==============================] - 0s 45us/step - loss: 0.0042 - acc: 1.0000 - val_loss: 0.0238 - val_acc: 0.9889\n",
            "Epoch 33/50\n",
            "1050/1050 [==============================] - 0s 39us/step - loss: 0.0040 - acc: 1.0000 - val_loss: 0.0235 - val_acc: 0.9889\n",
            "Epoch 34/50\n",
            "1050/1050 [==============================] - 0s 46us/step - loss: 0.0038 - acc: 1.0000 - val_loss: 0.0237 - val_acc: 0.9889\n",
            "Epoch 35/50\n",
            "1050/1050 [==============================] - 0s 45us/step - loss: 0.0036 - acc: 1.0000 - val_loss: 0.0234 - val_acc: 0.9889\n",
            "Epoch 36/50\n",
            "1050/1050 [==============================] - 0s 42us/step - loss: 0.0035 - acc: 1.0000 - val_loss: 0.0243 - val_acc: 0.9889\n",
            "Epoch 37/50\n",
            "1050/1050 [==============================] - 0s 40us/step - loss: 0.0033 - acc: 1.0000 - val_loss: 0.0246 - val_acc: 0.9889\n",
            "Epoch 38/50\n",
            "1050/1050 [==============================] - 0s 47us/step - loss: 0.0031 - acc: 1.0000 - val_loss: 0.0241 - val_acc: 0.9889\n",
            "Epoch 39/50\n",
            "1050/1050 [==============================] - 0s 42us/step - loss: 0.0030 - acc: 1.0000 - val_loss: 0.0235 - val_acc: 0.9889\n",
            "Epoch 40/50\n",
            "1050/1050 [==============================] - 0s 46us/step - loss: 0.0029 - acc: 1.0000 - val_loss: 0.0225 - val_acc: 0.9889\n",
            "Epoch 41/50\n",
            "1050/1050 [==============================] - 0s 45us/step - loss: 0.0027 - acc: 1.0000 - val_loss: 0.0223 - val_acc: 0.9889\n",
            "Epoch 42/50\n",
            "1050/1050 [==============================] - 0s 47us/step - loss: 0.0026 - acc: 1.0000 - val_loss: 0.0222 - val_acc: 0.9911\n",
            "Epoch 43/50\n",
            "1050/1050 [==============================] - 0s 48us/step - loss: 0.0025 - acc: 1.0000 - val_loss: 0.0220 - val_acc: 0.9911\n",
            "Epoch 44/50\n",
            "1050/1050 [==============================] - 0s 46us/step - loss: 0.0024 - acc: 1.0000 - val_loss: 0.0222 - val_acc: 0.9911\n",
            "Epoch 45/50\n",
            "1050/1050 [==============================] - 0s 46us/step - loss: 0.0023 - acc: 1.0000 - val_loss: 0.0222 - val_acc: 0.9911\n",
            "Epoch 46/50\n",
            "1050/1050 [==============================] - 0s 59us/step - loss: 0.0022 - acc: 1.0000 - val_loss: 0.0214 - val_acc: 0.9911\n",
            "Epoch 47/50\n",
            "1050/1050 [==============================] - 0s 43us/step - loss: 0.0021 - acc: 1.0000 - val_loss: 0.0215 - val_acc: 0.9911\n",
            "Epoch 48/50\n",
            "1050/1050 [==============================] - 0s 46us/step - loss: 0.0021 - acc: 1.0000 - val_loss: 0.0217 - val_acc: 0.9911\n",
            "Epoch 49/50\n",
            "1050/1050 [==============================] - 0s 58us/step - loss: 0.0020 - acc: 1.0000 - val_loss: 0.0215 - val_acc: 0.9911\n",
            "Epoch 50/50\n",
            "1050/1050 [==============================] - 0s 48us/step - loss: 0.0019 - acc: 1.0000 - val_loss: 0.0216 - val_acc: 0.9911\n"
          ],
          "name": "stdout"
        }
      ]
    },
    {
      "cell_type": "code",
      "metadata": {
        "id": "AxZ6wmTxoK73",
        "colab_type": "code",
        "colab": {
          "base_uri": "https://localhost:8080/",
          "height": 265
        },
        "outputId": "88ab531a-d8f8-4b40-9b66-d05aec37ed44"
      },
      "source": [
        "# plot training history\n",
        "from matplotlib import pyplot\n",
        "pyplot.plot(history.history['loss'], label='train')\n",
        "pyplot.plot(history.history['val_loss'], label='test')\n",
        "pyplot.legend()\n",
        "pyplot.show()"
      ],
      "execution_count": null,
      "outputs": [
        {
          "output_type": "display_data",
          "data": {
            "image/png": "[encoded data removed]",
            "text/plain": [
              "<Figure size 432x288 with 1 Axes>"
            ]
          },
          "metadata": {
            "tags": []
          }
        }
      ]
    },
    {
      "cell_type": "code",
      "metadata": {
        "id": "pMMxAmZSn9j5",
        "colab_type": "code",
        "colab": {
          "base_uri": "https://localhost:8080/",
          "height": 627
        },
        "outputId": "e9a40817-557e-4067-9867-2dfaf849053a"
      },
      "source": [
        "print('\\n# TEST DATA #\\n')\n",
        "score_mlp = model.evaluate(X_val, y_val)\n",
        "print(\"%s: %.2f%%\" % (model.metrics_names[1], score_mlp[1]*100))\n",
        "prediction = model.predict_classes(X_val)\n",
        "\n",
        "ground_truth = y_val\n",
        "\n",
        "data = {\n",
        "    'prediction': prediction,\n",
        "    'ground_truth': ground_truth\n",
        "    \n",
        "}\n",
        "\n",
        "data = pd.DataFrame(data)\n",
        "# data.head(100)\n",
        "plotly.scatter(data,x='prediction',y='ground_truth')"
      ],
      "execution_count": null,
      "outputs": [
        {
          "output_type": "stream",
          "text": [
            "\n",
            "# TEST DATA #\n",
            "\n",
            "450/450 [==============================] - 0s 64us/step\n",
            "acc: 99.11%\n"
          ],
          "name": "stdout"
        },
        {
          "output_type": "display_data",
          "data": {
            "text/html": [
              "<html>\n",
              "<head><meta charset=\"utf-8\" /></head>\n",
              "<body>\n",
              "    <div>\n",
              "            <script src=\"https://cdnjs.cloudflare.com/ajax/libs/mathjax/2.7.5/MathJax.js?config=TeX-AMS-MML_SVG\"></script><script type=\"text/javascript\">if (window.MathJax) {MathJax.Hub.Config({SVG: {font: \"STIX-Web\"}});}</script>\n",
              "                <script type=\"text/javascript\">window.PlotlyConfig = {MathJaxConfig: 'local'};</script>\n",
              "        <script src=\"https://cdn.plot.ly/plotly-latest.min.js\"></script>    \n",
              "            <div id=\"282df41d-f15a-44b9-97e6-2d3507e7f5c7\" class=\"plotly-graph-div\" style=\"height:525px; width:100%;\"></div>\n",
              "            <script type=\"text/javascript\">\n",
              "                \n",
              "                    window.PLOTLYENV=window.PLOTLYENV || {};\n",
              "                    \n",
              "                if (document.getElementById(\"282df41d-f15a-44b9-97e6-2d3507e7f5c7\")) {\n",
              "                    Plotly.newPlot(\n",
              "                        '282df41d-f15a-44b9-97e6-2d3507e7f5c7',\n",
              "                        [{\"hoverlabel\": {\"namelength\": 0}, \"hovertemplate\": \"prediction=%{x}<br>ground_truth=%{y}\", \"legendgroup\": \"\", \"marker\": {\"color\": \"#636efa\", \"symbol\": \"circle\"}, \"mode\": \"markers\", \"name\": \"\", \"showlegend\": false, \"type\": \"scatter\", \"x\": [1, 0, 2, 2, 0, 2, 0, 0, 1, 2, 0, 2, 2, 1, 1, 1, 3, 0, 2, 1, 0, 2, 0, 1, 1, 2, 2, 3, 1, 2, 1, 0, 2, 0, 1, 0, 2, 2, 1, 1, 1, 2, 0, 2, 1, 1, 1, 0, 0, 2, 0, 2, 2, 2, 2, 1, 1, 1, 0, 0, 0, 2, 0, 1, 1, 1, 0, 1, 1, 0, 0, 2, 1, 2, 2, 0, 1, 1, 0, 0, 0, 0, 1, 1, 1, 1, 0, 0, 0, 0, 1, 2, 2, 1, 0, 0, 2, 2, 2, 2, 2, 2, 2, 1, 1, 0, 1, 2, 0, 2, 0, 0, 0, 1, 2, 2, 1, 0, 2, 1, 2, 1, 2, 2, 2, 1, 2, 0, 0, 0, 1, 1, 2, 3, 2, 0, 1, 1, 2, 2, 0, 2, 3, 1, 2, 2, 2, 2, 0, 0, 0, 0, 1, 2, 1, 2, 2, 0, 1, 0, 2, 1, 2, 1, 2, 2, 3, 0, 1, 1, 1, 1, 1, 2, 2, 1, 1, 1, 0, 2, 2, 2, 1, 0, 2, 1, 2, 1, 0, 0, 2, 0, 0, 0, 1, 0, 0, 0, 0, 2, 1, 0, 2, 0, 0, 1, 0, 1, 1, 2, 1, 2, 0, 2, 2, 0, 0, 0, 0, 1, 1, 0, 0, 2, 1, 0, 0, 1, 0, 1, 0, 2, 2, 2, 2, 0, 0, 1, 1, 2, 0, 0, 2, 2, 1, 1, 0, 2, 0, 0, 2, 2, 0, 0, 0, 1, 1, 0, 1, 2, 0, 1, 0, 1, 2, 2, 0, 1, 0, 0, 1, 1, 0, 2, 2, 1, 2, 0, 1, 0, 0, 2, 1, 2, 1, 0, 1, 1, 1, 1, 0, 2, 2, 2, 0, 2, 1, 1, 2, 1, 1, 1, 5, 1, 0, 1, 5, 0, 2, 0, 2, 1, 2, 0, 1, 1, 2, 0, 2, 1, 0, 0, 1, 2, 1, 2, 1, 2, 2, 2, 4, 0, 3, 1, 1, 2, 1, 2, 1, 2, 0, 1, 1, 0, 1, 2, 2, 2, 1, 0, 0, 2, 1, 0, 0, 1, 0, 1, 0, 0, 2, 1, 2, 0, 1, 0, 1, 2, 0, 2, 0, 2, 2, 1, 0, 1, 1, 4, 2, 0, 0, 1, 0, 1, 1, 1, 0, 0, 1, 2, 0, 1, 1, 0, 2, 0, 1, 1, 2, 0, 2, 2, 1, 1, 0, 2, 2, 1, 1, 0, 0, 0, 0, 2, 2, 2, 2, 1, 1, 1, 2, 1, 0, 1, 1, 2, 1, 1, 2, 2, 2, 2, 0, 2, 2, 2, 0, 1, 0, 1, 2, 1, 1, 1, 2, 1, 2, 1, 0, 4], \"xaxis\": \"x\", \"y\": [\"1\", \"0\", \"2\", \"2\", \"0\", \"2\", \"0\", \"0\", \"1\", \"2\", \"0\", \"2\", \"2\", \"1\", \"1\", \"1\", \"3\", \"0\", \"2\", \"1\", \"0\", \"2\", \"0\", \"1\", \"1\", \"2\", \"2\", \"3\", \"1\", \"2\", \"1\", \"0\", \"2\", \"0\", \"1\", \"0\", \"2\", \"2\", \"1\", \"1\", \"1\", \"2\", \"0\", \"2\", \"1\", \"1\", \"1\", \"0\", \"0\", \"2\", \"0\", \"2\", \"2\", \"2\", \"2\", \"1\", \"1\", \"1\", \"0\", \"0\", \"0\", \"2\", \"0\", \"1\", \"1\", \"1\", \"0\", \"1\", \"1\", \"0\", \"0\", \"2\", \"1\", \"2\", \"2\", \"0\", \"1\", \"1\", \"0\", \"0\", \"0\", \"0\", \"1\", \"1\", \"1\", \"1\", \"0\", \"0\", \"0\", \"0\", \"1\", \"2\", \"2\", \"1\", \"0\", \"0\", \"2\", \"2\", \"2\", \"2\", \"2\", \"2\", \"2\", \"1\", \"1\", \"0\", \"1\", \"2\", \"0\", \"2\", \"0\", \"0\", \"0\", \"1\", \"2\", \"2\", \"1\", \"0\", \"2\", \"1\", \"2\", \"1\", \"2\", \"2\", \"2\", \"1\", \"2\", \"0\", \"0\", \"0\", \"1\", \"1\", \"2\", \"5\", \"2\", \"0\", \"1\", \"1\", \"2\", \"2\", \"0\", \"2\", \"3\", \"1\", \"2\", \"2\", \"2\", \"2\", \"0\", \"0\", \"0\", \"0\", \"1\", \"2\", \"1\", \"2\", \"2\", \"0\", \"1\", \"0\", \"2\", \"1\", \"2\", \"1\", \"2\", \"2\", \"4\", \"0\", \"1\", \"1\", \"1\", \"1\", \"1\", \"2\", \"2\", \"1\", \"1\", \"1\", \"0\", \"2\", \"2\", \"2\", \"1\", \"0\", \"2\", \"1\", \"2\", \"1\", \"0\", \"0\", \"2\", \"0\", \"0\", \"0\", \"1\", \"0\", \"0\", \"0\", \"0\", \"2\", \"1\", \"0\", \"2\", \"0\", \"0\", \"1\", \"0\", \"1\", \"1\", \"2\", \"1\", \"2\", \"0\", \"2\", \"2\", \"0\", \"0\", \"0\", \"0\", \"1\", \"1\", \"0\", \"0\", \"2\", \"1\", \"0\", \"0\", \"1\", \"0\", \"1\", \"0\", \"2\", \"2\", \"2\", \"2\", \"0\", \"0\", \"1\", \"1\", \"2\", \"0\", \"0\", \"2\", \"2\", \"1\", \"1\", \"0\", \"2\", \"0\", \"0\", \"2\", \"2\", \"0\", \"0\", \"0\", \"1\", \"1\", \"0\", \"1\", \"2\", \"2\", \"1\", \"0\", \"1\", \"2\", \"2\", \"0\", \"1\", \"0\", \"0\", \"1\", \"1\", \"0\", \"2\", \"2\", \"1\", \"2\", \"0\", \"1\", \"0\", \"0\", \"2\", \"1\", \"2\", \"1\", \"0\", \"1\", \"1\", \"1\", \"1\", \"0\", \"2\", \"2\", \"2\", \"0\", \"2\", \"1\", \"1\", \"2\", \"1\", \"1\", \"1\", \"5\", \"1\", \"0\", \"1\", \"5\", \"0\", \"2\", \"0\", \"2\", \"1\", \"2\", \"0\", \"1\", \"1\", \"2\", \"0\", \"2\", \"1\", \"0\", \"0\", \"1\", \"2\", \"1\", \"2\", \"1\", \"2\", \"2\", \"2\", \"4\", \"0\", \"4\", \"1\", \"1\", \"2\", \"1\", \"2\", \"1\", \"2\", \"0\", \"1\", \"1\", \"0\", \"1\", \"2\", \"2\", \"2\", \"1\", \"0\", \"0\", \"2\", \"1\", \"0\", \"0\", \"1\", \"0\", \"1\", \"0\", \"0\", \"2\", \"1\", \"2\", \"0\", \"1\", \"0\", \"1\", \"2\", \"0\", \"2\", \"0\", \"2\", \"2\", \"1\", \"0\", \"1\", \"1\", \"4\", \"2\", \"0\", \"0\", \"1\", \"0\", \"1\", \"1\", \"1\", \"0\", \"0\", \"1\", \"2\", \"0\", \"1\", \"1\", \"0\", \"2\", \"0\", \"1\", \"1\", \"2\", \"0\", \"2\", \"2\", \"1\", \"1\", \"0\", \"2\", \"2\", \"1\", \"1\", \"0\", \"0\", \"0\", \"0\", \"2\", \"2\", \"2\", \"2\", \"1\", \"1\", \"1\", \"2\", \"1\", \"0\", \"1\", \"1\", \"2\", \"1\", \"1\", \"2\", \"2\", \"2\", \"2\", \"0\", \"2\", \"2\", \"2\", \"0\", \"1\", \"0\", \"1\", \"2\", \"1\", \"1\", \"1\", \"2\", \"1\", \"2\", \"1\", \"0\", \"4\"], \"yaxis\": \"y\"}],\n",
              "                        {\"legend\": {\"tracegroupgap\": 0}, \"margin\": {\"t\": 60}, \"template\": {\"data\": {\"bar\": [{\"error_x\": {\"color\": \"#2a3f5f\"}, \"error_y\": {\"color\": \"#2a3f5f\"}, \"marker\": {\"line\": {\"color\": \"#E5ECF6\", \"width\": 0.5}}, \"type\": \"bar\"}], \"barpolar\": [{\"marker\": {\"line\": {\"color\": \"#E5ECF6\", \"width\": 0.5}}, \"type\": \"barpolar\"}], \"carpet\": [{\"aaxis\": {\"endlinecolor\": \"#2a3f5f\", \"gridcolor\": \"white\", \"linecolor\": \"white\", \"minorgridcolor\": \"white\", \"startlinecolor\": \"#2a3f5f\"}, \"baxis\": {\"endlinecolor\": \"#2a3f5f\", \"gridcolor\": \"white\", \"linecolor\": \"white\", \"minorgridcolor\": \"white\", \"startlinecolor\": \"#2a3f5f\"}, \"type\": \"carpet\"}], \"choropleth\": [{\"colorbar\": {\"outlinewidth\": 0, \"ticks\": \"\"}, \"type\": \"choropleth\"}], \"contour\": [{\"colorbar\": {\"outlinewidth\": 0, \"ticks\": \"\"}, \"colorscale\": [[0.0, \"#0d0887\"], [0.1111111111111111, \"#46039f\"], [0.2222222222222222, \"#7201a8\"], [0.3333333333333333, \"#9c179e\"], [0.4444444444444444, \"#bd3786\"], [0.5555555555555556, \"#d8576b\"], [0.6666666666666666, \"#ed7953\"], [0.7777777777777778, \"#fb9f3a\"], [0.8888888888888888, \"#fdca26\"], [1.0, \"#f0f921\"]], \"type\": \"contour\"}], \"contourcarpet\": [{\"colorbar\": {\"outlinewidth\": 0, \"ticks\": \"\"}, \"type\": \"contourcarpet\"}], \"heatmap\": [{\"colorbar\": {\"outlinewidth\": 0, \"ticks\": \"\"}, \"colorscale\": [[0.0, \"#0d0887\"], [0.1111111111111111, \"#46039f\"], [0.2222222222222222, \"#7201a8\"], [0.3333333333333333, \"#9c179e\"], [0.4444444444444444, \"#bd3786\"], [0.5555555555555556, \"#d8576b\"], [0.6666666666666666, \"#ed7953\"], [0.7777777777777778, \"#fb9f3a\"], [0.8888888888888888, \"#fdca26\"], [1.0, \"#f0f921\"]], \"type\": \"heatmap\"}], \"heatmapgl\": [{\"colorbar\": {\"outlinewidth\": 0, \"ticks\": \"\"}, \"colorscale\": [[0.0, \"#0d0887\"], [0.1111111111111111, \"#46039f\"], [0.2222222222222222, \"#7201a8\"], [0.3333333333333333, \"#9c179e\"], [0.4444444444444444, \"#bd3786\"], [0.5555555555555556, \"#d8576b\"], [0.6666666666666666, \"#ed7953\"], [0.7777777777777778, \"#fb9f3a\"], [0.8888888888888888, \"#fdca26\"], [1.0, \"#f0f921\"]], \"type\": \"heatmapgl\"}], \"histogram\": [{\"marker\": {\"colorbar\": {\"outlinewidth\": 0, \"ticks\": \"\"}}, \"type\": \"histogram\"}], \"histogram2d\": [{\"colorbar\": {\"outlinewidth\": 0, \"ticks\": \"\"}, \"colorscale\": [[0.0, \"#0d0887\"], [0.1111111111111111, \"#46039f\"], [0.2222222222222222, \"#7201a8\"], [0.3333333333333333, \"#9c179e\"], [0.4444444444444444, \"#bd3786\"], [0.5555555555555556, \"#d8576b\"], [0.6666666666666666, \"#ed7953\"], [0.7777777777777778, \"#fb9f3a\"], [0.8888888888888888, \"#fdca26\"], [1.0, \"#f0f921\"]], \"type\": \"histogram2d\"}], \"histogram2dcontour\": [{\"colorbar\": {\"outlinewidth\": 0, \"ticks\": \"\"}, \"colorscale\": [[0.0, \"#0d0887\"], [0.1111111111111111, \"#46039f\"], [0.2222222222222222, \"#7201a8\"], [0.3333333333333333, \"#9c179e\"], [0.4444444444444444, \"#bd3786\"], [0.5555555555555556, \"#d8576b\"], [0.6666666666666666, \"#ed7953\"], [0.7777777777777778, \"#fb9f3a\"], [0.8888888888888888, \"#fdca26\"], [1.0, \"#f0f921\"]], \"type\": \"histogram2dcontour\"}], \"mesh3d\": [{\"colorbar\": {\"outlinewidth\": 0, \"ticks\": \"\"}, \"type\": \"mesh3d\"}], \"parcoords\": [{\"line\": {\"colorbar\": {\"outlinewidth\": 0, \"ticks\": \"\"}}, \"type\": \"parcoords\"}], \"pie\": [{\"automargin\": true, \"type\": \"pie\"}], \"scatter\": [{\"marker\": {\"colorbar\": {\"outlinewidth\": 0, \"ticks\": \"\"}}, \"type\": \"scatter\"}], \"scatter3d\": [{\"line\": {\"colorbar\": {\"outlinewidth\": 0, \"ticks\": \"\"}}, \"marker\": {\"colorbar\": {\"outlinewidth\": 0, \"ticks\": \"\"}}, \"type\": \"scatter3d\"}], \"scattercarpet\": [{\"marker\": {\"colorbar\": {\"outlinewidth\": 0, \"ticks\": \"\"}}, \"type\": \"scattercarpet\"}], \"scattergeo\": [{\"marker\": {\"colorbar\": {\"outlinewidth\": 0, \"ticks\": \"\"}}, \"type\": \"scattergeo\"}], \"scattergl\": [{\"marker\": {\"colorbar\": {\"outlinewidth\": 0, \"ticks\": \"\"}}, \"type\": \"scattergl\"}], \"scattermapbox\": [{\"marker\": {\"colorbar\": {\"outlinewidth\": 0, \"ticks\": \"\"}}, \"type\": \"scattermapbox\"}], \"scatterpolar\": [{\"marker\": {\"colorbar\": {\"outlinewidth\": 0, \"ticks\": \"\"}}, \"type\": \"scatterpolar\"}], \"scatterpolargl\": [{\"marker\": {\"colorbar\": {\"outlinewidth\": 0, \"ticks\": \"\"}}, \"type\": \"scatterpolargl\"}], \"scatterternary\": [{\"marker\": {\"colorbar\": {\"outlinewidth\": 0, \"ticks\": \"\"}}, \"type\": \"scatterternary\"}], \"surface\": [{\"colorbar\": {\"outlinewidth\": 0, \"ticks\": \"\"}, \"colorscale\": [[0.0, \"#0d0887\"], [0.1111111111111111, \"#46039f\"], [0.2222222222222222, \"#7201a8\"], [0.3333333333333333, \"#9c179e\"], [0.4444444444444444, \"#bd3786\"], [0.5555555555555556, \"#d8576b\"], [0.6666666666666666, \"#ed7953\"], [0.7777777777777778, \"#fb9f3a\"], [0.8888888888888888, \"#fdca26\"], [1.0, \"#f0f921\"]], \"type\": \"surface\"}], \"table\": [{\"cells\": {\"fill\": {\"color\": \"#EBF0F8\"}, \"line\": {\"color\": \"white\"}}, \"header\": {\"fill\": {\"color\": \"#C8D4E3\"}, \"line\": {\"color\": \"white\"}}, \"type\": \"table\"}]}, \"layout\": {\"annotationdefaults\": {\"arrowcolor\": \"#2a3f5f\", \"arrowhead\": 0, \"arrowwidth\": 1}, \"coloraxis\": {\"colorbar\": {\"outlinewidth\": 0, \"ticks\": \"\"}}, \"colorscale\": {\"diverging\": [[0, \"#8e0152\"], [0.1, \"#c51b7d\"], [0.2, \"#de77ae\"], [0.3, \"#f1b6da\"], [0.4, \"#fde0ef\"], [0.5, \"#f7f7f7\"], [0.6, \"#e6f5d0\"], [0.7, \"#b8e186\"], [0.8, \"#7fbc41\"], [0.9, \"#4d9221\"], [1, \"#276419\"]], \"sequential\": [[0.0, \"#0d0887\"], [0.1111111111111111, \"#46039f\"], [0.2222222222222222, \"#7201a8\"], [0.3333333333333333, \"#9c179e\"], [0.4444444444444444, \"#bd3786\"], [0.5555555555555556, \"#d8576b\"], [0.6666666666666666, \"#ed7953\"], [0.7777777777777778, \"#fb9f3a\"], [0.8888888888888888, \"#fdca26\"], [1.0, \"#f0f921\"]], \"sequentialminus\": [[0.0, \"#0d0887\"], [0.1111111111111111, \"#46039f\"], [0.2222222222222222, \"#7201a8\"], [0.3333333333333333, \"#9c179e\"], [0.4444444444444444, \"#bd3786\"], [0.5555555555555556, \"#d8576b\"], [0.6666666666666666, \"#ed7953\"], [0.7777777777777778, \"#fb9f3a\"], [0.8888888888888888, \"#fdca26\"], [1.0, \"#f0f921\"]]}, \"colorway\": [\"#636efa\", \"#EF553B\", \"#00cc96\", \"#ab63fa\", \"#FFA15A\", \"#19d3f3\", \"#FF6692\", \"#B6E880\", \"#FF97FF\", \"#FECB52\"], \"font\": {\"color\": \"#2a3f5f\"}, \"geo\": {\"bgcolor\": \"white\", \"lakecolor\": \"white\", \"landcolor\": \"#E5ECF6\", \"showlakes\": true, \"showland\": true, \"subunitcolor\": \"white\"}, \"hoverlabel\": {\"align\": \"left\"}, \"hovermode\": \"closest\", \"mapbox\": {\"style\": \"light\"}, \"paper_bgcolor\": \"white\", \"plot_bgcolor\": \"#E5ECF6\", \"polar\": {\"angularaxis\": {\"gridcolor\": \"white\", \"linecolor\": \"white\", \"ticks\": \"\"}, \"bgcolor\": \"#E5ECF6\", \"radialaxis\": {\"gridcolor\": \"white\", \"linecolor\": \"white\", \"ticks\": \"\"}}, \"scene\": {\"xaxis\": {\"backgroundcolor\": \"#E5ECF6\", \"gridcolor\": \"white\", \"gridwidth\": 2, \"linecolor\": \"white\", \"showbackground\": true, \"ticks\": \"\", \"zerolinecolor\": \"white\"}, \"yaxis\": {\"backgroundcolor\": \"#E5ECF6\", \"gridcolor\": \"white\", \"gridwidth\": 2, \"linecolor\": \"white\", \"showbackground\": true, \"ticks\": \"\", \"zerolinecolor\": \"white\"}, \"zaxis\": {\"backgroundcolor\": \"#E5ECF6\", \"gridcolor\": \"white\", \"gridwidth\": 2, \"linecolor\": \"white\", \"showbackground\": true, \"ticks\": \"\", \"zerolinecolor\": \"white\"}}, \"shapedefaults\": {\"line\": {\"color\": \"#2a3f5f\"}}, \"ternary\": {\"aaxis\": {\"gridcolor\": \"white\", \"linecolor\": \"white\", \"ticks\": \"\"}, \"baxis\": {\"gridcolor\": \"white\", \"linecolor\": \"white\", \"ticks\": \"\"}, \"bgcolor\": \"#E5ECF6\", \"caxis\": {\"gridcolor\": \"white\", \"linecolor\": \"white\", \"ticks\": \"\"}}, \"title\": {\"x\": 0.05}, \"xaxis\": {\"automargin\": true, \"gridcolor\": \"white\", \"linecolor\": \"white\", \"ticks\": \"\", \"title\": {\"standoff\": 15}, \"zerolinecolor\": \"white\", \"zerolinewidth\": 2}, \"yaxis\": {\"automargin\": true, \"gridcolor\": \"white\", \"linecolor\": \"white\", \"ticks\": \"\", \"title\": {\"standoff\": 15}, \"zerolinecolor\": \"white\", \"zerolinewidth\": 2}}}, \"xaxis\": {\"anchor\": \"y\", \"domain\": [0.0, 1.0], \"title\": {\"text\": \"prediction\"}}, \"yaxis\": {\"anchor\": \"x\", \"domain\": [0.0, 1.0], \"title\": {\"text\": \"ground_truth\"}}},\n",
              "                        {\"responsive\": true}\n",
              "                    ).then(function(){\n",
              "                            \n",
              "var gd = document.getElementById('282df41d-f15a-44b9-97e6-2d3507e7f5c7');\n",
              "var x = new MutationObserver(function (mutations, observer) {{\n",
              "        var display = window.getComputedStyle(gd).display;\n",
              "        if (!display || display === 'none') {{\n",
              "            console.log([gd, 'removed!']);\n",
              "            Plotly.purge(gd);\n",
              "            observer.disconnect();\n",
              "        }}\n",
              "}});\n",
              "\n",
              "// Listen for the removal of the full notebook cells\n",
              "var notebookContainer = gd.closest('#notebook-container');\n",
              "if (notebookContainer) {{\n",
              "    x.observe(notebookContainer, {childList: true});\n",
              "}}\n",
              "\n",
              "// Listen for the clearing of the current output cell\n",
              "var outputEl = gd.closest('.output');\n",
              "if (outputEl) {{\n",
              "    x.observe(outputEl, {childList: true});\n",
              "}}\n",
              "\n",
              "                        })\n",
              "                };\n",
              "                \n",
              "            </script>\n",
              "        </div>\n",
              "</body>\n",
              "</html>"
            ]
          },
          "metadata": {
            "tags": []
          }
        }
      ]
    },
    {
      "cell_type": "code",
      "metadata": {
        "id": "S7_fGPNKpf87",
        "colab_type": "code",
        "colab": {
          "base_uri": "https://localhost:8080/",
          "height": 419
        },
        "outputId": "bdff5bca-548d-4ced-fb18-7551d3d3c367"
      },
      "source": [
        "data.head(100)"
      ],
      "execution_count": null,
      "outputs": [
        {
          "output_type": "execute_result",
          "data": {
            "text/html": [
              "<div>\n",
              "<style scoped>\n",
              "    .dataframe tbody tr th:only-of-type {\n",
              "        vertical-align: middle;\n",
              "    }\n",
              "\n",
              "    .dataframe tbody tr th {\n",
              "        vertical-align: top;\n",
              "    }\n",
              "\n",
              "    .dataframe thead th {\n",
              "        text-align: right;\n",
              "    }\n",
              "</style>\n",
              "<table border=\"1\" class=\"dataframe\">\n",
              "  <thead>\n",
              "    <tr style=\"text-align: right;\">\n",
              "      <th></th>\n",
              "      <th>prediction</th>\n",
              "      <th>ground_truth</th>\n",
              "    </tr>\n",
              "  </thead>\n",
              "  <tbody>\n",
              "    <tr>\n",
              "      <th>1116</th>\n",
              "      <td>1</td>\n",
              "      <td>1</td>\n",
              "    </tr>\n",
              "    <tr>\n",
              "      <th>1368</th>\n",
              "      <td>0</td>\n",
              "      <td>0</td>\n",
              "    </tr>\n",
              "    <tr>\n",
              "      <th>422</th>\n",
              "      <td>2</td>\n",
              "      <td>2</td>\n",
              "    </tr>\n",
              "    <tr>\n",
              "      <th>413</th>\n",
              "      <td>2</td>\n",
              "      <td>2</td>\n",
              "    </tr>\n",
              "    <tr>\n",
              "      <th>451</th>\n",
              "      <td>0</td>\n",
              "      <td>0</td>\n",
              "    </tr>\n",
              "    <tr>\n",
              "      <th>...</th>\n",
              "      <td>...</td>\n",
              "      <td>...</td>\n",
              "    </tr>\n",
              "    <tr>\n",
              "      <th>479</th>\n",
              "      <td>0</td>\n",
              "      <td>0</td>\n",
              "    </tr>\n",
              "    <tr>\n",
              "      <th>426</th>\n",
              "      <td>2</td>\n",
              "      <td>2</td>\n",
              "    </tr>\n",
              "    <tr>\n",
              "      <th>123</th>\n",
              "      <td>2</td>\n",
              "      <td>2</td>\n",
              "    </tr>\n",
              "    <tr>\n",
              "      <th>1169</th>\n",
              "      <td>2</td>\n",
              "      <td>2</td>\n",
              "    </tr>\n",
              "    <tr>\n",
              "      <th>394</th>\n",
              "      <td>2</td>\n",
              "      <td>2</td>\n",
              "    </tr>\n",
              "  </tbody>\n",
              "</table>\n",
              "<p>100 rows × 2 columns</p>\n",
              "</div>"
            ],
            "text/plain": [
              "      prediction ground_truth\n",
              "1116           1            1\n",
              "1368           0            0\n",
              "422            2            2\n",
              "413            2            2\n",
              "451            0            0\n",
              "...          ...          ...\n",
              "479            0            0\n",
              "426            2            2\n",
              "123            2            2\n",
              "1169           2            2\n",
              "394            2            2\n",
              "\n",
              "[100 rows x 2 columns]"
            ]
          },
          "metadata": {
            "tags": []
          },
          "execution_count": 24
        }
      ]
    },
    {
      "cell_type": "markdown",
      "metadata": {
        "id": "Uebw8sxSw89i",
        "colab_type": "text"
      },
      "source": [
        "# RNN"
      ]
    },
    {
      "cell_type": "code",
      "metadata": {
        "id": "Xt1IUbO7w_tD",
        "colab_type": "code",
        "colab": {
          "base_uri": "https://localhost:8080/",
          "height": 105
        },
        "outputId": "06f77d48-33b7-4b77-9171-047b7b73ef6e"
      },
      "source": [
        "from keras.models import Sequential\n",
        "from keras.layers import LSTM, Dense, Dropout, Masking, Embedding\n",
        "\n",
        "model = Sequential()\n",
        "\n",
        "# Embedding layer\n",
        "model.add(Embedding(5000, embed_dim,input_length = X_train.shape[1], dropout = 0.2))\n",
        "\n",
        "\n",
        "\n",
        "# Recurrent layer\n",
        "model.add(LSTM(64, return_sequences=False, \n",
        "               dropout=0.1, recurrent_dropout=0.1))\n",
        "\n",
        "# Fully connected layer\n",
        "model.add(Dense(64, activation='relu'))\n",
        "\n",
        "# Dropout for regularization\n",
        "model.add(Dropout(0.5))\n",
        "\n",
        "# Output layer\n",
        "model.add(Dense(10, activation='softmax'))\n",
        "\n"
      ],
      "execution_count": null,
      "outputs": [
        {
          "output_type": "stream",
          "text": [
            "/usr/local/lib/python3.6/dist-packages/ipykernel_launcher.py:7: UserWarning:\n",
            "\n",
            "The `dropout` argument is no longer support in `Embedding`. You can apply a `keras.layers.SpatialDropout1D` layer right after the `Embedding` layer to get the same behavior.\n",
            "\n"
          ],
          "name": "stderr"
        }
      ]
    },
    {
      "cell_type": "code",
      "metadata": {
        "id": "wGi4DdP3xSTb",
        "colab_type": "code",
        "colab": {
          "base_uri": "https://localhost:8080/",
          "height": 1000
        },
        "outputId": "a2e21302-a3e9-4dc3-8ee0-b04d31ea4d06"
      },
      "source": [
        "model.compile(optimizer='adam',\n",
        "              loss='sparse_categorical_crossentropy',\n",
        "              metrics=['accuracy'])\n",
        "\n",
        "history = model.fit(X_train,\n",
        "                    y_train,\n",
        "                    validation_data=(X_val, y_val),\n",
        "                    epochs=50,\n",
        "                    batch_size=128, \n",
        "                   )"
      ],
      "execution_count": null,
      "outputs": [
        {
          "output_type": "stream",
          "text": [
            "Train on 1050 samples, validate on 450 samples\n",
            "Epoch 1/50\n",
            "1050/1050 [==============================] - 2s 2ms/step - loss: 2.2316 - acc: 0.2648 - val_loss: 2.0435 - val_acc: 0.3244\n",
            "Epoch 2/50\n",
            "1050/1050 [==============================] - 1s 709us/step - loss: 1.7823 - acc: 0.3143 - val_loss: 1.2640 - val_acc: 0.4178\n",
            "Epoch 3/50\n",
            "1050/1050 [==============================] - 1s 699us/step - loss: 1.4790 - acc: 0.3267 - val_loss: 1.2220 - val_acc: 0.4356\n",
            "Epoch 4/50\n",
            "1050/1050 [==============================] - 1s 705us/step - loss: 1.3547 - acc: 0.3514 - val_loss: 1.2152 - val_acc: 0.4400\n",
            "Epoch 5/50\n",
            "1050/1050 [==============================] - 1s 715us/step - loss: 1.3111 - acc: 0.3533 - val_loss: 1.2012 - val_acc: 0.4333\n",
            "Epoch 6/50\n",
            "1050/1050 [==============================] - 1s 696us/step - loss: 1.2826 - acc: 0.3514 - val_loss: 1.1734 - val_acc: 0.5467\n",
            "Epoch 7/50\n",
            "1050/1050 [==============================] - 1s 696us/step - loss: 1.2211 - acc: 0.4152 - val_loss: 1.1338 - val_acc: 0.5956\n",
            "Epoch 8/50\n",
            "1050/1050 [==============================] - 1s 691us/step - loss: 1.2045 - acc: 0.4152 - val_loss: 1.0847 - val_acc: 0.4422\n",
            "Epoch 9/50\n",
            "1050/1050 [==============================] - 1s 695us/step - loss: 1.1376 - acc: 0.4543 - val_loss: 1.0275 - val_acc: 0.4578\n",
            "Epoch 10/50\n",
            "1050/1050 [==============================] - 1s 695us/step - loss: 1.0834 - acc: 0.4819 - val_loss: 0.9776 - val_acc: 0.5000\n",
            "Epoch 11/50\n",
            "1050/1050 [==============================] - 1s 688us/step - loss: 1.0392 - acc: 0.5124 - val_loss: 0.9761 - val_acc: 0.4956\n",
            "Epoch 12/50\n",
            "1050/1050 [==============================] - 1s 700us/step - loss: 1.0090 - acc: 0.5648 - val_loss: 0.8546 - val_acc: 0.5867\n",
            "Epoch 13/50\n",
            "1050/1050 [==============================] - 1s 724us/step - loss: 0.9726 - acc: 0.5571 - val_loss: 0.7503 - val_acc: 0.7156\n",
            "Epoch 14/50\n",
            "1050/1050 [==============================] - 1s 694us/step - loss: 0.9124 - acc: 0.6086 - val_loss: 0.7292 - val_acc: 0.7244\n",
            "Epoch 15/50\n",
            "1050/1050 [==============================] - 1s 705us/step - loss: 0.8581 - acc: 0.6400 - val_loss: 0.6992 - val_acc: 0.7133\n",
            "Epoch 16/50\n",
            "1050/1050 [==============================] - 1s 692us/step - loss: 0.8431 - acc: 0.6362 - val_loss: 0.6900 - val_acc: 0.7133\n",
            "Epoch 17/50\n",
            "1050/1050 [==============================] - 1s 708us/step - loss: 0.8035 - acc: 0.6419 - val_loss: 0.6548 - val_acc: 0.7356\n",
            "Epoch 18/50\n",
            "1050/1050 [==============================] - 1s 703us/step - loss: 0.8192 - acc: 0.6352 - val_loss: 0.6431 - val_acc: 0.7400\n",
            "Epoch 19/50\n",
            "1050/1050 [==============================] - 1s 691us/step - loss: 0.7898 - acc: 0.6524 - val_loss: 0.7368 - val_acc: 0.6667\n",
            "Epoch 20/50\n",
            "1050/1050 [==============================] - 1s 707us/step - loss: 0.8021 - acc: 0.6552 - val_loss: 0.7012 - val_acc: 0.6911\n",
            "Epoch 21/50\n",
            "1050/1050 [==============================] - 1s 686us/step - loss: 0.7803 - acc: 0.6657 - val_loss: 0.5979 - val_acc: 0.7533\n",
            "Epoch 22/50\n",
            "1050/1050 [==============================] - 1s 706us/step - loss: 0.7415 - acc: 0.6762 - val_loss: 0.6287 - val_acc: 0.7267\n",
            "Epoch 23/50\n",
            "1050/1050 [==============================] - 1s 684us/step - loss: 0.7188 - acc: 0.6962 - val_loss: 0.6402 - val_acc: 0.7356\n",
            "Epoch 24/50\n",
            "1050/1050 [==============================] - 1s 698us/step - loss: 0.7362 - acc: 0.6838 - val_loss: 0.5692 - val_acc: 0.7644\n",
            "Epoch 25/50\n",
            "1050/1050 [==============================] - 1s 699us/step - loss: 0.6745 - acc: 0.7457 - val_loss: 0.5582 - val_acc: 0.7689\n",
            "Epoch 26/50\n",
            "1050/1050 [==============================] - 1s 724us/step - loss: 0.6590 - acc: 0.7248 - val_loss: 0.5520 - val_acc: 0.7733\n",
            "Epoch 27/50\n",
            "1050/1050 [==============================] - 1s 691us/step - loss: 0.6560 - acc: 0.7467 - val_loss: 0.4761 - val_acc: 0.8333\n",
            "Epoch 28/50\n",
            "1050/1050 [==============================] - 1s 677us/step - loss: 0.6220 - acc: 0.7457 - val_loss: 0.4823 - val_acc: 0.8067\n",
            "Epoch 29/50\n",
            "1050/1050 [==============================] - 1s 688us/step - loss: 0.6098 - acc: 0.7533 - val_loss: 0.5072 - val_acc: 0.7667\n",
            "Epoch 30/50\n",
            "1050/1050 [==============================] - 1s 703us/step - loss: 0.6268 - acc: 0.7581 - val_loss: 0.4534 - val_acc: 0.8400\n",
            "Epoch 31/50\n",
            "1050/1050 [==============================] - 1s 691us/step - loss: 0.6324 - acc: 0.7533 - val_loss: 0.5019 - val_acc: 0.7911\n",
            "Epoch 32/50\n",
            "1050/1050 [==============================] - 1s 703us/step - loss: 0.6121 - acc: 0.7514 - val_loss: 0.4366 - val_acc: 0.8600\n",
            "Epoch 33/50\n",
            "1050/1050 [==============================] - 1s 703us/step - loss: 0.5915 - acc: 0.7676 - val_loss: 0.4798 - val_acc: 0.7956\n",
            "Epoch 34/50\n",
            "1050/1050 [==============================] - 1s 683us/step - loss: 0.5549 - acc: 0.7819 - val_loss: 0.3964 - val_acc: 0.8600\n",
            "Epoch 35/50\n",
            "1050/1050 [==============================] - 1s 681us/step - loss: 0.5460 - acc: 0.7905 - val_loss: 0.3864 - val_acc: 0.8667\n",
            "Epoch 36/50\n",
            "1050/1050 [==============================] - 1s 695us/step - loss: 0.5154 - acc: 0.7990 - val_loss: 0.3803 - val_acc: 0.8667\n",
            "Epoch 37/50\n",
            "1050/1050 [==============================] - 1s 698us/step - loss: 0.4989 - acc: 0.8067 - val_loss: 0.3712 - val_acc: 0.8622\n",
            "Epoch 38/50\n",
            "1050/1050 [==============================] - 1s 706us/step - loss: 0.4761 - acc: 0.8210 - val_loss: 0.3453 - val_acc: 0.8711\n",
            "Epoch 39/50\n",
            "1050/1050 [==============================] - 1s 714us/step - loss: 0.4860 - acc: 0.8076 - val_loss: 0.3602 - val_acc: 0.8711\n",
            "Epoch 40/50\n",
            "1050/1050 [==============================] - 1s 695us/step - loss: 0.4750 - acc: 0.8286 - val_loss: 0.3693 - val_acc: 0.8578\n",
            "Epoch 41/50\n",
            "1050/1050 [==============================] - 1s 719us/step - loss: 0.4785 - acc: 0.8362 - val_loss: 0.3503 - val_acc: 0.8644\n",
            "Epoch 42/50\n",
            "1050/1050 [==============================] - 1s 697us/step - loss: 0.4458 - acc: 0.8371 - val_loss: 0.3687 - val_acc: 0.8556\n",
            "Epoch 43/50\n",
            "1050/1050 [==============================] - 1s 703us/step - loss: 0.4486 - acc: 0.8324 - val_loss: 0.3386 - val_acc: 0.8622\n",
            "Epoch 44/50\n",
            "1050/1050 [==============================] - 1s 706us/step - loss: 0.4210 - acc: 0.8524 - val_loss: 0.3344 - val_acc: 0.8689\n",
            "Epoch 45/50\n",
            "1050/1050 [==============================] - 1s 699us/step - loss: 0.4157 - acc: 0.8476 - val_loss: 0.3275 - val_acc: 0.8756\n",
            "Epoch 46/50\n",
            "1050/1050 [==============================] - 1s 712us/step - loss: 0.4002 - acc: 0.8543 - val_loss: 0.3186 - val_acc: 0.8756\n",
            "Epoch 47/50\n",
            "1050/1050 [==============================] - 1s 698us/step - loss: 0.3891 - acc: 0.8648 - val_loss: 0.3319 - val_acc: 0.8667\n",
            "Epoch 48/50\n",
            "1050/1050 [==============================] - 1s 705us/step - loss: 0.3946 - acc: 0.8476 - val_loss: 0.2944 - val_acc: 0.8844\n",
            "Epoch 49/50\n",
            "1050/1050 [==============================] - 1s 701us/step - loss: 0.4036 - acc: 0.8552 - val_loss: 0.3039 - val_acc: 0.8756\n",
            "Epoch 50/50\n",
            "1050/1050 [==============================] - 1s 693us/step - loss: 0.4085 - acc: 0.8590 - val_loss: 0.3263 - val_acc: 0.8733\n"
          ],
          "name": "stdout"
        }
      ]
    },
    {
      "cell_type": "code",
      "metadata": {
        "id": "7zVArEZIoNKf",
        "colab_type": "code",
        "colab": {
          "base_uri": "https://localhost:8080/",
          "height": 265
        },
        "outputId": "a9d38101-c2cc-4a46-c8eb-e46854d85e27"
      },
      "source": [
        "# plot training history\n",
        "from matplotlib import pyplot\n",
        "pyplot.plot(history.history['loss'], label='train')\n",
        "pyplot.plot(history.history['val_loss'], label='test')\n",
        "pyplot.legend()\n",
        "pyplot.show()"
      ],
      "execution_count": null,
      "outputs": [
        {
          "output_type": "display_data",
          "data": {
            "image/png": "[encoded data removed]",
            "text/plain": [
              "<Figure size 432x288 with 1 Axes>"
            ]
          },
          "metadata": {
            "tags": []
          }
        }
      ]
    },
    {
      "cell_type": "code",
      "metadata": {
        "id": "EUVaka3Tx1KL",
        "colab_type": "code",
        "colab": {
          "base_uri": "https://localhost:8080/",
          "height": 627
        },
        "outputId": "04368c0e-723e-48c0-a290-bef4677a15c4"
      },
      "source": [
        "print('\\n# TEST DATA #\\n')\n",
        "score_rnn = model.evaluate(X_val, y_val)\n",
        "print(\"%s: %.2f%%\" % (model.metrics_names[1], score_rnn[1]*100))\n",
        "prediction = model.predict_classes(X_val)\n",
        "\n",
        "ground_truth = y_val\n",
        "\n",
        "data = {\n",
        "    'prediction': prediction,\n",
        "    'ground_truth': ground_truth\n",
        "    \n",
        "}\n",
        "\n",
        "data = pd.DataFrame(data)\n",
        "# data.head(100)\n",
        "plotly.scatter(data,x='prediction',y='ground_truth', color=\"ground_truth\",\n",
        "                 hover_name='prediction', log_x=True)"
      ],
      "execution_count": null,
      "outputs": [
        {
          "output_type": "stream",
          "text": [
            "\n",
            "# TEST DATA #\n",
            "\n",
            "450/450 [==============================] - 0s 787us/step\n",
            "acc: 87.33%\n"
          ],
          "name": "stdout"
        },
        {
          "output_type": "display_data",
          "data": {
            "text/html": [
              "<html>\n",
              "<head><meta charset=\"utf-8\" /></head>\n",
              "<body>\n",
              "    <div>\n",
              "            <script src=\"https://cdnjs.cloudflare.com/ajax/libs/mathjax/2.7.5/MathJax.js?config=TeX-AMS-MML_SVG\"></script><script type=\"text/javascript\">if (window.MathJax) {MathJax.Hub.Config({SVG: {font: \"STIX-Web\"}});}</script>\n",
              "                <script type=\"text/javascript\">window.PlotlyConfig = {MathJaxConfig: 'local'};</script>\n",
              "        <script src=\"https://cdn.plot.ly/plotly-latest.min.js\"></script>    \n",
              "            <div id=\"b31e8d47-2844-4dc8-ae2c-916a8c9678d1\" class=\"plotly-graph-div\" style=\"height:525px; width:100%;\"></div>\n",
              "            <script type=\"text/javascript\">\n",
              "                \n",
              "                    window.PLOTLYENV=window.PLOTLYENV || {};\n",
              "                    \n",
              "                if (document.getElementById(\"b31e8d47-2844-4dc8-ae2c-916a8c9678d1\")) {\n",
              "                    Plotly.newPlot(\n",
              "                        'b31e8d47-2844-4dc8-ae2c-916a8c9678d1',\n",
              "                        [{\"hoverlabel\": {\"namelength\": 0}, \"hovertemplate\": \"<b>%{hovertext}</b><br><br>ground_truth=%{y}<br>prediction=%{x}\", \"hovertext\": [1.0, 1.0, 1.0, 1.0, 1.0, 1.0, 1.0, 1.0, 1.0, 1.0, 1.0, 1.0, 1.0, 1.0, 1.0, 0.0, 1.0, 1.0, 1.0, 1.0, 1.0, 1.0, 1.0, 1.0, 1.0, 1.0, 1.0, 1.0, 1.0, 1.0, 1.0, 1.0, 1.0, 1.0, 1.0, 1.0, 1.0, 1.0, 1.0, 1.0, 1.0, 1.0, 1.0, 1.0, 1.0, 1.0, 1.0, 1.0, 1.0, 1.0, 1.0, 1.0, 1.0, 1.0, 1.0, 1.0, 1.0, 1.0, 1.0, 1.0, 1.0, 1.0, 1.0, 1.0, 1.0, 1.0, 1.0, 1.0, 1.0, 1.0, 1.0, 1.0, 1.0, 1.0, 1.0, 1.0, 1.0, 1.0, 1.0, 1.0, 1.0, 1.0, 1.0, 1.0, 1.0, 1.0, 1.0, 1.0, 1.0, 1.0, 1.0, 1.0, 1.0, 1.0, 1.0, 1.0, 1.0, 1.0, 1.0, 1.0, 1.0, 1.0, 1.0, 1.0, 1.0, 1.0, 1.0, 1.0, 1.0, 1.0, 1.0, 1.0, 1.0, 1.0, 1.0, 1.0, 1.0, 1.0, 1.0, 1.0, 1.0, 1.0, 1.0, 1.0, 1.0, 1.0, 1.0, 1.0, 1.0, 1.0, 1.0, 1.0, 1.0, 1.0, 1.0, 1.0, 1.0, 1.0, 1.0, 1.0, 1.0, 1.0, 1.0, 1.0, 1.0, 1.0, 1.0, 1.0, 1.0, 1.0, 1.0, 1.0, 1.0], \"legendgroup\": \"ground_truth=1\", \"marker\": {\"color\": \"#636efa\", \"symbol\": \"circle\"}, \"mode\": \"markers\", \"name\": \"ground_truth=1\", \"showlegend\": true, \"type\": \"scatter\", \"x\": [1, 1, 1, 1, 1, 1, 1, 1, 1, 1, 1, 1, 1, 1, 1, 0, 1, 1, 1, 1, 1, 1, 1, 1, 1, 1, 1, 1, 1, 1, 1, 1, 1, 1, 1, 1, 1, 1, 1, 1, 1, 1, 1, 1, 1, 1, 1, 1, 1, 1, 1, 1, 1, 1, 1, 1, 1, 1, 1, 1, 1, 1, 1, 1, 1, 1, 1, 1, 1, 1, 1, 1, 1, 1, 1, 1, 1, 1, 1, 1, 1, 1, 1, 1, 1, 1, 1, 1, 1, 1, 1, 1, 1, 1, 1, 1, 1, 1, 1, 1, 1, 1, 1, 1, 1, 1, 1, 1, 1, 1, 1, 1, 1, 1, 1, 1, 1, 1, 1, 1, 1, 1, 1, 1, 1, 1, 1, 1, 1, 1, 1, 1, 1, 1, 1, 1, 1, 1, 1, 1, 1, 1, 1, 1, 1, 1, 1, 1, 1, 1, 1, 1, 1], \"xaxis\": \"x\", \"y\": [\"1\", \"1\", \"1\", \"1\", \"1\", \"1\", \"1\", \"1\", \"1\", \"1\", \"1\", \"1\", \"1\", \"1\", \"1\", \"1\", \"1\", \"1\", \"1\", \"1\", \"1\", \"1\", \"1\", \"1\", \"1\", \"1\", \"1\", \"1\", \"1\", \"1\", \"1\", \"1\", \"1\", \"1\", \"1\", \"1\", \"1\", \"1\", \"1\", \"1\", \"1\", \"1\", \"1\", \"1\", \"1\", \"1\", \"1\", \"1\", \"1\", \"1\", \"1\", \"1\", \"1\", \"1\", \"1\", \"1\", \"1\", \"1\", \"1\", \"1\", \"1\", \"1\", \"1\", \"1\", \"1\", \"1\", \"1\", \"1\", \"1\", \"1\", \"1\", \"1\", \"1\", \"1\", \"1\", \"1\", \"1\", \"1\", \"1\", \"1\", \"1\", \"1\", \"1\", \"1\", \"1\", \"1\", \"1\", \"1\", \"1\", \"1\", \"1\", \"1\", \"1\", \"1\", \"1\", \"1\", \"1\", \"1\", \"1\", \"1\", \"1\", \"1\", \"1\", \"1\", \"1\", \"1\", \"1\", \"1\", \"1\", \"1\", \"1\", \"1\", \"1\", \"1\", \"1\", \"1\", \"1\", \"1\", \"1\", \"1\", \"1\", \"1\", \"1\", \"1\", \"1\", \"1\", \"1\", \"1\", \"1\", \"1\", \"1\", \"1\", \"1\", \"1\", \"1\", \"1\", \"1\", \"1\", \"1\", \"1\", \"1\", \"1\", \"1\", \"1\", \"1\", \"1\", \"1\", \"1\", \"1\", \"1\", \"1\", \"1\", \"1\"], \"yaxis\": \"y\"}, {\"hoverlabel\": {\"namelength\": 0}, \"hovertemplate\": \"<b>%{hovertext}</b><br><br>ground_truth=%{y}<br>prediction=%{x}\", \"hovertext\": [0.0, 0.0, 0.0, 0.0, 0.0, 5.0, 0.0, 0.0, 0.0, 0.0, 0.0, 0.0, 0.0, 0.0, 0.0, 0.0, 0.0, 2.0, 0.0, 0.0, 0.0, 1.0, 0.0, 0.0, 0.0, 0.0, 0.0, 0.0, 2.0, 2.0, 0.0, 0.0, 0.0, 0.0, 0.0, 0.0, 0.0, 0.0, 0.0, 0.0, 0.0, 0.0, 0.0, 0.0, 0.0, 1.0, 0.0, 0.0, 0.0, 0.0, 0.0, 0.0, 0.0, 0.0, 0.0, 0.0, 0.0, 0.0, 0.0, 0.0, 0.0, 0.0, 0.0, 0.0, 0.0, 0.0, 0.0, 0.0, 0.0, 0.0, 0.0, 0.0, 2.0, 0.0, 2.0, 0.0, 0.0, 0.0, 0.0, 0.0, 0.0, 1.0, 0.0, 2.0, 0.0, 0.0, 0.0, 0.0, 0.0, 0.0, 0.0, 0.0, 0.0, 0.0, 0.0, 0.0, 0.0, 0.0, 0.0, 0.0, 0.0, 0.0, 0.0, 0.0, 0.0, 0.0, 0.0, 0.0, 0.0, 0.0, 1.0, 0.0, 0.0, 0.0, 2.0, 0.0, 0.0, 0.0, 0.0, 0.0, 0.0, 0.0, 0.0, 0.0, 0.0, 0.0, 0.0, 0.0, 0.0, 0.0, 1.0, 0.0, 0.0, 0.0, 0.0, 0.0, 0.0, 0.0, 0.0, 0.0], \"legendgroup\": \"ground_truth=0\", \"marker\": {\"color\": \"#EF553B\", \"symbol\": \"circle\"}, \"mode\": \"markers\", \"name\": \"ground_truth=0\", \"showlegend\": true, \"type\": \"scatter\", \"x\": [0, 0, 0, 0, 0, 5, 0, 0, 0, 0, 0, 0, 0, 0, 0, 0, 0, 2, 0, 0, 0, 1, 0, 0, 0, 0, 0, 0, 2, 2, 0, 0, 0, 0, 0, 0, 0, 0, 0, 0, 0, 0, 0, 0, 0, 1, 0, 0, 0, 0, 0, 0, 0, 0, 0, 0, 0, 0, 0, 0, 0, 0, 0, 0, 0, 0, 0, 0, 0, 0, 0, 0, 2, 0, 2, 0, 0, 0, 0, 0, 0, 1, 0, 2, 0, 0, 0, 0, 0, 0, 0, 0, 0, 0, 0, 0, 0, 0, 0, 0, 0, 0, 0, 0, 0, 0, 0, 0, 0, 0, 1, 0, 0, 0, 2, 0, 0, 0, 0, 0, 0, 0, 0, 0, 0, 0, 0, 0, 0, 0, 1, 0, 0, 0, 0, 0, 0, 0, 0, 0], \"xaxis\": \"x\", \"y\": [\"0\", \"0\", \"0\", \"0\", \"0\", \"0\", \"0\", \"0\", \"0\", \"0\", \"0\", \"0\", \"0\", \"0\", \"0\", \"0\", \"0\", \"0\", \"0\", \"0\", \"0\", \"0\", \"0\", \"0\", \"0\", \"0\", \"0\", \"0\", \"0\", \"0\", \"0\", \"0\", \"0\", \"0\", \"0\", \"0\", \"0\", \"0\", \"0\", \"0\", \"0\", \"0\", \"0\", \"0\", \"0\", \"0\", \"0\", \"0\", \"0\", \"0\", \"0\", \"0\", \"0\", \"0\", \"0\", \"0\", \"0\", \"0\", \"0\", \"0\", \"0\", \"0\", \"0\", \"0\", \"0\", \"0\", \"0\", \"0\", \"0\", \"0\", \"0\", \"0\", \"0\", \"0\", \"0\", \"0\", \"0\", \"0\", \"0\", \"0\", \"0\", \"0\", \"0\", \"0\", \"0\", \"0\", \"0\", \"0\", \"0\", \"0\", \"0\", \"0\", \"0\", \"0\", \"0\", \"0\", \"0\", \"0\", \"0\", \"0\", \"0\", \"0\", \"0\", \"0\", \"0\", \"0\", \"0\", \"0\", \"0\", \"0\", \"0\", \"0\", \"0\", \"0\", \"0\", \"0\", \"0\", \"0\", \"0\", \"0\", \"0\", \"0\", \"0\", \"0\", \"0\", \"0\", \"0\", \"0\", \"0\", \"0\", \"0\", \"0\", \"0\", \"0\", \"0\", \"0\", \"0\", \"0\", \"0\", \"0\"], \"yaxis\": \"y\"}, {\"hoverlabel\": {\"namelength\": 0}, \"hovertemplate\": \"<b>%{hovertext}</b><br><br>ground_truth=%{y}<br>prediction=%{x}\", \"hovertext\": [0.0, 0.0, 2.0, 2.0, 2.0, 2.0, 1.0, 2.0, 0.0, 2.0, 2.0, 2.0, 0.0, 1.0, 0.0, 2.0, 2.0, 2.0, 2.0, 2.0, 1.0, 2.0, 2.0, 2.0, 2.0, 0.0, 2.0, 0.0, 2.0, 2.0, 0.0, 2.0, 2.0, 2.0, 0.0, 2.0, 1.0, 0.0, 2.0, 2.0, 2.0, 0.0, 2.0, 2.0, 2.0, 2.0, 2.0, 2.0, 2.0, 1.0, 2.0, 2.0, 1.0, 2.0, 2.0, 2.0, 2.0, 2.0, 2.0, 2.0, 2.0, 2.0, 2.0, 2.0, 0.0, 2.0, 2.0, 0.0, 0.0, 0.0, 2.0, 2.0, 0.0, 2.0, 2.0, 2.0, 2.0, 2.0, 2.0, 2.0, 2.0, 2.0, 2.0, 2.0, 0.0, 2.0, 2.0, 0.0, 2.0, 2.0, 2.0, 2.0, 2.0, 2.0, 2.0, 2.0, 2.0, 2.0, 2.0, 2.0, 2.0, 2.0, 2.0, 2.0, 2.0, 0.0, 2.0, 0.0, 2.0, 1.0, 2.0, 1.0, 2.0, 2.0, 2.0, 2.0, 1.0, 2.0, 2.0, 2.0, 2.0, 0.0, 0.0, 2.0, 2.0, 2.0, 2.0, 0.0, 2.0, 1.0, 2.0, 2.0, 2.0, 2.0, 0.0, 2.0, 2.0, 2.0, 2.0, 2.0, 2.0, 0.0, 2.0, 2.0, 2.0, 2.0], \"legendgroup\": \"ground_truth=2\", \"marker\": {\"color\": \"#00cc96\", \"symbol\": \"circle\"}, \"mode\": \"markers\", \"name\": \"ground_truth=2\", \"showlegend\": true, \"type\": \"scatter\", \"x\": [0, 0, 2, 2, 2, 2, 1, 2, 0, 2, 2, 2, 0, 1, 0, 2, 2, 2, 2, 2, 1, 2, 2, 2, 2, 0, 2, 0, 2, 2, 0, 2, 2, 2, 0, 2, 1, 0, 2, 2, 2, 0, 2, 2, 2, 2, 2, 2, 2, 1, 2, 2, 1, 2, 2, 2, 2, 2, 2, 2, 2, 2, 2, 2, 0, 2, 2, 0, 0, 0, 2, 2, 0, 2, 2, 2, 2, 2, 2, 2, 2, 2, 2, 2, 0, 2, 2, 0, 2, 2, 2, 2, 2, 2, 2, 2, 2, 2, 2, 2, 2, 2, 2, 2, 2, 0, 2, 0, 2, 1, 2, 1, 2, 2, 2, 2, 1, 2, 2, 2, 2, 0, 0, 2, 2, 2, 2, 0, 2, 1, 2, 2, 2, 2, 0, 2, 2, 2, 2, 2, 2, 0, 2, 2, 2, 2], \"xaxis\": \"x\", \"y\": [\"2\", \"2\", \"2\", \"2\", \"2\", \"2\", \"2\", \"2\", \"2\", \"2\", \"2\", \"2\", \"2\", \"2\", \"2\", \"2\", \"2\", \"2\", \"2\", \"2\", \"2\", \"2\", \"2\", \"2\", \"2\", \"2\", \"2\", \"2\", \"2\", \"2\", \"2\", \"2\", \"2\", \"2\", \"2\", \"2\", \"2\", \"2\", \"2\", \"2\", \"2\", \"2\", \"2\", \"2\", \"2\", \"2\", \"2\", \"2\", \"2\", \"2\", \"2\", \"2\", \"2\", \"2\", \"2\", \"2\", \"2\", \"2\", \"2\", \"2\", \"2\", \"2\", \"2\", \"2\", \"2\", \"2\", \"2\", \"2\", \"2\", \"2\", \"2\", \"2\", \"2\", \"2\", \"2\", \"2\", \"2\", \"2\", \"2\", \"2\", \"2\", \"2\", \"2\", \"2\", \"2\", \"2\", \"2\", \"2\", \"2\", \"2\", \"2\", \"2\", \"2\", \"2\", \"2\", \"2\", \"2\", \"2\", \"2\", \"2\", \"2\", \"2\", \"2\", \"2\", \"2\", \"2\", \"2\", \"2\", \"2\", \"2\", \"2\", \"2\", \"2\", \"2\", \"2\", \"2\", \"2\", \"2\", \"2\", \"2\", \"2\", \"2\", \"2\", \"2\", \"2\", \"2\", \"2\", \"2\", \"2\", \"2\", \"2\", \"2\", \"2\", \"2\", \"2\", \"2\", \"2\", \"2\", \"2\", \"2\", \"2\", \"2\", \"2\", \"2\", \"2\", \"2\"], \"yaxis\": \"y\"}, {\"hoverlabel\": {\"namelength\": 0}, \"hovertemplate\": \"<b>%{hovertext}</b><br><br>ground_truth=%{y}<br>prediction=%{x}\", \"hovertext\": [3.0, 3.0, 3.0], \"legendgroup\": \"ground_truth=3\", \"marker\": {\"color\": \"#ab63fa\", \"symbol\": \"circle\"}, \"mode\": \"markers\", \"name\": \"ground_truth=3\", \"showlegend\": true, \"type\": \"scatter\", \"x\": [3, 3, 3], \"xaxis\": \"x\", \"y\": [\"3\", \"3\", \"3\"], \"yaxis\": \"y\"}, {\"hoverlabel\": {\"namelength\": 0}, \"hovertemplate\": \"<b>%{hovertext}</b><br><br>ground_truth=%{y}<br>prediction=%{x}\", \"hovertext\": [0.0, 0.0, 0.0], \"legendgroup\": \"ground_truth=5\", \"marker\": {\"color\": \"#FFA15A\", \"symbol\": \"circle\"}, \"mode\": \"markers\", \"name\": \"ground_truth=5\", \"showlegend\": true, \"type\": \"scatter\", \"x\": [0, 0, 0], \"xaxis\": \"x\", \"y\": [\"5\", \"5\", \"5\"], \"yaxis\": \"y\"}, {\"hoverlabel\": {\"namelength\": 0}, \"hovertemplate\": \"<b>%{hovertext}</b><br><br>ground_truth=%{y}<br>prediction=%{x}\", \"hovertext\": [3.0, 5.0, 3.0, 3.0, 3.0], \"legendgroup\": \"ground_truth=4\", \"marker\": {\"color\": \"#19d3f3\", \"symbol\": \"circle\"}, \"mode\": \"markers\", \"name\": \"ground_truth=4\", \"showlegend\": true, \"type\": \"scatter\", \"x\": [3, 5, 3, 3, 3], \"xaxis\": \"x\", \"y\": [\"4\", \"4\", \"4\", \"4\", \"4\"], \"yaxis\": \"y\"}],\n",
              "                        {\"legend\": {\"tracegroupgap\": 0}, \"margin\": {\"t\": 60}, \"template\": {\"data\": {\"bar\": [{\"error_x\": {\"color\": \"#2a3f5f\"}, \"error_y\": {\"color\": \"#2a3f5f\"}, \"marker\": {\"line\": {\"color\": \"#E5ECF6\", \"width\": 0.5}}, \"type\": \"bar\"}], \"barpolar\": [{\"marker\": {\"line\": {\"color\": \"#E5ECF6\", \"width\": 0.5}}, \"type\": \"barpolar\"}], \"carpet\": [{\"aaxis\": {\"endlinecolor\": \"#2a3f5f\", \"gridcolor\": \"white\", \"linecolor\": \"white\", \"minorgridcolor\": \"white\", \"startlinecolor\": \"#2a3f5f\"}, \"baxis\": {\"endlinecolor\": \"#2a3f5f\", \"gridcolor\": \"white\", \"linecolor\": \"white\", \"minorgridcolor\": \"white\", \"startlinecolor\": \"#2a3f5f\"}, \"type\": \"carpet\"}], \"choropleth\": [{\"colorbar\": {\"outlinewidth\": 0, \"ticks\": \"\"}, \"type\": \"choropleth\"}], \"contour\": [{\"colorbar\": {\"outlinewidth\": 0, \"ticks\": \"\"}, \"colorscale\": [[0.0, \"#0d0887\"], [0.1111111111111111, \"#46039f\"], [0.2222222222222222, \"#7201a8\"], [0.3333333333333333, \"#9c179e\"], [0.4444444444444444, \"#bd3786\"], [0.5555555555555556, \"#d8576b\"], [0.6666666666666666, \"#ed7953\"], [0.7777777777777778, \"#fb9f3a\"], [0.8888888888888888, \"#fdca26\"], [1.0, \"#f0f921\"]], \"type\": \"contour\"}], \"contourcarpet\": [{\"colorbar\": {\"outlinewidth\": 0, \"ticks\": \"\"}, \"type\": \"contourcarpet\"}], \"heatmap\": [{\"colorbar\": {\"outlinewidth\": 0, \"ticks\": \"\"}, \"colorscale\": [[0.0, \"#0d0887\"], [0.1111111111111111, \"#46039f\"], [0.2222222222222222, \"#7201a8\"], [0.3333333333333333, \"#9c179e\"], [0.4444444444444444, \"#bd3786\"], [0.5555555555555556, \"#d8576b\"], [0.6666666666666666, \"#ed7953\"], [0.7777777777777778, \"#fb9f3a\"], [0.8888888888888888, \"#fdca26\"], [1.0, \"#f0f921\"]], \"type\": \"heatmap\"}], \"heatmapgl\": [{\"colorbar\": {\"outlinewidth\": 0, \"ticks\": \"\"}, \"colorscale\": [[0.0, \"#0d0887\"], [0.1111111111111111, \"#46039f\"], [0.2222222222222222, \"#7201a8\"], [0.3333333333333333, \"#9c179e\"], [0.4444444444444444, \"#bd3786\"], [0.5555555555555556, \"#d8576b\"], [0.6666666666666666, \"#ed7953\"], [0.7777777777777778, \"#fb9f3a\"], [0.8888888888888888, \"#fdca26\"], [1.0, \"#f0f921\"]], \"type\": \"heatmapgl\"}], \"histogram\": [{\"marker\": {\"colorbar\": {\"outlinewidth\": 0, \"ticks\": \"\"}}, \"type\": \"histogram\"}], \"histogram2d\": [{\"colorbar\": {\"outlinewidth\": 0, \"ticks\": \"\"}, \"colorscale\": [[0.0, \"#0d0887\"], [0.1111111111111111, \"#46039f\"], [0.2222222222222222, \"#7201a8\"], [0.3333333333333333, \"#9c179e\"], [0.4444444444444444, \"#bd3786\"], [0.5555555555555556, \"#d8576b\"], [0.6666666666666666, \"#ed7953\"], [0.7777777777777778, \"#fb9f3a\"], [0.8888888888888888, \"#fdca26\"], [1.0, \"#f0f921\"]], \"type\": \"histogram2d\"}], \"histogram2dcontour\": [{\"colorbar\": {\"outlinewidth\": 0, \"ticks\": \"\"}, \"colorscale\": [[0.0, \"#0d0887\"], [0.1111111111111111, \"#46039f\"], [0.2222222222222222, \"#7201a8\"], [0.3333333333333333, \"#9c179e\"], [0.4444444444444444, \"#bd3786\"], [0.5555555555555556, \"#d8576b\"], [0.6666666666666666, \"#ed7953\"], [0.7777777777777778, \"#fb9f3a\"], [0.8888888888888888, \"#fdca26\"], [1.0, \"#f0f921\"]], \"type\": \"histogram2dcontour\"}], \"mesh3d\": [{\"colorbar\": {\"outlinewidth\": 0, \"ticks\": \"\"}, \"type\": \"mesh3d\"}], \"parcoords\": [{\"line\": {\"colorbar\": {\"outlinewidth\": 0, \"ticks\": \"\"}}, \"type\": \"parcoords\"}], \"pie\": [{\"automargin\": true, \"type\": \"pie\"}], \"scatter\": [{\"marker\": {\"colorbar\": {\"outlinewidth\": 0, \"ticks\": \"\"}}, \"type\": \"scatter\"}], \"scatter3d\": [{\"line\": {\"colorbar\": {\"outlinewidth\": 0, \"ticks\": \"\"}}, \"marker\": {\"colorbar\": {\"outlinewidth\": 0, \"ticks\": \"\"}}, \"type\": \"scatter3d\"}], \"scattercarpet\": [{\"marker\": {\"colorbar\": {\"outlinewidth\": 0, \"ticks\": \"\"}}, \"type\": \"scattercarpet\"}], \"scattergeo\": [{\"marker\": {\"colorbar\": {\"outlinewidth\": 0, \"ticks\": \"\"}}, \"type\": \"scattergeo\"}], \"scattergl\": [{\"marker\": {\"colorbar\": {\"outlinewidth\": 0, \"ticks\": \"\"}}, \"type\": \"scattergl\"}], \"scattermapbox\": [{\"marker\": {\"colorbar\": {\"outlinewidth\": 0, \"ticks\": \"\"}}, \"type\": \"scattermapbox\"}], \"scatterpolar\": [{\"marker\": {\"colorbar\": {\"outlinewidth\": 0, \"ticks\": \"\"}}, \"type\": \"scatterpolar\"}], \"scatterpolargl\": [{\"marker\": {\"colorbar\": {\"outlinewidth\": 0, \"ticks\": \"\"}}, \"type\": \"scatterpolargl\"}], \"scatterternary\": [{\"marker\": {\"colorbar\": {\"outlinewidth\": 0, \"ticks\": \"\"}}, \"type\": \"scatterternary\"}], \"surface\": [{\"colorbar\": {\"outlinewidth\": 0, \"ticks\": \"\"}, \"colorscale\": [[0.0, \"#0d0887\"], [0.1111111111111111, \"#46039f\"], [0.2222222222222222, \"#7201a8\"], [0.3333333333333333, \"#9c179e\"], [0.4444444444444444, \"#bd3786\"], [0.5555555555555556, \"#d8576b\"], [0.6666666666666666, \"#ed7953\"], [0.7777777777777778, \"#fb9f3a\"], [0.8888888888888888, \"#fdca26\"], [1.0, \"#f0f921\"]], \"type\": \"surface\"}], \"table\": [{\"cells\": {\"fill\": {\"color\": \"#EBF0F8\"}, \"line\": {\"color\": \"white\"}}, \"header\": {\"fill\": {\"color\": \"#C8D4E3\"}, \"line\": {\"color\": \"white\"}}, \"type\": \"table\"}]}, \"layout\": {\"annotationdefaults\": {\"arrowcolor\": \"#2a3f5f\", \"arrowhead\": 0, \"arrowwidth\": 1}, \"coloraxis\": {\"colorbar\": {\"outlinewidth\": 0, \"ticks\": \"\"}}, \"colorscale\": {\"diverging\": [[0, \"#8e0152\"], [0.1, \"#c51b7d\"], [0.2, \"#de77ae\"], [0.3, \"#f1b6da\"], [0.4, \"#fde0ef\"], [0.5, \"#f7f7f7\"], [0.6, \"#e6f5d0\"], [0.7, \"#b8e186\"], [0.8, \"#7fbc41\"], [0.9, \"#4d9221\"], [1, \"#276419\"]], \"sequential\": [[0.0, \"#0d0887\"], [0.1111111111111111, \"#46039f\"], [0.2222222222222222, \"#7201a8\"], [0.3333333333333333, \"#9c179e\"], [0.4444444444444444, \"#bd3786\"], [0.5555555555555556, \"#d8576b\"], [0.6666666666666666, \"#ed7953\"], [0.7777777777777778, \"#fb9f3a\"], [0.8888888888888888, \"#fdca26\"], [1.0, \"#f0f921\"]], \"sequentialminus\": [[0.0, \"#0d0887\"], [0.1111111111111111, \"#46039f\"], [0.2222222222222222, \"#7201a8\"], [0.3333333333333333, \"#9c179e\"], [0.4444444444444444, \"#bd3786\"], [0.5555555555555556, \"#d8576b\"], [0.6666666666666666, \"#ed7953\"], [0.7777777777777778, \"#fb9f3a\"], [0.8888888888888888, \"#fdca26\"], [1.0, \"#f0f921\"]]}, \"colorway\": [\"#636efa\", \"#EF553B\", \"#00cc96\", \"#ab63fa\", \"#FFA15A\", \"#19d3f3\", \"#FF6692\", \"#B6E880\", \"#FF97FF\", \"#FECB52\"], \"font\": {\"color\": \"#2a3f5f\"}, \"geo\": {\"bgcolor\": \"white\", \"lakecolor\": \"white\", \"landcolor\": \"#E5ECF6\", \"showlakes\": true, \"showland\": true, \"subunitcolor\": \"white\"}, \"hoverlabel\": {\"align\": \"left\"}, \"hovermode\": \"closest\", \"mapbox\": {\"style\": \"light\"}, \"paper_bgcolor\": \"white\", \"plot_bgcolor\": \"#E5ECF6\", \"polar\": {\"angularaxis\": {\"gridcolor\": \"white\", \"linecolor\": \"white\", \"ticks\": \"\"}, \"bgcolor\": \"#E5ECF6\", \"radialaxis\": {\"gridcolor\": \"white\", \"linecolor\": \"white\", \"ticks\": \"\"}}, \"scene\": {\"xaxis\": {\"backgroundcolor\": \"#E5ECF6\", \"gridcolor\": \"white\", \"gridwidth\": 2, \"linecolor\": \"white\", \"showbackground\": true, \"ticks\": \"\", \"zerolinecolor\": \"white\"}, \"yaxis\": {\"backgroundcolor\": \"#E5ECF6\", \"gridcolor\": \"white\", \"gridwidth\": 2, \"linecolor\": \"white\", \"showbackground\": true, \"ticks\": \"\", \"zerolinecolor\": \"white\"}, \"zaxis\": {\"backgroundcolor\": \"#E5ECF6\", \"gridcolor\": \"white\", \"gridwidth\": 2, \"linecolor\": \"white\", \"showbackground\": true, \"ticks\": \"\", \"zerolinecolor\": \"white\"}}, \"shapedefaults\": {\"line\": {\"color\": \"#2a3f5f\"}}, \"ternary\": {\"aaxis\": {\"gridcolor\": \"white\", \"linecolor\": \"white\", \"ticks\": \"\"}, \"baxis\": {\"gridcolor\": \"white\", \"linecolor\": \"white\", \"ticks\": \"\"}, \"bgcolor\": \"#E5ECF6\", \"caxis\": {\"gridcolor\": \"white\", \"linecolor\": \"white\", \"ticks\": \"\"}}, \"title\": {\"x\": 0.05}, \"xaxis\": {\"automargin\": true, \"gridcolor\": \"white\", \"linecolor\": \"white\", \"ticks\": \"\", \"title\": {\"standoff\": 15}, \"zerolinecolor\": \"white\", \"zerolinewidth\": 2}, \"yaxis\": {\"automargin\": true, \"gridcolor\": \"white\", \"linecolor\": \"white\", \"ticks\": \"\", \"title\": {\"standoff\": 15}, \"zerolinecolor\": \"white\", \"zerolinewidth\": 2}}}, \"xaxis\": {\"anchor\": \"y\", \"domain\": [0.0, 1.0], \"title\": {\"text\": \"prediction\"}, \"type\": \"log\"}, \"yaxis\": {\"anchor\": \"x\", \"categoryarray\": [\"4\", \"5\", \"3\", \"2\", \"0\", \"1\"], \"categoryorder\": \"array\", \"domain\": [0.0, 1.0], \"title\": {\"text\": \"ground_truth\"}}},\n",
              "                        {\"responsive\": true}\n",
              "                    ).then(function(){\n",
              "                            \n",
              "var gd = document.getElementById('b31e8d47-2844-4dc8-ae2c-916a8c9678d1');\n",
              "var x = new MutationObserver(function (mutations, observer) {{\n",
              "        var display = window.getComputedStyle(gd).display;\n",
              "        if (!display || display === 'none') {{\n",
              "            console.log([gd, 'removed!']);\n",
              "            Plotly.purge(gd);\n",
              "            observer.disconnect();\n",
              "        }}\n",
              "}});\n",
              "\n",
              "// Listen for the removal of the full notebook cells\n",
              "var notebookContainer = gd.closest('#notebook-container');\n",
              "if (notebookContainer) {{\n",
              "    x.observe(notebookContainer, {childList: true});\n",
              "}}\n",
              "\n",
              "// Listen for the clearing of the current output cell\n",
              "var outputEl = gd.closest('.output');\n",
              "if (outputEl) {{\n",
              "    x.observe(outputEl, {childList: true});\n",
              "}}\n",
              "\n",
              "                        })\n",
              "                };\n",
              "                \n",
              "            </script>\n",
              "        </div>\n",
              "</body>\n",
              "</html>"
            ]
          },
          "metadata": {
            "tags": []
          }
        }
      ]
    },
    {
      "cell_type": "code",
      "metadata": {
        "id": "pHMmKspEpihB",
        "colab_type": "code",
        "colab": {
          "base_uri": "https://localhost:8080/",
          "height": 419
        },
        "outputId": "d1a9aa8d-f34e-44d8-b44a-2ce1a27d9444"
      },
      "source": [
        "data.head(100)"
      ],
      "execution_count": null,
      "outputs": [
        {
          "output_type": "execute_result",
          "data": {
            "text/html": [
              "<div>\n",
              "<style scoped>\n",
              "    .dataframe tbody tr th:only-of-type {\n",
              "        vertical-align: middle;\n",
              "    }\n",
              "\n",
              "    .dataframe tbody tr th {\n",
              "        vertical-align: top;\n",
              "    }\n",
              "\n",
              "    .dataframe thead th {\n",
              "        text-align: right;\n",
              "    }\n",
              "</style>\n",
              "<table border=\"1\" class=\"dataframe\">\n",
              "  <thead>\n",
              "    <tr style=\"text-align: right;\">\n",
              "      <th></th>\n",
              "      <th>prediction</th>\n",
              "      <th>ground_truth</th>\n",
              "    </tr>\n",
              "  </thead>\n",
              "  <tbody>\n",
              "    <tr>\n",
              "      <th>1116</th>\n",
              "      <td>1</td>\n",
              "      <td>1</td>\n",
              "    </tr>\n",
              "    <tr>\n",
              "      <th>1368</th>\n",
              "      <td>0</td>\n",
              "      <td>0</td>\n",
              "    </tr>\n",
              "    <tr>\n",
              "      <th>422</th>\n",
              "      <td>0</td>\n",
              "      <td>2</td>\n",
              "    </tr>\n",
              "    <tr>\n",
              "      <th>413</th>\n",
              "      <td>0</td>\n",
              "      <td>2</td>\n",
              "    </tr>\n",
              "    <tr>\n",
              "      <th>451</th>\n",
              "      <td>0</td>\n",
              "      <td>0</td>\n",
              "    </tr>\n",
              "    <tr>\n",
              "      <th>...</th>\n",
              "      <td>...</td>\n",
              "      <td>...</td>\n",
              "    </tr>\n",
              "    <tr>\n",
              "      <th>479</th>\n",
              "      <td>0</td>\n",
              "      <td>0</td>\n",
              "    </tr>\n",
              "    <tr>\n",
              "      <th>426</th>\n",
              "      <td>0</td>\n",
              "      <td>2</td>\n",
              "    </tr>\n",
              "    <tr>\n",
              "      <th>123</th>\n",
              "      <td>2</td>\n",
              "      <td>2</td>\n",
              "    </tr>\n",
              "    <tr>\n",
              "      <th>1169</th>\n",
              "      <td>2</td>\n",
              "      <td>2</td>\n",
              "    </tr>\n",
              "    <tr>\n",
              "      <th>394</th>\n",
              "      <td>0</td>\n",
              "      <td>2</td>\n",
              "    </tr>\n",
              "  </tbody>\n",
              "</table>\n",
              "<p>100 rows × 2 columns</p>\n",
              "</div>"
            ],
            "text/plain": [
              "      prediction ground_truth\n",
              "1116           1            1\n",
              "1368           0            0\n",
              "422            0            2\n",
              "413            0            2\n",
              "451            0            0\n",
              "...          ...          ...\n",
              "479            0            0\n",
              "426            0            2\n",
              "123            2            2\n",
              "1169           2            2\n",
              "394            0            2\n",
              "\n",
              "[100 rows x 2 columns]"
            ]
          },
          "metadata": {
            "tags": []
          },
          "execution_count": 29
        }
      ]
    },
    {
      "cell_type": "markdown",
      "metadata": {
        "id": "mNSstFZDx6ok",
        "colab_type": "text"
      },
      "source": [
        "# Results"
      ]
    },
    {
      "cell_type": "code",
      "metadata": {
        "id": "LArelXoPuvFK",
        "colab_type": "code",
        "colab": {
          "base_uri": "https://localhost:8080/",
          "height": 542
        },
        "outputId": "8bd04bd2-ded1-43b3-ba90-bd7c1ce9ab21"
      },
      "source": [
        "import plotly.graph_objects as go\n",
        "x = ['cnn', 'lstm', 'mlp','Rnn']\n",
        "y = [score_cnn[1],score_lstm[1],score_mlp[1],score_rnn[1]]\n",
        "\n",
        "# Use textposition='auto' for direct text\n",
        "fig = go.Figure(data=[go.Bar(\n",
        "            x=x, y=y,\n",
        "            text=y,\n",
        "            textposition='auto',\n",
        "          \n",
        "            marker_color='lightsalmon',\n",
        "         \n",
        "        )])\n",
        "\n",
        "fig.show()"
      ],
      "execution_count": null,
      "outputs": [
        {
          "output_type": "display_data",
          "data": {
            "text/html": [
              "<html>\n",
              "<head><meta charset=\"utf-8\" /></head>\n",
              "<body>\n",
              "    <div>\n",
              "            <script src=\"https://cdnjs.cloudflare.com/ajax/libs/mathjax/2.7.5/MathJax.js?config=TeX-AMS-MML_SVG\"></script><script type=\"text/javascript\">if (window.MathJax) {MathJax.Hub.Config({SVG: {font: \"STIX-Web\"}});}</script>\n",
              "                <script type=\"text/javascript\">window.PlotlyConfig = {MathJaxConfig: 'local'};</script>\n",
              "        <script src=\"https://cdn.plot.ly/plotly-latest.min.js\"></script>    \n",
              "            <div id=\"bc70774c-0fb6-4cf9-9ff0-ec7d7a41877a\" class=\"plotly-graph-div\" style=\"height:525px; width:100%;\"></div>\n",
              "            <script type=\"text/javascript\">\n",
              "                \n",
              "                    window.PLOTLYENV=window.PLOTLYENV || {};\n",
              "                    \n",
              "                if (document.getElementById(\"bc70774c-0fb6-4cf9-9ff0-ec7d7a41877a\")) {\n",
              "                    Plotly.newPlot(\n",
              "                        'bc70774c-0fb6-4cf9-9ff0-ec7d7a41877a',\n",
              "                        [{\"marker\": {\"color\": \"lightsalmon\"}, \"text\": [\"0.9733333333333334\", \"0.8866666666666667\", \"0.9911111111111112\", \"0.8733333333333333\"], \"textposition\": \"auto\", \"type\": \"bar\", \"x\": [\"cnn\", \"lstm\", \"mlp\", \"Rnn\"], \"y\": [0.9733333333333334, 0.8866666666666667, 0.9911111111111112, 0.8733333333333333]}],\n",
              "                        {\"template\": {\"data\": {\"bar\": [{\"error_x\": {\"color\": \"#2a3f5f\"}, \"error_y\": {\"color\": \"#2a3f5f\"}, \"marker\": {\"line\": {\"color\": \"#E5ECF6\", \"width\": 0.5}}, \"type\": \"bar\"}], \"barpolar\": [{\"marker\": {\"line\": {\"color\": \"#E5ECF6\", \"width\": 0.5}}, \"type\": \"barpolar\"}], \"carpet\": [{\"aaxis\": {\"endlinecolor\": \"#2a3f5f\", \"gridcolor\": \"white\", \"linecolor\": \"white\", \"minorgridcolor\": \"white\", \"startlinecolor\": \"#2a3f5f\"}, \"baxis\": {\"endlinecolor\": \"#2a3f5f\", \"gridcolor\": \"white\", \"linecolor\": \"white\", \"minorgridcolor\": \"white\", \"startlinecolor\": \"#2a3f5f\"}, \"type\": \"carpet\"}], \"choropleth\": [{\"colorbar\": {\"outlinewidth\": 0, \"ticks\": \"\"}, \"type\": \"choropleth\"}], \"contour\": [{\"colorbar\": {\"outlinewidth\": 0, \"ticks\": \"\"}, \"colorscale\": [[0.0, \"#0d0887\"], [0.1111111111111111, \"#46039f\"], [0.2222222222222222, \"#7201a8\"], [0.3333333333333333, \"#9c179e\"], [0.4444444444444444, \"#bd3786\"], [0.5555555555555556, \"#d8576b\"], [0.6666666666666666, \"#ed7953\"], [0.7777777777777778, \"#fb9f3a\"], [0.8888888888888888, \"#fdca26\"], [1.0, \"#f0f921\"]], \"type\": \"contour\"}], \"contourcarpet\": [{\"colorbar\": {\"outlinewidth\": 0, \"ticks\": \"\"}, \"type\": \"contourcarpet\"}], \"heatmap\": [{\"colorbar\": {\"outlinewidth\": 0, \"ticks\": \"\"}, \"colorscale\": [[0.0, \"#0d0887\"], [0.1111111111111111, \"#46039f\"], [0.2222222222222222, \"#7201a8\"], [0.3333333333333333, \"#9c179e\"], [0.4444444444444444, \"#bd3786\"], [0.5555555555555556, \"#d8576b\"], [0.6666666666666666, \"#ed7953\"], [0.7777777777777778, \"#fb9f3a\"], [0.8888888888888888, \"#fdca26\"], [1.0, \"#f0f921\"]], \"type\": \"heatmap\"}], \"heatmapgl\": [{\"colorbar\": {\"outlinewidth\": 0, \"ticks\": \"\"}, \"colorscale\": [[0.0, \"#0d0887\"], [0.1111111111111111, \"#46039f\"], [0.2222222222222222, \"#7201a8\"], [0.3333333333333333, \"#9c179e\"], [0.4444444444444444, \"#bd3786\"], [0.5555555555555556, \"#d8576b\"], [0.6666666666666666, \"#ed7953\"], [0.7777777777777778, \"#fb9f3a\"], [0.8888888888888888, \"#fdca26\"], [1.0, \"#f0f921\"]], \"type\": \"heatmapgl\"}], \"histogram\": [{\"marker\": {\"colorbar\": {\"outlinewidth\": 0, \"ticks\": \"\"}}, \"type\": \"histogram\"}], \"histogram2d\": [{\"colorbar\": {\"outlinewidth\": 0, \"ticks\": \"\"}, \"colorscale\": [[0.0, \"#0d0887\"], [0.1111111111111111, \"#46039f\"], [0.2222222222222222, \"#7201a8\"], [0.3333333333333333, \"#9c179e\"], [0.4444444444444444, \"#bd3786\"], [0.5555555555555556, \"#d8576b\"], [0.6666666666666666, \"#ed7953\"], [0.7777777777777778, \"#fb9f3a\"], [0.8888888888888888, \"#fdca26\"], [1.0, \"#f0f921\"]], \"type\": \"histogram2d\"}], \"histogram2dcontour\": [{\"colorbar\": {\"outlinewidth\": 0, \"ticks\": \"\"}, \"colorscale\": [[0.0, \"#0d0887\"], [0.1111111111111111, \"#46039f\"], [0.2222222222222222, \"#7201a8\"], [0.3333333333333333, \"#9c179e\"], [0.4444444444444444, \"#bd3786\"], [0.5555555555555556, \"#d8576b\"], [0.6666666666666666, \"#ed7953\"], [0.7777777777777778, \"#fb9f3a\"], [0.8888888888888888, \"#fdca26\"], [1.0, \"#f0f921\"]], \"type\": \"histogram2dcontour\"}], \"mesh3d\": [{\"colorbar\": {\"outlinewidth\": 0, \"ticks\": \"\"}, \"type\": \"mesh3d\"}], \"parcoords\": [{\"line\": {\"colorbar\": {\"outlinewidth\": 0, \"ticks\": \"\"}}, \"type\": \"parcoords\"}], \"pie\": [{\"automargin\": true, \"type\": \"pie\"}], \"scatter\": [{\"marker\": {\"colorbar\": {\"outlinewidth\": 0, \"ticks\": \"\"}}, \"type\": \"scatter\"}], \"scatter3d\": [{\"line\": {\"colorbar\": {\"outlinewidth\": 0, \"ticks\": \"\"}}, \"marker\": {\"colorbar\": {\"outlinewidth\": 0, \"ticks\": \"\"}}, \"type\": \"scatter3d\"}], \"scattercarpet\": [{\"marker\": {\"colorbar\": {\"outlinewidth\": 0, \"ticks\": \"\"}}, \"type\": \"scattercarpet\"}], \"scattergeo\": [{\"marker\": {\"colorbar\": {\"outlinewidth\": 0, \"ticks\": \"\"}}, \"type\": \"scattergeo\"}], \"scattergl\": [{\"marker\": {\"colorbar\": {\"outlinewidth\": 0, \"ticks\": \"\"}}, \"type\": \"scattergl\"}], \"scattermapbox\": [{\"marker\": {\"colorbar\": {\"outlinewidth\": 0, \"ticks\": \"\"}}, \"type\": \"scattermapbox\"}], \"scatterpolar\": [{\"marker\": {\"colorbar\": {\"outlinewidth\": 0, \"ticks\": \"\"}}, \"type\": \"scatterpolar\"}], \"scatterpolargl\": [{\"marker\": {\"colorbar\": {\"outlinewidth\": 0, \"ticks\": \"\"}}, \"type\": \"scatterpolargl\"}], \"scatterternary\": [{\"marker\": {\"colorbar\": {\"outlinewidth\": 0, \"ticks\": \"\"}}, \"type\": \"scatterternary\"}], \"surface\": [{\"colorbar\": {\"outlinewidth\": 0, \"ticks\": \"\"}, \"colorscale\": [[0.0, \"#0d0887\"], [0.1111111111111111, \"#46039f\"], [0.2222222222222222, \"#7201a8\"], [0.3333333333333333, \"#9c179e\"], [0.4444444444444444, \"#bd3786\"], [0.5555555555555556, \"#d8576b\"], [0.6666666666666666, \"#ed7953\"], [0.7777777777777778, \"#fb9f3a\"], [0.8888888888888888, \"#fdca26\"], [1.0, \"#f0f921\"]], \"type\": \"surface\"}], \"table\": [{\"cells\": {\"fill\": {\"color\": \"#EBF0F8\"}, \"line\": {\"color\": \"white\"}}, \"header\": {\"fill\": {\"color\": \"#C8D4E3\"}, \"line\": {\"color\": \"white\"}}, \"type\": \"table\"}]}, \"layout\": {\"annotationdefaults\": {\"arrowcolor\": \"#2a3f5f\", \"arrowhead\": 0, \"arrowwidth\": 1}, \"coloraxis\": {\"colorbar\": {\"outlinewidth\": 0, \"ticks\": \"\"}}, \"colorscale\": {\"diverging\": [[0, \"#8e0152\"], [0.1, \"#c51b7d\"], [0.2, \"#de77ae\"], [0.3, \"#f1b6da\"], [0.4, \"#fde0ef\"], [0.5, \"#f7f7f7\"], [0.6, \"#e6f5d0\"], [0.7, \"#b8e186\"], [0.8, \"#7fbc41\"], [0.9, \"#4d9221\"], [1, \"#276419\"]], \"sequential\": [[0.0, \"#0d0887\"], [0.1111111111111111, \"#46039f\"], [0.2222222222222222, \"#7201a8\"], [0.3333333333333333, \"#9c179e\"], [0.4444444444444444, \"#bd3786\"], [0.5555555555555556, \"#d8576b\"], [0.6666666666666666, \"#ed7953\"], [0.7777777777777778, \"#fb9f3a\"], [0.8888888888888888, \"#fdca26\"], [1.0, \"#f0f921\"]], \"sequentialminus\": [[0.0, \"#0d0887\"], [0.1111111111111111, \"#46039f\"], [0.2222222222222222, \"#7201a8\"], [0.3333333333333333, \"#9c179e\"], [0.4444444444444444, \"#bd3786\"], [0.5555555555555556, \"#d8576b\"], [0.6666666666666666, \"#ed7953\"], [0.7777777777777778, \"#fb9f3a\"], [0.8888888888888888, \"#fdca26\"], [1.0, \"#f0f921\"]]}, \"colorway\": [\"#636efa\", \"#EF553B\", \"#00cc96\", \"#ab63fa\", \"#FFA15A\", \"#19d3f3\", \"#FF6692\", \"#B6E880\", \"#FF97FF\", \"#FECB52\"], \"font\": {\"color\": \"#2a3f5f\"}, \"geo\": {\"bgcolor\": \"white\", \"lakecolor\": \"white\", \"landcolor\": \"#E5ECF6\", \"showlakes\": true, \"showland\": true, \"subunitcolor\": \"white\"}, \"hoverlabel\": {\"align\": \"left\"}, \"hovermode\": \"closest\", \"mapbox\": {\"style\": \"light\"}, \"paper_bgcolor\": \"white\", \"plot_bgcolor\": \"#E5ECF6\", \"polar\": {\"angularaxis\": {\"gridcolor\": \"white\", \"linecolor\": \"white\", \"ticks\": \"\"}, \"bgcolor\": \"#E5ECF6\", \"radialaxis\": {\"gridcolor\": \"white\", \"linecolor\": \"white\", \"ticks\": \"\"}}, \"scene\": {\"xaxis\": {\"backgroundcolor\": \"#E5ECF6\", \"gridcolor\": \"white\", \"gridwidth\": 2, \"linecolor\": \"white\", \"showbackground\": true, \"ticks\": \"\", \"zerolinecolor\": \"white\"}, \"yaxis\": {\"backgroundcolor\": \"#E5ECF6\", \"gridcolor\": \"white\", \"gridwidth\": 2, \"linecolor\": \"white\", \"showbackground\": true, \"ticks\": \"\", \"zerolinecolor\": \"white\"}, \"zaxis\": {\"backgroundcolor\": \"#E5ECF6\", \"gridcolor\": \"white\", \"gridwidth\": 2, \"linecolor\": \"white\", \"showbackground\": true, \"ticks\": \"\", \"zerolinecolor\": \"white\"}}, \"shapedefaults\": {\"line\": {\"color\": \"#2a3f5f\"}}, \"ternary\": {\"aaxis\": {\"gridcolor\": \"white\", \"linecolor\": \"white\", \"ticks\": \"\"}, \"baxis\": {\"gridcolor\": \"white\", \"linecolor\": \"white\", \"ticks\": \"\"}, \"bgcolor\": \"#E5ECF6\", \"caxis\": {\"gridcolor\": \"white\", \"linecolor\": \"white\", \"ticks\": \"\"}}, \"title\": {\"x\": 0.05}, \"xaxis\": {\"automargin\": true, \"gridcolor\": \"white\", \"linecolor\": \"white\", \"ticks\": \"\", \"title\": {\"standoff\": 15}, \"zerolinecolor\": \"white\", \"zerolinewidth\": 2}, \"yaxis\": {\"automargin\": true, \"gridcolor\": \"white\", \"linecolor\": \"white\", \"ticks\": \"\", \"title\": {\"standoff\": 15}, \"zerolinecolor\": \"white\", \"zerolinewidth\": 2}}}},\n",
              "                        {\"responsive\": true}\n",
              "                    ).then(function(){\n",
              "                            \n",
              "var gd = document.getElementById('bc70774c-0fb6-4cf9-9ff0-ec7d7a41877a');\n",
              "var x = new MutationObserver(function (mutations, observer) {{\n",
              "        var display = window.getComputedStyle(gd).display;\n",
              "        if (!display || display === 'none') {{\n",
              "            console.log([gd, 'removed!']);\n",
              "            Plotly.purge(gd);\n",
              "            observer.disconnect();\n",
              "        }}\n",
              "}});\n",
              "\n",
              "// Listen for the removal of the full notebook cells\n",
              "var notebookContainer = gd.closest('#notebook-container');\n",
              "if (notebookContainer) {{\n",
              "    x.observe(notebookContainer, {childList: true});\n",
              "}}\n",
              "\n",
              "// Listen for the clearing of the current output cell\n",
              "var outputEl = gd.closest('.output');\n",
              "if (outputEl) {{\n",
              "    x.observe(outputEl, {childList: true});\n",
              "}}\n",
              "\n",
              "                        })\n",
              "                };\n",
              "                \n",
              "            </script>\n",
              "        </div>\n",
              "</body>\n",
              "</html>"
            ]
          },
          "metadata": {
            "tags": []
          }
        }
      ]
    },
    {
      "cell_type": "code",
      "metadata": {
        "id": "A6P2XNWULAGx",
        "colab_type": "code",
        "colab": {}
      },
      "source": [
        ""
      ],
      "execution_count": null,
      "outputs": []
    }
  ]
}